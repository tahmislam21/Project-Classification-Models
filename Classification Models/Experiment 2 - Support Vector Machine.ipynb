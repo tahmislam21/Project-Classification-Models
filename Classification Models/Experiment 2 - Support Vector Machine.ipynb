{
 "cells": [
  {
   "cell_type": "markdown",
   "id": "962cf407",
   "metadata": {},
   "source": [
    "## Experiment 2: Binary Classification with SVM\n",
    "\n",
    "In this exercise, we will train a binary classifier using Support Vector Machine.\n",
    "\n",
    "The steps are:\n",
    "1.   Load and explore dataset\n",
    "2.   Data preparation\n",
    "3.   Split data\n",
    "4.   Scale data\n",
    "5.   Assess baseline model\n",
    "6.   Train SVC with default Hyperparameter\n",
    "7.   Reduce SVC Overfitting with class weights\n",
    "8.   Reduce SVC Overfitting with C Hyperparameter\n",
    "9.   Reduce SVC Overfitting with C Hyperparameter\n",
    "10.  Reduce SVC Overfitting with C Hyperparameter\n",
    "11.  Assess model on Testing Set"
   ]
  },
  {
   "cell_type": "markdown",
   "id": "a792acd9",
   "metadata": {},
   "source": [
    "### 1. Load and Explore Dataset"
   ]
  },
  {
   "cell_type": "code",
   "execution_count": 1,
   "id": "7c227f57",
   "metadata": {},
   "outputs": [],
   "source": [
    "import pandas as pd\n",
    "import numpy as np"
   ]
  },
  {
   "cell_type": "markdown",
   "id": "b84d8eca",
   "metadata": {},
   "source": [
    "**[1.1]** Loading Dataset"
   ]
  },
  {
   "cell_type": "code",
   "execution_count": 2,
   "id": "a26df64a",
   "metadata": {},
   "outputs": [],
   "source": [
    "url='https://drive.google.com/file/d/177p-Vaa2__BtaxNCmd4YGBv7zfENUNmy/view?usp=sharing'\n",
    "url='https://drive.google.com/uc?id=' + url.split('/')[-2]\n",
    "df = pd.read_csv(url, index_col = False)"
   ]
  },
  {
   "cell_type": "markdown",
   "id": "87fc5473",
   "metadata": {},
   "source": [
    "**[1.2]** Dataset Exploration"
   ]
  },
  {
   "cell_type": "code",
   "execution_count": 3,
   "id": "869dbee6",
   "metadata": {},
   "outputs": [
    {
     "data": {
      "text/html": [
       "<div>\n",
       "<style scoped>\n",
       "    .dataframe tbody tr th:only-of-type {\n",
       "        vertical-align: middle;\n",
       "    }\n",
       "\n",
       "    .dataframe tbody tr th {\n",
       "        vertical-align: top;\n",
       "    }\n",
       "\n",
       "    .dataframe thead th {\n",
       "        text-align: right;\n",
       "    }\n",
       "</style>\n",
       "<table border=\"1\" class=\"dataframe\">\n",
       "  <thead>\n",
       "    <tr style=\"text-align: right;\">\n",
       "      <th></th>\n",
       "      <th>ID</th>\n",
       "      <th>Target</th>\n",
       "      <th>age_band</th>\n",
       "      <th>gender</th>\n",
       "      <th>car_model</th>\n",
       "      <th>car_segment</th>\n",
       "      <th>age_of_vehicle_years</th>\n",
       "      <th>sched_serv_warr</th>\n",
       "      <th>non_sched_serv_warr</th>\n",
       "      <th>sched_serv_paid</th>\n",
       "      <th>non_sched_serv_paid</th>\n",
       "      <th>total_paid_services</th>\n",
       "      <th>total_services</th>\n",
       "      <th>mth_since_last_serv</th>\n",
       "      <th>annualised_mileage</th>\n",
       "      <th>num_dealers_visited</th>\n",
       "      <th>num_serv_dealer_purchased</th>\n",
       "    </tr>\n",
       "  </thead>\n",
       "  <tbody>\n",
       "    <tr>\n",
       "      <th>0</th>\n",
       "      <td>1</td>\n",
       "      <td>0</td>\n",
       "      <td>3. 35 to 44</td>\n",
       "      <td>Male</td>\n",
       "      <td>model_1</td>\n",
       "      <td>LCV</td>\n",
       "      <td>9</td>\n",
       "      <td>2</td>\n",
       "      <td>10</td>\n",
       "      <td>3</td>\n",
       "      <td>7</td>\n",
       "      <td>5</td>\n",
       "      <td>6</td>\n",
       "      <td>9</td>\n",
       "      <td>8</td>\n",
       "      <td>10</td>\n",
       "      <td>4</td>\n",
       "    </tr>\n",
       "    <tr>\n",
       "      <th>1</th>\n",
       "      <td>2</td>\n",
       "      <td>0</td>\n",
       "      <td>NaN</td>\n",
       "      <td>NaN</td>\n",
       "      <td>model_2</td>\n",
       "      <td>Small/Medium</td>\n",
       "      <td>6</td>\n",
       "      <td>10</td>\n",
       "      <td>3</td>\n",
       "      <td>10</td>\n",
       "      <td>4</td>\n",
       "      <td>9</td>\n",
       "      <td>10</td>\n",
       "      <td>6</td>\n",
       "      <td>10</td>\n",
       "      <td>7</td>\n",
       "      <td>10</td>\n",
       "    </tr>\n",
       "    <tr>\n",
       "      <th>2</th>\n",
       "      <td>3</td>\n",
       "      <td>0</td>\n",
       "      <td>NaN</td>\n",
       "      <td>Male</td>\n",
       "      <td>model_3</td>\n",
       "      <td>Large/SUV</td>\n",
       "      <td>9</td>\n",
       "      <td>10</td>\n",
       "      <td>9</td>\n",
       "      <td>10</td>\n",
       "      <td>9</td>\n",
       "      <td>10</td>\n",
       "      <td>10</td>\n",
       "      <td>7</td>\n",
       "      <td>10</td>\n",
       "      <td>6</td>\n",
       "      <td>10</td>\n",
       "    </tr>\n",
       "    <tr>\n",
       "      <th>3</th>\n",
       "      <td>5</td>\n",
       "      <td>0</td>\n",
       "      <td>NaN</td>\n",
       "      <td>NaN</td>\n",
       "      <td>model_3</td>\n",
       "      <td>Large/SUV</td>\n",
       "      <td>5</td>\n",
       "      <td>8</td>\n",
       "      <td>5</td>\n",
       "      <td>8</td>\n",
       "      <td>4</td>\n",
       "      <td>5</td>\n",
       "      <td>6</td>\n",
       "      <td>4</td>\n",
       "      <td>10</td>\n",
       "      <td>9</td>\n",
       "      <td>7</td>\n",
       "    </tr>\n",
       "    <tr>\n",
       "      <th>4</th>\n",
       "      <td>6</td>\n",
       "      <td>0</td>\n",
       "      <td>NaN</td>\n",
       "      <td>Female</td>\n",
       "      <td>model_2</td>\n",
       "      <td>Small/Medium</td>\n",
       "      <td>8</td>\n",
       "      <td>9</td>\n",
       "      <td>4</td>\n",
       "      <td>10</td>\n",
       "      <td>7</td>\n",
       "      <td>9</td>\n",
       "      <td>8</td>\n",
       "      <td>5</td>\n",
       "      <td>4</td>\n",
       "      <td>4</td>\n",
       "      <td>9</td>\n",
       "    </tr>\n",
       "  </tbody>\n",
       "</table>\n",
       "</div>"
      ],
      "text/plain": [
       "   ID  Target     age_band  gender car_model   car_segment  \\\n",
       "0   1       0  3. 35 to 44    Male   model_1           LCV   \n",
       "1   2       0          NaN     NaN   model_2  Small/Medium   \n",
       "2   3       0          NaN    Male   model_3     Large/SUV   \n",
       "3   5       0          NaN     NaN   model_3     Large/SUV   \n",
       "4   6       0          NaN  Female   model_2  Small/Medium   \n",
       "\n",
       "   age_of_vehicle_years  sched_serv_warr  non_sched_serv_warr  \\\n",
       "0                     9                2                   10   \n",
       "1                     6               10                    3   \n",
       "2                     9               10                    9   \n",
       "3                     5                8                    5   \n",
       "4                     8                9                    4   \n",
       "\n",
       "   sched_serv_paid  non_sched_serv_paid  total_paid_services  total_services  \\\n",
       "0                3                    7                    5               6   \n",
       "1               10                    4                    9              10   \n",
       "2               10                    9                   10              10   \n",
       "3                8                    4                    5               6   \n",
       "4               10                    7                    9               8   \n",
       "\n",
       "   mth_since_last_serv  annualised_mileage  num_dealers_visited  \\\n",
       "0                    9                   8                   10   \n",
       "1                    6                  10                    7   \n",
       "2                    7                  10                    6   \n",
       "3                    4                  10                    9   \n",
       "4                    5                   4                    4   \n",
       "\n",
       "   num_serv_dealer_purchased  \n",
       "0                          4  \n",
       "1                         10  \n",
       "2                         10  \n",
       "3                          7  \n",
       "4                          9  "
      ]
     },
     "execution_count": 3,
     "metadata": {},
     "output_type": "execute_result"
    }
   ],
   "source": [
    "df.head()"
   ]
  },
  {
   "cell_type": "code",
   "execution_count": 4,
   "id": "da84730c",
   "metadata": {},
   "outputs": [
    {
     "name": "stdout",
     "output_type": "stream",
     "text": [
      "<class 'pandas.core.frame.DataFrame'>\n",
      "RangeIndex: 131337 entries, 0 to 131336\n",
      "Data columns (total 17 columns):\n",
      " #   Column                     Non-Null Count   Dtype \n",
      "---  ------                     --------------   ----- \n",
      " 0   ID                         131337 non-null  int64 \n",
      " 1   Target                     131337 non-null  int64 \n",
      " 2   age_band                   18962 non-null   object\n",
      " 3   gender                     62029 non-null   object\n",
      " 4   car_model                  131337 non-null  object\n",
      " 5   car_segment                131337 non-null  object\n",
      " 6   age_of_vehicle_years       131337 non-null  int64 \n",
      " 7   sched_serv_warr            131337 non-null  int64 \n",
      " 8   non_sched_serv_warr        131337 non-null  int64 \n",
      " 9   sched_serv_paid            131337 non-null  int64 \n",
      " 10  non_sched_serv_paid        131337 non-null  int64 \n",
      " 11  total_paid_services        131337 non-null  int64 \n",
      " 12  total_services             131337 non-null  int64 \n",
      " 13  mth_since_last_serv        131337 non-null  int64 \n",
      " 14  annualised_mileage         131337 non-null  int64 \n",
      " 15  num_dealers_visited        131337 non-null  int64 \n",
      " 16  num_serv_dealer_purchased  131337 non-null  int64 \n",
      "dtypes: int64(13), object(4)\n",
      "memory usage: 17.0+ MB\n"
     ]
    }
   ],
   "source": [
    "df.info()"
   ]
  },
  {
   "cell_type": "code",
   "execution_count": 5,
   "id": "06e1827f",
   "metadata": {},
   "outputs": [
    {
     "name": "stdout",
     "output_type": "stream",
     "text": [
      " Percentage Null values - 'age_band' : 85.56233201611123\n",
      " Percentage Null values - 'gender' : 52.77111552723147\n"
     ]
    }
   ],
   "source": [
    "print( f\" Percentage Null values - 'age_band' : {100 * df['age_band'].isna().sum() / len(df)}\" )\n",
    "print( f\" Percentage Null values - 'gender' : {100 * df['gender'].isna().sum() / len(df)}\" )"
   ]
  },
  {
   "cell_type": "code",
   "execution_count": 6,
   "id": "7697dc28",
   "metadata": {},
   "outputs": [
    {
     "data": {
      "text/html": [
       "<div>\n",
       "<style scoped>\n",
       "    .dataframe tbody tr th:only-of-type {\n",
       "        vertical-align: middle;\n",
       "    }\n",
       "\n",
       "    .dataframe tbody tr th {\n",
       "        vertical-align: top;\n",
       "    }\n",
       "\n",
       "    .dataframe thead th {\n",
       "        text-align: right;\n",
       "    }\n",
       "</style>\n",
       "<table border=\"1\" class=\"dataframe\">\n",
       "  <thead>\n",
       "    <tr style=\"text-align: right;\">\n",
       "      <th></th>\n",
       "      <th>ID</th>\n",
       "      <th>Target</th>\n",
       "      <th>age_band</th>\n",
       "      <th>gender</th>\n",
       "      <th>car_model</th>\n",
       "      <th>car_segment</th>\n",
       "      <th>age_of_vehicle_years</th>\n",
       "      <th>sched_serv_warr</th>\n",
       "      <th>non_sched_serv_warr</th>\n",
       "      <th>sched_serv_paid</th>\n",
       "      <th>non_sched_serv_paid</th>\n",
       "      <th>total_paid_services</th>\n",
       "      <th>total_services</th>\n",
       "      <th>mth_since_last_serv</th>\n",
       "      <th>annualised_mileage</th>\n",
       "      <th>num_dealers_visited</th>\n",
       "      <th>num_serv_dealer_purchased</th>\n",
       "    </tr>\n",
       "  </thead>\n",
       "  <tbody>\n",
       "  </tbody>\n",
       "</table>\n",
       "</div>"
      ],
      "text/plain": [
       "Empty DataFrame\n",
       "Columns: [ID, Target, age_band, gender, car_model, car_segment, age_of_vehicle_years, sched_serv_warr, non_sched_serv_warr, sched_serv_paid, non_sched_serv_paid, total_paid_services, total_services, mth_since_last_serv, annualised_mileage, num_dealers_visited, num_serv_dealer_purchased]\n",
       "Index: []"
      ]
     },
     "execution_count": 6,
     "metadata": {},
     "output_type": "execute_result"
    }
   ],
   "source": [
    "df[df.duplicated()]"
   ]
  },
  {
   "cell_type": "code",
   "execution_count": 7,
   "id": "98d15ada",
   "metadata": {},
   "outputs": [
    {
     "data": {
      "text/html": [
       "<div>\n",
       "<style scoped>\n",
       "    .dataframe tbody tr th:only-of-type {\n",
       "        vertical-align: middle;\n",
       "    }\n",
       "\n",
       "    .dataframe tbody tr th {\n",
       "        vertical-align: top;\n",
       "    }\n",
       "\n",
       "    .dataframe thead th {\n",
       "        text-align: right;\n",
       "    }\n",
       "</style>\n",
       "<table border=\"1\" class=\"dataframe\">\n",
       "  <thead>\n",
       "    <tr style=\"text-align: right;\">\n",
       "      <th></th>\n",
       "      <th>ID</th>\n",
       "      <th>Target</th>\n",
       "      <th>age_of_vehicle_years</th>\n",
       "      <th>sched_serv_warr</th>\n",
       "      <th>non_sched_serv_warr</th>\n",
       "      <th>sched_serv_paid</th>\n",
       "      <th>non_sched_serv_paid</th>\n",
       "      <th>total_paid_services</th>\n",
       "      <th>total_services</th>\n",
       "      <th>mth_since_last_serv</th>\n",
       "      <th>annualised_mileage</th>\n",
       "      <th>num_dealers_visited</th>\n",
       "      <th>num_serv_dealer_purchased</th>\n",
       "    </tr>\n",
       "  </thead>\n",
       "  <tbody>\n",
       "    <tr>\n",
       "      <th>count</th>\n",
       "      <td>131337.000000</td>\n",
       "      <td>131337.000000</td>\n",
       "      <td>131337.000000</td>\n",
       "      <td>131337.000000</td>\n",
       "      <td>131337.000000</td>\n",
       "      <td>131337.000000</td>\n",
       "      <td>131337.000000</td>\n",
       "      <td>131337.000000</td>\n",
       "      <td>131337.000000</td>\n",
       "      <td>131337.000000</td>\n",
       "      <td>131337.000000</td>\n",
       "      <td>131337.000000</td>\n",
       "      <td>131337.000000</td>\n",
       "    </tr>\n",
       "    <tr>\n",
       "      <th>mean</th>\n",
       "      <td>77097.384180</td>\n",
       "      <td>0.026809</td>\n",
       "      <td>5.493022</td>\n",
       "      <td>5.452500</td>\n",
       "      <td>5.472517</td>\n",
       "      <td>5.452287</td>\n",
       "      <td>5.497050</td>\n",
       "      <td>5.481692</td>\n",
       "      <td>5.454967</td>\n",
       "      <td>5.469807</td>\n",
       "      <td>5.502836</td>\n",
       "      <td>5.485438</td>\n",
       "      <td>5.480778</td>\n",
       "    </tr>\n",
       "    <tr>\n",
       "      <th>std</th>\n",
       "      <td>44501.636704</td>\n",
       "      <td>0.161525</td>\n",
       "      <td>2.843299</td>\n",
       "      <td>2.884328</td>\n",
       "      <td>2.870665</td>\n",
       "      <td>2.886528</td>\n",
       "      <td>2.878699</td>\n",
       "      <td>2.880408</td>\n",
       "      <td>2.875961</td>\n",
       "      <td>2.859756</td>\n",
       "      <td>2.854896</td>\n",
       "      <td>2.876772</td>\n",
       "      <td>2.867524</td>\n",
       "    </tr>\n",
       "    <tr>\n",
       "      <th>min</th>\n",
       "      <td>1.000000</td>\n",
       "      <td>0.000000</td>\n",
       "      <td>1.000000</td>\n",
       "      <td>1.000000</td>\n",
       "      <td>1.000000</td>\n",
       "      <td>1.000000</td>\n",
       "      <td>1.000000</td>\n",
       "      <td>1.000000</td>\n",
       "      <td>1.000000</td>\n",
       "      <td>1.000000</td>\n",
       "      <td>1.000000</td>\n",
       "      <td>1.000000</td>\n",
       "      <td>1.000000</td>\n",
       "    </tr>\n",
       "    <tr>\n",
       "      <th>25%</th>\n",
       "      <td>38563.000000</td>\n",
       "      <td>0.000000</td>\n",
       "      <td>3.000000</td>\n",
       "      <td>3.000000</td>\n",
       "      <td>3.000000</td>\n",
       "      <td>3.000000</td>\n",
       "      <td>3.000000</td>\n",
       "      <td>3.000000</td>\n",
       "      <td>3.000000</td>\n",
       "      <td>3.000000</td>\n",
       "      <td>3.000000</td>\n",
       "      <td>3.000000</td>\n",
       "      <td>3.000000</td>\n",
       "    </tr>\n",
       "    <tr>\n",
       "      <th>50%</th>\n",
       "      <td>77132.000000</td>\n",
       "      <td>0.000000</td>\n",
       "      <td>5.000000</td>\n",
       "      <td>5.000000</td>\n",
       "      <td>5.000000</td>\n",
       "      <td>5.000000</td>\n",
       "      <td>5.000000</td>\n",
       "      <td>5.000000</td>\n",
       "      <td>5.000000</td>\n",
       "      <td>5.000000</td>\n",
       "      <td>5.000000</td>\n",
       "      <td>5.000000</td>\n",
       "      <td>5.000000</td>\n",
       "    </tr>\n",
       "    <tr>\n",
       "      <th>75%</th>\n",
       "      <td>115668.000000</td>\n",
       "      <td>0.000000</td>\n",
       "      <td>8.000000</td>\n",
       "      <td>8.000000</td>\n",
       "      <td>8.000000</td>\n",
       "      <td>8.000000</td>\n",
       "      <td>8.000000</td>\n",
       "      <td>8.000000</td>\n",
       "      <td>8.000000</td>\n",
       "      <td>8.000000</td>\n",
       "      <td>8.000000</td>\n",
       "      <td>8.000000</td>\n",
       "      <td>8.000000</td>\n",
       "    </tr>\n",
       "    <tr>\n",
       "      <th>max</th>\n",
       "      <td>154139.000000</td>\n",
       "      <td>1.000000</td>\n",
       "      <td>10.000000</td>\n",
       "      <td>10.000000</td>\n",
       "      <td>10.000000</td>\n",
       "      <td>10.000000</td>\n",
       "      <td>10.000000</td>\n",
       "      <td>10.000000</td>\n",
       "      <td>10.000000</td>\n",
       "      <td>10.000000</td>\n",
       "      <td>10.000000</td>\n",
       "      <td>10.000000</td>\n",
       "      <td>10.000000</td>\n",
       "    </tr>\n",
       "  </tbody>\n",
       "</table>\n",
       "</div>"
      ],
      "text/plain": [
       "                  ID         Target  age_of_vehicle_years  sched_serv_warr  \\\n",
       "count  131337.000000  131337.000000         131337.000000    131337.000000   \n",
       "mean    77097.384180       0.026809              5.493022         5.452500   \n",
       "std     44501.636704       0.161525              2.843299         2.884328   \n",
       "min         1.000000       0.000000              1.000000         1.000000   \n",
       "25%     38563.000000       0.000000              3.000000         3.000000   \n",
       "50%     77132.000000       0.000000              5.000000         5.000000   \n",
       "75%    115668.000000       0.000000              8.000000         8.000000   \n",
       "max    154139.000000       1.000000             10.000000        10.000000   \n",
       "\n",
       "       non_sched_serv_warr  sched_serv_paid  non_sched_serv_paid  \\\n",
       "count        131337.000000    131337.000000        131337.000000   \n",
       "mean              5.472517         5.452287             5.497050   \n",
       "std               2.870665         2.886528             2.878699   \n",
       "min               1.000000         1.000000             1.000000   \n",
       "25%               3.000000         3.000000             3.000000   \n",
       "50%               5.000000         5.000000             5.000000   \n",
       "75%               8.000000         8.000000             8.000000   \n",
       "max              10.000000        10.000000            10.000000   \n",
       "\n",
       "       total_paid_services  total_services  mth_since_last_serv  \\\n",
       "count        131337.000000   131337.000000        131337.000000   \n",
       "mean              5.481692        5.454967             5.469807   \n",
       "std               2.880408        2.875961             2.859756   \n",
       "min               1.000000        1.000000             1.000000   \n",
       "25%               3.000000        3.000000             3.000000   \n",
       "50%               5.000000        5.000000             5.000000   \n",
       "75%               8.000000        8.000000             8.000000   \n",
       "max              10.000000       10.000000            10.000000   \n",
       "\n",
       "       annualised_mileage  num_dealers_visited  num_serv_dealer_purchased  \n",
       "count       131337.000000        131337.000000              131337.000000  \n",
       "mean             5.502836             5.485438                   5.480778  \n",
       "std              2.854896             2.876772                   2.867524  \n",
       "min              1.000000             1.000000                   1.000000  \n",
       "25%              3.000000             3.000000                   3.000000  \n",
       "50%              5.000000             5.000000                   5.000000  \n",
       "75%              8.000000             8.000000                   8.000000  \n",
       "max             10.000000            10.000000                  10.000000  "
      ]
     },
     "execution_count": 7,
     "metadata": {},
     "output_type": "execute_result"
    }
   ],
   "source": [
    "df.describe()"
   ]
  },
  {
   "cell_type": "code",
   "execution_count": 8,
   "id": "dd11b543",
   "metadata": {},
   "outputs": [
    {
     "name": "stdout",
     "output_type": "stream",
     "text": [
      "ID\n",
      "[     1      2      3 ... 154137 154138 154139]\n",
      "Target\n",
      "[0 1]\n",
      "age_band\n",
      "['3. 35 to 44' nan '1. <25' '4. 45 to 54' '2. 25 to 34' '7. 75+'\n",
      " '5. 55 to 64' '6. 65 to 74']\n",
      "gender\n",
      "['Male' nan 'Female']\n",
      "car_model\n",
      "['model_1' 'model_2' 'model_3' 'model_5' 'model_6' 'model_4' 'model_7'\n",
      " 'model_8' 'model_9' 'model_10' 'model_11' 'model_13' 'model_12'\n",
      " 'model_14' 'model_15' 'model_16' 'model_17' 'model_18' 'model_19']\n",
      "car_segment\n",
      "['LCV' 'Small/Medium' 'Large/SUV' 'Other']\n",
      "age_of_vehicle_years\n",
      "[ 9  6  5  8  7  1  3  4 10  2]\n",
      "sched_serv_warr\n",
      "[ 2 10  8  9  4  1  3  7  5  6]\n",
      "non_sched_serv_warr\n",
      "[10  3  9  5  4  8  1  6  2  7]\n",
      "sched_serv_paid\n",
      "[ 3 10  8  5  2  6  1  4  9  7]\n",
      "non_sched_serv_paid\n",
      "[ 7  4  9  3  1  2  6  5 10  8]\n",
      "total_paid_services\n",
      "[ 5  9 10  6  8  1  2  7  3  4]\n",
      "total_services\n",
      "[ 6 10  8  4  2  1  3  5  9  7]\n",
      "mth_since_last_serv\n",
      "[ 9  6  7  4  5  8  1  3 10  2]\n",
      "annualised_mileage\n",
      "[ 8 10  4  5  6  1  7  3  9  2]\n",
      "num_dealers_visited\n",
      "[10  7  6  9  4  5  2  1  3  8]\n",
      "num_serv_dealer_purchased\n",
      "[ 4 10  7  9  8  3  1  6  2  5]\n"
     ]
    }
   ],
   "source": [
    "for cols in df.columns:\n",
    "    print(cols)\n",
    "    print(df[cols].unique())"
   ]
  },
  {
   "cell_type": "markdown",
   "id": "c5093768",
   "metadata": {},
   "source": [
    "### 2. Data Preparation"
   ]
  },
  {
   "cell_type": "code",
   "execution_count": 9,
   "id": "1a69216b",
   "metadata": {},
   "outputs": [],
   "source": [
    "df_cleaned = df.copy()"
   ]
  },
  {
   "cell_type": "code",
   "execution_count": 10,
   "id": "baf49029",
   "metadata": {},
   "outputs": [],
   "source": [
    "## Dropping columns ID, gender and age_band\n",
    "df_cleaned.drop(['ID','gender', 'age_band'], axis = 1, inplace = True)"
   ]
  },
  {
   "cell_type": "code",
   "execution_count": 11,
   "id": "fb2d9b71",
   "metadata": {},
   "outputs": [
    {
     "data": {
      "text/html": [
       "<div>\n",
       "<style scoped>\n",
       "    .dataframe tbody tr th:only-of-type {\n",
       "        vertical-align: middle;\n",
       "    }\n",
       "\n",
       "    .dataframe tbody tr th {\n",
       "        vertical-align: top;\n",
       "    }\n",
       "\n",
       "    .dataframe thead th {\n",
       "        text-align: right;\n",
       "    }\n",
       "</style>\n",
       "<table border=\"1\" class=\"dataframe\">\n",
       "  <thead>\n",
       "    <tr style=\"text-align: right;\">\n",
       "      <th></th>\n",
       "      <th>model_1</th>\n",
       "      <th>model_10</th>\n",
       "      <th>model_11</th>\n",
       "      <th>model_12</th>\n",
       "      <th>model_13</th>\n",
       "      <th>model_14</th>\n",
       "      <th>model_15</th>\n",
       "      <th>model_16</th>\n",
       "      <th>model_17</th>\n",
       "      <th>model_18</th>\n",
       "      <th>model_19</th>\n",
       "      <th>model_2</th>\n",
       "      <th>model_3</th>\n",
       "      <th>model_4</th>\n",
       "      <th>model_5</th>\n",
       "      <th>model_6</th>\n",
       "      <th>model_7</th>\n",
       "      <th>model_8</th>\n",
       "      <th>model_9</th>\n",
       "    </tr>\n",
       "  </thead>\n",
       "  <tbody>\n",
       "    <tr>\n",
       "      <th>0</th>\n",
       "      <td>1</td>\n",
       "      <td>0</td>\n",
       "      <td>0</td>\n",
       "      <td>0</td>\n",
       "      <td>0</td>\n",
       "      <td>0</td>\n",
       "      <td>0</td>\n",
       "      <td>0</td>\n",
       "      <td>0</td>\n",
       "      <td>0</td>\n",
       "      <td>0</td>\n",
       "      <td>0</td>\n",
       "      <td>0</td>\n",
       "      <td>0</td>\n",
       "      <td>0</td>\n",
       "      <td>0</td>\n",
       "      <td>0</td>\n",
       "      <td>0</td>\n",
       "      <td>0</td>\n",
       "    </tr>\n",
       "    <tr>\n",
       "      <th>1</th>\n",
       "      <td>0</td>\n",
       "      <td>0</td>\n",
       "      <td>0</td>\n",
       "      <td>0</td>\n",
       "      <td>0</td>\n",
       "      <td>0</td>\n",
       "      <td>0</td>\n",
       "      <td>0</td>\n",
       "      <td>0</td>\n",
       "      <td>0</td>\n",
       "      <td>0</td>\n",
       "      <td>1</td>\n",
       "      <td>0</td>\n",
       "      <td>0</td>\n",
       "      <td>0</td>\n",
       "      <td>0</td>\n",
       "      <td>0</td>\n",
       "      <td>0</td>\n",
       "      <td>0</td>\n",
       "    </tr>\n",
       "    <tr>\n",
       "      <th>2</th>\n",
       "      <td>0</td>\n",
       "      <td>0</td>\n",
       "      <td>0</td>\n",
       "      <td>0</td>\n",
       "      <td>0</td>\n",
       "      <td>0</td>\n",
       "      <td>0</td>\n",
       "      <td>0</td>\n",
       "      <td>0</td>\n",
       "      <td>0</td>\n",
       "      <td>0</td>\n",
       "      <td>0</td>\n",
       "      <td>1</td>\n",
       "      <td>0</td>\n",
       "      <td>0</td>\n",
       "      <td>0</td>\n",
       "      <td>0</td>\n",
       "      <td>0</td>\n",
       "      <td>0</td>\n",
       "    </tr>\n",
       "    <tr>\n",
       "      <th>3</th>\n",
       "      <td>0</td>\n",
       "      <td>0</td>\n",
       "      <td>0</td>\n",
       "      <td>0</td>\n",
       "      <td>0</td>\n",
       "      <td>0</td>\n",
       "      <td>0</td>\n",
       "      <td>0</td>\n",
       "      <td>0</td>\n",
       "      <td>0</td>\n",
       "      <td>0</td>\n",
       "      <td>0</td>\n",
       "      <td>1</td>\n",
       "      <td>0</td>\n",
       "      <td>0</td>\n",
       "      <td>0</td>\n",
       "      <td>0</td>\n",
       "      <td>0</td>\n",
       "      <td>0</td>\n",
       "    </tr>\n",
       "    <tr>\n",
       "      <th>4</th>\n",
       "      <td>0</td>\n",
       "      <td>0</td>\n",
       "      <td>0</td>\n",
       "      <td>0</td>\n",
       "      <td>0</td>\n",
       "      <td>0</td>\n",
       "      <td>0</td>\n",
       "      <td>0</td>\n",
       "      <td>0</td>\n",
       "      <td>0</td>\n",
       "      <td>0</td>\n",
       "      <td>1</td>\n",
       "      <td>0</td>\n",
       "      <td>0</td>\n",
       "      <td>0</td>\n",
       "      <td>0</td>\n",
       "      <td>0</td>\n",
       "      <td>0</td>\n",
       "      <td>0</td>\n",
       "    </tr>\n",
       "    <tr>\n",
       "      <th>...</th>\n",
       "      <td>...</td>\n",
       "      <td>...</td>\n",
       "      <td>...</td>\n",
       "      <td>...</td>\n",
       "      <td>...</td>\n",
       "      <td>...</td>\n",
       "      <td>...</td>\n",
       "      <td>...</td>\n",
       "      <td>...</td>\n",
       "      <td>...</td>\n",
       "      <td>...</td>\n",
       "      <td>...</td>\n",
       "      <td>...</td>\n",
       "      <td>...</td>\n",
       "      <td>...</td>\n",
       "      <td>...</td>\n",
       "      <td>...</td>\n",
       "      <td>...</td>\n",
       "      <td>...</td>\n",
       "    </tr>\n",
       "    <tr>\n",
       "      <th>131332</th>\n",
       "      <td>0</td>\n",
       "      <td>0</td>\n",
       "      <td>0</td>\n",
       "      <td>0</td>\n",
       "      <td>0</td>\n",
       "      <td>0</td>\n",
       "      <td>0</td>\n",
       "      <td>0</td>\n",
       "      <td>0</td>\n",
       "      <td>0</td>\n",
       "      <td>0</td>\n",
       "      <td>0</td>\n",
       "      <td>1</td>\n",
       "      <td>0</td>\n",
       "      <td>0</td>\n",
       "      <td>0</td>\n",
       "      <td>0</td>\n",
       "      <td>0</td>\n",
       "      <td>0</td>\n",
       "    </tr>\n",
       "    <tr>\n",
       "      <th>131333</th>\n",
       "      <td>0</td>\n",
       "      <td>0</td>\n",
       "      <td>0</td>\n",
       "      <td>0</td>\n",
       "      <td>0</td>\n",
       "      <td>0</td>\n",
       "      <td>0</td>\n",
       "      <td>0</td>\n",
       "      <td>0</td>\n",
       "      <td>0</td>\n",
       "      <td>0</td>\n",
       "      <td>0</td>\n",
       "      <td>1</td>\n",
       "      <td>0</td>\n",
       "      <td>0</td>\n",
       "      <td>0</td>\n",
       "      <td>0</td>\n",
       "      <td>0</td>\n",
       "      <td>0</td>\n",
       "    </tr>\n",
       "    <tr>\n",
       "      <th>131334</th>\n",
       "      <td>0</td>\n",
       "      <td>0</td>\n",
       "      <td>0</td>\n",
       "      <td>0</td>\n",
       "      <td>0</td>\n",
       "      <td>0</td>\n",
       "      <td>0</td>\n",
       "      <td>0</td>\n",
       "      <td>0</td>\n",
       "      <td>0</td>\n",
       "      <td>0</td>\n",
       "      <td>0</td>\n",
       "      <td>0</td>\n",
       "      <td>0</td>\n",
       "      <td>1</td>\n",
       "      <td>0</td>\n",
       "      <td>0</td>\n",
       "      <td>0</td>\n",
       "      <td>0</td>\n",
       "    </tr>\n",
       "    <tr>\n",
       "      <th>131335</th>\n",
       "      <td>0</td>\n",
       "      <td>0</td>\n",
       "      <td>0</td>\n",
       "      <td>0</td>\n",
       "      <td>0</td>\n",
       "      <td>0</td>\n",
       "      <td>0</td>\n",
       "      <td>0</td>\n",
       "      <td>0</td>\n",
       "      <td>0</td>\n",
       "      <td>0</td>\n",
       "      <td>0</td>\n",
       "      <td>0</td>\n",
       "      <td>0</td>\n",
       "      <td>1</td>\n",
       "      <td>0</td>\n",
       "      <td>0</td>\n",
       "      <td>0</td>\n",
       "      <td>0</td>\n",
       "    </tr>\n",
       "    <tr>\n",
       "      <th>131336</th>\n",
       "      <td>1</td>\n",
       "      <td>0</td>\n",
       "      <td>0</td>\n",
       "      <td>0</td>\n",
       "      <td>0</td>\n",
       "      <td>0</td>\n",
       "      <td>0</td>\n",
       "      <td>0</td>\n",
       "      <td>0</td>\n",
       "      <td>0</td>\n",
       "      <td>0</td>\n",
       "      <td>0</td>\n",
       "      <td>0</td>\n",
       "      <td>0</td>\n",
       "      <td>0</td>\n",
       "      <td>0</td>\n",
       "      <td>0</td>\n",
       "      <td>0</td>\n",
       "      <td>0</td>\n",
       "    </tr>\n",
       "  </tbody>\n",
       "</table>\n",
       "<p>131337 rows × 19 columns</p>\n",
       "</div>"
      ],
      "text/plain": [
       "        model_1  model_10  model_11  model_12  model_13  model_14  model_15  \\\n",
       "0             1         0         0         0         0         0         0   \n",
       "1             0         0         0         0         0         0         0   \n",
       "2             0         0         0         0         0         0         0   \n",
       "3             0         0         0         0         0         0         0   \n",
       "4             0         0         0         0         0         0         0   \n",
       "...         ...       ...       ...       ...       ...       ...       ...   \n",
       "131332        0         0         0         0         0         0         0   \n",
       "131333        0         0         0         0         0         0         0   \n",
       "131334        0         0         0         0         0         0         0   \n",
       "131335        0         0         0         0         0         0         0   \n",
       "131336        1         0         0         0         0         0         0   \n",
       "\n",
       "        model_16  model_17  model_18  model_19  model_2  model_3  model_4  \\\n",
       "0              0         0         0         0        0        0        0   \n",
       "1              0         0         0         0        1        0        0   \n",
       "2              0         0         0         0        0        1        0   \n",
       "3              0         0         0         0        0        1        0   \n",
       "4              0         0         0         0        1        0        0   \n",
       "...          ...       ...       ...       ...      ...      ...      ...   \n",
       "131332         0         0         0         0        0        1        0   \n",
       "131333         0         0         0         0        0        1        0   \n",
       "131334         0         0         0         0        0        0        0   \n",
       "131335         0         0         0         0        0        0        0   \n",
       "131336         0         0         0         0        0        0        0   \n",
       "\n",
       "        model_5  model_6  model_7  model_8  model_9  \n",
       "0             0        0        0        0        0  \n",
       "1             0        0        0        0        0  \n",
       "2             0        0        0        0        0  \n",
       "3             0        0        0        0        0  \n",
       "4             0        0        0        0        0  \n",
       "...         ...      ...      ...      ...      ...  \n",
       "131332        0        0        0        0        0  \n",
       "131333        0        0        0        0        0  \n",
       "131334        1        0        0        0        0  \n",
       "131335        1        0        0        0        0  \n",
       "131336        0        0        0        0        0  \n",
       "\n",
       "[131337 rows x 19 columns]"
      ]
     },
     "execution_count": 11,
     "metadata": {},
     "output_type": "execute_result"
    }
   ],
   "source": [
    "#Applying one-hot encoding to the nominal data 'Car_model'\n",
    "df_car_model = pd.get_dummies(df_cleaned['car_model'])\n",
    "df_car_model"
   ]
  },
  {
   "cell_type": "markdown",
   "id": "84e5749d",
   "metadata": {},
   "source": [
    "#### We will map numerical values to the ordinal data under 'car_segment'"
   ]
  },
  {
   "cell_type": "code",
   "execution_count": 12,
   "id": "84e340a4",
   "metadata": {},
   "outputs": [
    {
     "name": "stdout",
     "output_type": "stream",
     "text": [
      "car_segment\n",
      "['LCV' 'Small/Medium' 'Large/SUV' 'Other']\n"
     ]
    }
   ],
   "source": [
    "ord_cols = ['car_segment']\n",
    "for col in ord_cols:\n",
    "  print(col)\n",
    "  print(df_cleaned[col].unique()) "
   ]
  },
  {
   "cell_type": "code",
   "execution_count": 13,
   "id": "68777131",
   "metadata": {},
   "outputs": [
    {
     "data": {
      "text/plain": [
       "{'Other': 0, 'LCV': 1, 'Small/Medium': 2, 'Large/SUV': 3}"
      ]
     },
     "execution_count": 13,
     "metadata": {},
     "output_type": "execute_result"
    }
   ],
   "source": [
    "car_segment_mapper = {\n",
    "    \"Other\": 0, \n",
    "    \"LCV\": 1, \n",
    "    \"Small/Medium\": 2,\n",
    "    \"Large/SUV\": 3\n",
    "}\n",
    "car_segment_mapper"
   ]
  },
  {
   "cell_type": "code",
   "execution_count": 14,
   "id": "3afa28af",
   "metadata": {},
   "outputs": [
    {
     "data": {
      "text/plain": [
       "0         1\n",
       "1         2\n",
       "2         3\n",
       "3         3\n",
       "4         2\n",
       "         ..\n",
       "131332    3\n",
       "131333    3\n",
       "131334    3\n",
       "131335    3\n",
       "131336    1\n",
       "Name: car_segment, Length: 131337, dtype: int64"
      ]
     },
     "execution_count": 14,
     "metadata": {},
     "output_type": "execute_result"
    }
   ],
   "source": [
    "df_cleaned[\"car_segment\"] = df_cleaned[\"car_segment\"].replace(car_segment_mapper)\n",
    "df_cleaned[\"car_segment\"]"
   ]
  },
  {
   "cell_type": "markdown",
   "id": "5bd16b1c",
   "metadata": {},
   "source": [
    " #### Merging the encoded data-frame"
   ]
  },
  {
   "cell_type": "code",
   "execution_count": 15,
   "id": "6aeb5353",
   "metadata": {},
   "outputs": [],
   "source": [
    "X = pd.concat([df_cleaned, df_car_model], axis=1)\n",
    "X.drop('car_model', axis = 1, inplace = True)"
   ]
  },
  {
   "cell_type": "code",
   "execution_count": 16,
   "id": "36bce76a",
   "metadata": {},
   "outputs": [],
   "source": [
    "y = X.pop('Target')"
   ]
  },
  {
   "cell_type": "markdown",
   "id": "a8da8c50",
   "metadata": {},
   "source": [
    "### 3. Scale Data"
   ]
  },
  {
   "cell_type": "code",
   "execution_count": 17,
   "id": "374fa83f",
   "metadata": {},
   "outputs": [
    {
     "data": {
      "text/plain": [
       "array([[-1.64100321,  1.23342356, -1.19699048, ..., -0.25750093,\n",
       "        -0.22712936, -0.08732716],\n",
       "       [-0.28324066,  0.17830704,  1.5766297 , ..., -0.25750093,\n",
       "        -0.22712936, -0.08732716],\n",
       "       [ 1.07452189,  1.23342356,  1.5766297 , ..., -0.25750093,\n",
       "        -0.22712936, -0.08732716],\n",
       "       ...,\n",
       "       [ 1.07452189, -0.52510398, -0.50358543, ..., -0.25750093,\n",
       "        -0.22712936, -0.08732716],\n",
       "       [ 1.07452189, -1.22851499, -1.543693  , ..., -0.25750093,\n",
       "        -0.22712936, -0.08732716],\n",
       "       [-1.64100321,  0.17830704, -1.543693  , ..., -0.25750093,\n",
       "        -0.22712936, -0.08732716]])"
      ]
     },
     "execution_count": 17,
     "metadata": {},
     "output_type": "execute_result"
    }
   ],
   "source": [
    "from sklearn.preprocessing import StandardScaler\n",
    "scaler = StandardScaler()\n",
    "scaler.fit(X)\n",
    "X = scaler.transform(X)\n",
    "X"
   ]
  },
  {
   "cell_type": "markdown",
   "id": "a273beca",
   "metadata": {},
   "source": [
    "### 4. Data Splitting"
   ]
  },
  {
   "cell_type": "code",
   "execution_count": 18,
   "id": "763623e3",
   "metadata": {},
   "outputs": [
    {
     "data": {
      "text/plain": [
       "0    0.973191\n",
       "1    0.026809\n",
       "Name: Target, dtype: float64"
      ]
     },
     "execution_count": 18,
     "metadata": {},
     "output_type": "execute_result"
    }
   ],
   "source": [
    "y.value_counts(normalize=True)"
   ]
  },
  {
   "cell_type": "code",
   "execution_count": 19,
   "id": "68c7ca9d",
   "metadata": {},
   "outputs": [],
   "source": [
    "from sklearn.model_selection import train_test_split"
   ]
  },
  {
   "cell_type": "code",
   "execution_count": 20,
   "id": "e322b216",
   "metadata": {},
   "outputs": [],
   "source": [
    "X_data, X_test, y_data, y_test = train_test_split (X, y, test_size=0.2, random_state=8)"
   ]
  },
  {
   "cell_type": "code",
   "execution_count": 21,
   "id": "166cc161",
   "metadata": {},
   "outputs": [
    {
     "data": {
      "text/plain": [
       "0    0.971867\n",
       "1    0.028133\n",
       "Name: Target, dtype: float64"
      ]
     },
     "execution_count": 21,
     "metadata": {},
     "output_type": "execute_result"
    }
   ],
   "source": [
    "y_test.value_counts(normalize=True)"
   ]
  },
  {
   "cell_type": "code",
   "execution_count": 22,
   "id": "cff4f105",
   "metadata": {},
   "outputs": [],
   "source": [
    "X_train, X_val, y_train, y_val = train_test_split(X_data, y_data, test_size=0.2, random_state=8)"
   ]
  },
  {
   "cell_type": "code",
   "execution_count": 23,
   "id": "f4db365f",
   "metadata": {},
   "outputs": [
    {
     "data": {
      "text/plain": [
       "0    0.973494\n",
       "1    0.026506\n",
       "Name: Target, dtype: float64"
      ]
     },
     "execution_count": 23,
     "metadata": {},
     "output_type": "execute_result"
    }
   ],
   "source": [
    "y_train.value_counts(normalize=True)"
   ]
  },
  {
   "cell_type": "code",
   "execution_count": 24,
   "id": "67fbf7b4",
   "metadata": {},
   "outputs": [
    {
     "data": {
      "text/plain": [
       "0    0.973637\n",
       "1    0.026363\n",
       "Name: Target, dtype: float64"
      ]
     },
     "execution_count": 24,
     "metadata": {},
     "output_type": "execute_result"
    }
   ],
   "source": [
    "y_val.value_counts(normalize=True)"
   ]
  },
  {
   "cell_type": "markdown",
   "id": "9c749d63",
   "metadata": {
    "id": "GzPsvRGA21T1"
   },
   "source": [
    "## 5. Assess Baseline Model"
   ]
  },
  {
   "cell_type": "markdown",
   "id": "a6de612d",
   "metadata": {
    "id": "1IsxKh9S23oM"
   },
   "source": [
    "**[5.1]** Find the mode of the target variable from the training set and print its value"
   ]
  },
  {
   "cell_type": "code",
   "execution_count": 26,
   "id": "6689ef99",
   "metadata": {
    "colab": {
     "base_uri": "https://localhost:8080/"
    },
    "id": "cLcnZ-he27Cf",
    "outputId": "f9638c9d-2441-4d84-fe39-3637ef7af0a6"
   },
   "outputs": [
    {
     "data": {
      "text/plain": [
       "0    0\n",
       "Name: Target, dtype: int64"
      ]
     },
     "execution_count": 26,
     "metadata": {},
     "output_type": "execute_result"
    }
   ],
   "source": [
    "y_mode = y_train.mode()\n",
    "y_mode"
   ]
  },
  {
   "cell_type": "markdown",
   "id": "f0a7554b",
   "metadata": {
    "id": "kYVN0ssQ3iAb"
   },
   "source": [
    "**[5.2]** Create a numpy array with the same dimensions as for the training set called y_base filled with this value\n",
    "\n"
   ]
  },
  {
   "cell_type": "code",
   "execution_count": 28,
   "id": "2bd7b714",
   "metadata": {
    "id": "DwGRyhuG293c"
   },
   "outputs": [],
   "source": [
    "y_base = np.full(y_train.shape, y_mode)"
   ]
  },
  {
   "cell_type": "markdown",
   "id": "70c8624b",
   "metadata": {
    "id": "eG52TP9Y352S"
   },
   "source": [
    "**[5.3]** Import the accuracy and f1 scores from sklearn"
   ]
  },
  {
   "cell_type": "code",
   "execution_count": 30,
   "id": "56c000b9",
   "metadata": {
    "id": "-q6FEvnj35_7"
   },
   "outputs": [],
   "source": [
    "from sklearn.metrics import accuracy_score, f1_score"
   ]
  },
  {
   "cell_type": "markdown",
   "id": "795e18e9",
   "metadata": {
    "id": "0SGDh14S4D8t"
   },
   "source": [
    "**[5.4]** Display the accuracy and f1 scores of this baseline model on the training set"
   ]
  },
  {
   "cell_type": "code",
   "execution_count": 32,
   "id": "3266c059",
   "metadata": {
    "colab": {
     "base_uri": "https://localhost:8080/"
    },
    "id": "FCabTwTq4FN3",
    "outputId": "465df274-22fe-41f1-ba51-126a193b1e69"
   },
   "outputs": [
    {
     "name": "stdout",
     "output_type": "stream",
     "text": [
      "0.9734935458925703\n",
      "0.9604183260359938\n"
     ]
    }
   ],
   "source": [
    "print(accuracy_score(y_train, y_base))\n",
    "print(f1_score(y_train, y_base, average='weighted'))"
   ]
  },
  {
   "cell_type": "markdown",
   "id": "97f6f388",
   "metadata": {
    "id": "fjDue9cAacH2"
   },
   "source": [
    "### 6. Train SVC with default Hyperparameter"
   ]
  },
  {
   "cell_type": "markdown",
   "id": "56eba8dc",
   "metadata": {
    "id": "Bl6wWBiCE-iP"
   },
   "source": [
    "**[6.1]** Import SVC from sklearn.svm"
   ]
  },
  {
   "cell_type": "code",
   "execution_count": 34,
   "id": "a3f48f46",
   "metadata": {
    "id": "Qz2Df6O0FWkG"
   },
   "outputs": [],
   "source": [
    "from sklearn.svm import SVC"
   ]
  },
  {
   "cell_type": "markdown",
   "id": "faf59130",
   "metadata": {
    "id": "08pMDobUxCRW"
   },
   "source": [
    "**[6.2]** Instantiate a SVC() model with default hyperparameters"
   ]
  },
  {
   "cell_type": "code",
   "execution_count": 36,
   "id": "dd7d8423",
   "metadata": {
    "id": "Kmymp4S18MqY"
   },
   "outputs": [],
   "source": [
    "svc_1 = SVC()"
   ]
  },
  {
   "cell_type": "markdown",
   "id": "b3c5b0a9",
   "metadata": {
    "id": "99Y27hu7F5dg"
   },
   "source": [
    "**[6.3]** Train the model on the training set"
   ]
  },
  {
   "cell_type": "code",
   "execution_count": 38,
   "id": "a065c8dc",
   "metadata": {
    "colab": {
     "base_uri": "https://localhost:8080/",
     "height": 75
    },
    "id": "gxDI5b85FjGZ",
    "outputId": "f2c55239-1437-4f2a-c4af-aa76bbf2ffa6"
   },
   "outputs": [
    {
     "data": {
      "text/html": [
       "<style>#sk-container-id-1 {color: black;background-color: white;}#sk-container-id-1 pre{padding: 0;}#sk-container-id-1 div.sk-toggleable {background-color: white;}#sk-container-id-1 label.sk-toggleable__label {cursor: pointer;display: block;width: 100%;margin-bottom: 0;padding: 0.3em;box-sizing: border-box;text-align: center;}#sk-container-id-1 label.sk-toggleable__label-arrow:before {content: \"▸\";float: left;margin-right: 0.25em;color: #696969;}#sk-container-id-1 label.sk-toggleable__label-arrow:hover:before {color: black;}#sk-container-id-1 div.sk-estimator:hover label.sk-toggleable__label-arrow:before {color: black;}#sk-container-id-1 div.sk-toggleable__content {max-height: 0;max-width: 0;overflow: hidden;text-align: left;background-color: #f0f8ff;}#sk-container-id-1 div.sk-toggleable__content pre {margin: 0.2em;color: black;border-radius: 0.25em;background-color: #f0f8ff;}#sk-container-id-1 input.sk-toggleable__control:checked~div.sk-toggleable__content {max-height: 200px;max-width: 100%;overflow: auto;}#sk-container-id-1 input.sk-toggleable__control:checked~label.sk-toggleable__label-arrow:before {content: \"▾\";}#sk-container-id-1 div.sk-estimator input.sk-toggleable__control:checked~label.sk-toggleable__label {background-color: #d4ebff;}#sk-container-id-1 div.sk-label input.sk-toggleable__control:checked~label.sk-toggleable__label {background-color: #d4ebff;}#sk-container-id-1 input.sk-hidden--visually {border: 0;clip: rect(1px 1px 1px 1px);clip: rect(1px, 1px, 1px, 1px);height: 1px;margin: -1px;overflow: hidden;padding: 0;position: absolute;width: 1px;}#sk-container-id-1 div.sk-estimator {font-family: monospace;background-color: #f0f8ff;border: 1px dotted black;border-radius: 0.25em;box-sizing: border-box;margin-bottom: 0.5em;}#sk-container-id-1 div.sk-estimator:hover {background-color: #d4ebff;}#sk-container-id-1 div.sk-parallel-item::after {content: \"\";width: 100%;border-bottom: 1px solid gray;flex-grow: 1;}#sk-container-id-1 div.sk-label:hover label.sk-toggleable__label {background-color: #d4ebff;}#sk-container-id-1 div.sk-serial::before {content: \"\";position: absolute;border-left: 1px solid gray;box-sizing: border-box;top: 0;bottom: 0;left: 50%;z-index: 0;}#sk-container-id-1 div.sk-serial {display: flex;flex-direction: column;align-items: center;background-color: white;padding-right: 0.2em;padding-left: 0.2em;position: relative;}#sk-container-id-1 div.sk-item {position: relative;z-index: 1;}#sk-container-id-1 div.sk-parallel {display: flex;align-items: stretch;justify-content: center;background-color: white;position: relative;}#sk-container-id-1 div.sk-item::before, #sk-container-id-1 div.sk-parallel-item::before {content: \"\";position: absolute;border-left: 1px solid gray;box-sizing: border-box;top: 0;bottom: 0;left: 50%;z-index: -1;}#sk-container-id-1 div.sk-parallel-item {display: flex;flex-direction: column;z-index: 1;position: relative;background-color: white;}#sk-container-id-1 div.sk-parallel-item:first-child::after {align-self: flex-end;width: 50%;}#sk-container-id-1 div.sk-parallel-item:last-child::after {align-self: flex-start;width: 50%;}#sk-container-id-1 div.sk-parallel-item:only-child::after {width: 0;}#sk-container-id-1 div.sk-dashed-wrapped {border: 1px dashed gray;margin: 0 0.4em 0.5em 0.4em;box-sizing: border-box;padding-bottom: 0.4em;background-color: white;}#sk-container-id-1 div.sk-label label {font-family: monospace;font-weight: bold;display: inline-block;line-height: 1.2em;}#sk-container-id-1 div.sk-label-container {text-align: center;}#sk-container-id-1 div.sk-container {/* jupyter's `normalize.less` sets `[hidden] { display: none; }` but bootstrap.min.css set `[hidden] { display: none !important; }` so we also need the `!important` here to be able to override the default hidden behavior on the sphinx rendered scikit-learn.org. See: https://github.com/scikit-learn/scikit-learn/issues/21755 */display: inline-block !important;position: relative;}#sk-container-id-1 div.sk-text-repr-fallback {display: none;}</style><div id=\"sk-container-id-1\" class=\"sk-top-container\"><div class=\"sk-text-repr-fallback\"><pre>SVC()</pre><b>In a Jupyter environment, please rerun this cell to show the HTML representation or trust the notebook. <br />On GitHub, the HTML representation is unable to render, please try loading this page with nbviewer.org.</b></div><div class=\"sk-container\" hidden><div class=\"sk-item\"><div class=\"sk-estimator sk-toggleable\"><input class=\"sk-toggleable__control sk-hidden--visually\" id=\"sk-estimator-id-1\" type=\"checkbox\" checked><label for=\"sk-estimator-id-1\" class=\"sk-toggleable__label sk-toggleable__label-arrow\">SVC</label><div class=\"sk-toggleable__content\"><pre>SVC()</pre></div></div></div></div></div>"
      ],
      "text/plain": [
       "SVC()"
      ]
     },
     "execution_count": 38,
     "metadata": {},
     "output_type": "execute_result"
    }
   ],
   "source": [
    "svc_1.fit(X_train, y_train)"
   ]
  },
  {
   "cell_type": "markdown",
   "id": "870125c3",
   "metadata": {
    "id": "AkNsZORVxo6C"
   },
   "source": [
    "**[6.4]** Print the accuracy and f1 scores of the training set"
   ]
  },
  {
   "cell_type": "code",
   "execution_count": 41,
   "id": "ce8fb16a",
   "metadata": {
    "colab": {
     "base_uri": "https://localhost:8080/"
    },
    "id": "RHDvuDNYc558",
    "outputId": "ed52a8a1-e1c2-42ff-f078-5109951b69e4"
   },
   "outputs": [
    {
     "name": "stdout",
     "output_type": "stream",
     "text": [
      "0.9853191362798168\n",
      "0.9829849878085515\n"
     ]
    }
   ],
   "source": [
    "y_train_preds = svc_1.predict(X_train)\n",
    "print(accuracy_score(y_train, y_train_preds))\n",
    "print(f1_score(y_train, y_train_preds, average='weighted'))"
   ]
  },
  {
   "cell_type": "markdown",
   "id": "657918cd",
   "metadata": {
    "id": "-tMs3e8uHktr"
   },
   "source": [
    "**[6.5]** Import confusion_matrix, ConfusionMatrixDisplay from sklearn.metrics and matplotlib"
   ]
  },
  {
   "cell_type": "code",
   "execution_count": 43,
   "id": "a8ef8d74",
   "metadata": {
    "id": "zuraMV5jWBGD"
   },
   "outputs": [],
   "source": [
    "from sklearn.metrics import confusion_matrix, ConfusionMatrixDisplay"
   ]
  },
  {
   "cell_type": "markdown",
   "id": "e8ed2444",
   "metadata": {
    "id": "XiuUN-jQWy8g"
   },
   "source": [
    "**[6.6]** Create a confusion matrix on the training set"
   ]
  },
  {
   "cell_type": "code",
   "execution_count": 44,
   "id": "e01e2da9",
   "metadata": {
    "colab": {
     "base_uri": "https://localhost:8080/"
    },
    "id": "UeHmHbqVWwRb",
    "outputId": "f92ed1a3-06bb-4a2c-f896-cfa238d75c9b"
   },
   "outputs": [
    {
     "data": {
      "text/plain": [
       "array([[81756,    71],\n",
       "       [ 1163,  1065]], dtype=int64)"
      ]
     },
     "execution_count": 44,
     "metadata": {},
     "output_type": "execute_result"
    }
   ],
   "source": [
    "confusion_matrix(y_train, y_train_preds, labels=svc_1.classes_)"
   ]
  },
  {
   "cell_type": "markdown",
   "id": "56b43e44",
   "metadata": {
    "id": "VUzmaxMqEOwI"
   },
   "source": [
    "**[6.7]** Create a frequency confusion matrix on the training set"
   ]
  },
  {
   "cell_type": "code",
   "execution_count": 45,
   "id": "0eaae4cb",
   "metadata": {
    "colab": {
     "base_uri": "https://localhost:8080/"
    },
    "id": "KgPn03J_YoeK",
    "outputId": "29536070-8546-411f-b87e-3bbae3e58c42"
   },
   "outputs": [
    {
     "data": {
      "text/plain": [
       "array([[9.99132316e-01, 8.67684261e-04],\n",
       "       [5.21992819e-01, 4.78007181e-01]])"
      ]
     },
     "execution_count": 45,
     "metadata": {},
     "output_type": "execute_result"
    }
   ],
   "source": [
    "confusion_matrix(y_train, y_train_preds, labels=svc_1.classes_, normalize='true')"
   ]
  },
  {
   "cell_type": "markdown",
   "id": "a8180f84",
   "metadata": {
    "id": "-lfas8JfW6fU"
   },
   "source": [
    "**[6.8]** Display the confusion matrix as a chart"
   ]
  },
  {
   "cell_type": "code",
   "execution_count": 46,
   "id": "bf079d36",
   "metadata": {
    "colab": {
     "base_uri": "https://localhost:8080/",
     "height": 466
    },
    "id": "9y0PCIqyWBZT",
    "outputId": "3d5a9a72-6a92-4130-d911-5b98b0df830d"
   },
   "outputs": [
    {
     "data": {
      "text/plain": [
       "<sklearn.metrics._plot.confusion_matrix.ConfusionMatrixDisplay at 0x1c4a859dc70>"
      ]
     },
     "execution_count": 46,
     "metadata": {},
     "output_type": "execute_result"
    },
    {
     "data": {
      "image/png": "[encoded data removed]",
      "text/plain": [
       "<Figure size 640x480 with 2 Axes>"
      ]
     },
     "metadata": {},
     "output_type": "display_data"
    }
   ],
   "source": [
    "ConfusionMatrixDisplay.from_estimator(svc_1, X_train, y_train, normalize='true')"
   ]
  },
  {
   "cell_type": "markdown",
   "id": "0d60d5ad",
   "metadata": {
    "id": "0B7PPFG0cQ2J"
   },
   "source": [
    "**[6.9]** Print the accuracy and f1 scores of the validation set"
   ]
  },
  {
   "cell_type": "code",
   "execution_count": 48,
   "id": "7783599e",
   "metadata": {
    "colab": {
     "base_uri": "https://localhost:8080/"
    },
    "id": "2BCdzkS4MpXo",
    "outputId": "7937b572-7b4c-4d75-afc2-1baa97572edf"
   },
   "outputs": [
    {
     "name": "stdout",
     "output_type": "stream",
     "text": [
      "0.9860093271152565\n",
      "0.9840135372818063\n"
     ]
    }
   ],
   "source": [
    "y_val_preds = svc_1.predict(X_val)\n",
    "print(accuracy_score(y_val, y_val_preds))\n",
    "print(f1_score(y_val, y_val_preds, average='weighted'))"
   ]
  },
  {
   "cell_type": "markdown",
   "id": "0f60a397",
   "metadata": {
    "id": "x9tcSgMuJRD0"
   },
   "source": [
    "**[6.10]** Print the confusion matrix on the validation set"
   ]
  },
  {
   "cell_type": "code",
   "execution_count": 49,
   "id": "2db57d03",
   "metadata": {
    "colab": {
     "base_uri": "https://localhost:8080/",
     "height": 472
    },
    "id": "u_2xq6vUJbeY",
    "outputId": "cb66b2c0-1df2-4d79-9687-5b8d0ac984a8"
   },
   "outputs": [
    {
     "data": {
      "text/plain": [
       "<sklearn.metrics._plot.confusion_matrix.ConfusionMatrixDisplay at 0x1c481da3fd0>"
      ]
     },
     "execution_count": 49,
     "metadata": {},
     "output_type": "execute_result"
    },
    {
     "data": {
      "image/png": "[encoded data removed]",
      "text/plain": [
       "<Figure size 640x480 with 2 Axes>"
      ]
     },
     "metadata": {},
     "output_type": "display_data"
    }
   ],
   "source": [
    "ConfusionMatrixDisplay.from_estimator(svc_1, X_val, y_val, normalize='true')"
   ]
  },
  {
   "cell_type": "markdown",
   "id": "32a84aa8",
   "metadata": {
    "id": "5SYIHBAI0FHH"
   },
   "source": [
    "## 7. Reduce SVC Overfitting with class weights"
   ]
  },
  {
   "cell_type": "markdown",
   "id": "77f0451d",
   "metadata": {
    "id": "1zxxsHEx0NZj"
   },
   "source": [
    "**[7.1]** Instantiate another SVC model by adding a weighting hyperparameter in order to balance each class "
   ]
  },
  {
   "cell_type": "code",
   "execution_count": 51,
   "id": "116ef48b",
   "metadata": {
    "id": "FEJptXmD0Me-"
   },
   "outputs": [],
   "source": [
    "svc_2 = SVC(class_weight='balanced')"
   ]
  },
  {
   "cell_type": "markdown",
   "id": "6d5b17da",
   "metadata": {
    "id": "j7cSUHC00ZMw"
   },
   "source": [
    "**[7.2]** Train this model on the training set"
   ]
  },
  {
   "cell_type": "code",
   "execution_count": 53,
   "id": "c69c218d",
   "metadata": {
    "colab": {
     "base_uri": "https://localhost:8080/",
     "height": 75
    },
    "id": "_8-WKz3t0ZVt",
    "outputId": "1f431e25-9afa-4976-906b-578dc623ba55"
   },
   "outputs": [
    {
     "data": {
      "text/html": [
       "<style>#sk-container-id-2 {color: black;background-color: white;}#sk-container-id-2 pre{padding: 0;}#sk-container-id-2 div.sk-toggleable {background-color: white;}#sk-container-id-2 label.sk-toggleable__label {cursor: pointer;display: block;width: 100%;margin-bottom: 0;padding: 0.3em;box-sizing: border-box;text-align: center;}#sk-container-id-2 label.sk-toggleable__label-arrow:before {content: \"▸\";float: left;margin-right: 0.25em;color: #696969;}#sk-container-id-2 label.sk-toggleable__label-arrow:hover:before {color: black;}#sk-container-id-2 div.sk-estimator:hover label.sk-toggleable__label-arrow:before {color: black;}#sk-container-id-2 div.sk-toggleable__content {max-height: 0;max-width: 0;overflow: hidden;text-align: left;background-color: #f0f8ff;}#sk-container-id-2 div.sk-toggleable__content pre {margin: 0.2em;color: black;border-radius: 0.25em;background-color: #f0f8ff;}#sk-container-id-2 input.sk-toggleable__control:checked~div.sk-toggleable__content {max-height: 200px;max-width: 100%;overflow: auto;}#sk-container-id-2 input.sk-toggleable__control:checked~label.sk-toggleable__label-arrow:before {content: \"▾\";}#sk-container-id-2 div.sk-estimator input.sk-toggleable__control:checked~label.sk-toggleable__label {background-color: #d4ebff;}#sk-container-id-2 div.sk-label input.sk-toggleable__control:checked~label.sk-toggleable__label {background-color: #d4ebff;}#sk-container-id-2 input.sk-hidden--visually {border: 0;clip: rect(1px 1px 1px 1px);clip: rect(1px, 1px, 1px, 1px);height: 1px;margin: -1px;overflow: hidden;padding: 0;position: absolute;width: 1px;}#sk-container-id-2 div.sk-estimator {font-family: monospace;background-color: #f0f8ff;border: 1px dotted black;border-radius: 0.25em;box-sizing: border-box;margin-bottom: 0.5em;}#sk-container-id-2 div.sk-estimator:hover {background-color: #d4ebff;}#sk-container-id-2 div.sk-parallel-item::after {content: \"\";width: 100%;border-bottom: 1px solid gray;flex-grow: 1;}#sk-container-id-2 div.sk-label:hover label.sk-toggleable__label {background-color: #d4ebff;}#sk-container-id-2 div.sk-serial::before {content: \"\";position: absolute;border-left: 1px solid gray;box-sizing: border-box;top: 0;bottom: 0;left: 50%;z-index: 0;}#sk-container-id-2 div.sk-serial {display: flex;flex-direction: column;align-items: center;background-color: white;padding-right: 0.2em;padding-left: 0.2em;position: relative;}#sk-container-id-2 div.sk-item {position: relative;z-index: 1;}#sk-container-id-2 div.sk-parallel {display: flex;align-items: stretch;justify-content: center;background-color: white;position: relative;}#sk-container-id-2 div.sk-item::before, #sk-container-id-2 div.sk-parallel-item::before {content: \"\";position: absolute;border-left: 1px solid gray;box-sizing: border-box;top: 0;bottom: 0;left: 50%;z-index: -1;}#sk-container-id-2 div.sk-parallel-item {display: flex;flex-direction: column;z-index: 1;position: relative;background-color: white;}#sk-container-id-2 div.sk-parallel-item:first-child::after {align-self: flex-end;width: 50%;}#sk-container-id-2 div.sk-parallel-item:last-child::after {align-self: flex-start;width: 50%;}#sk-container-id-2 div.sk-parallel-item:only-child::after {width: 0;}#sk-container-id-2 div.sk-dashed-wrapped {border: 1px dashed gray;margin: 0 0.4em 0.5em 0.4em;box-sizing: border-box;padding-bottom: 0.4em;background-color: white;}#sk-container-id-2 div.sk-label label {font-family: monospace;font-weight: bold;display: inline-block;line-height: 1.2em;}#sk-container-id-2 div.sk-label-container {text-align: center;}#sk-container-id-2 div.sk-container {/* jupyter's `normalize.less` sets `[hidden] { display: none; }` but bootstrap.min.css set `[hidden] { display: none !important; }` so we also need the `!important` here to be able to override the default hidden behavior on the sphinx rendered scikit-learn.org. See: https://github.com/scikit-learn/scikit-learn/issues/21755 */display: inline-block !important;position: relative;}#sk-container-id-2 div.sk-text-repr-fallback {display: none;}</style><div id=\"sk-container-id-2\" class=\"sk-top-container\"><div class=\"sk-text-repr-fallback\"><pre>SVC(class_weight=&#x27;balanced&#x27;)</pre><b>In a Jupyter environment, please rerun this cell to show the HTML representation or trust the notebook. <br />On GitHub, the HTML representation is unable to render, please try loading this page with nbviewer.org.</b></div><div class=\"sk-container\" hidden><div class=\"sk-item\"><div class=\"sk-estimator sk-toggleable\"><input class=\"sk-toggleable__control sk-hidden--visually\" id=\"sk-estimator-id-2\" type=\"checkbox\" checked><label for=\"sk-estimator-id-2\" class=\"sk-toggleable__label sk-toggleable__label-arrow\">SVC</label><div class=\"sk-toggleable__content\"><pre>SVC(class_weight=&#x27;balanced&#x27;)</pre></div></div></div></div></div>"
      ],
      "text/plain": [
       "SVC(class_weight='balanced')"
      ]
     },
     "execution_count": 53,
     "metadata": {},
     "output_type": "execute_result"
    }
   ],
   "source": [
    "svc_2.fit(X_train, y_train)"
   ]
  },
  {
   "cell_type": "markdown",
   "id": "aa87d1e2",
   "metadata": {
    "id": "m74i-zp60f20"
   },
   "source": [
    "**[7.3]** Save its predictions from the training and validation sets on 2 different variables"
   ]
  },
  {
   "cell_type": "code",
   "execution_count": 55,
   "id": "f771ded3",
   "metadata": {
    "id": "LaRxUTwR0f_r"
   },
   "outputs": [],
   "source": [
    "y_train_preds = svc_2.predict(X_train)\n",
    "y_val_preds = svc_2.predict(X_val)"
   ]
  },
  {
   "cell_type": "markdown",
   "id": "23950d10",
   "metadata": {
    "id": "2CIbx4edpNbR"
   },
   "source": [
    "**[7.4]** Display the accuracy score on the training and validation sets"
   ]
  },
  {
   "cell_type": "code",
   "execution_count": 57,
   "id": "22c03514",
   "metadata": {
    "colab": {
     "base_uri": "https://localhost:8080/"
    },
    "id": "XU0nEowLoMZi",
    "outputId": "cc555450-9bc9-43d7-c137-c7c0a4829a55"
   },
   "outputs": [
    {
     "name": "stdout",
     "output_type": "stream",
     "text": [
      "0.9398251145083576\n",
      "0.9379937184733987\n"
     ]
    }
   ],
   "source": [
    "print(accuracy_score(y_train, y_train_preds))\n",
    "print(accuracy_score(y_val, y_val_preds))"
   ]
  },
  {
   "cell_type": "markdown",
   "id": "639da114",
   "metadata": {
    "id": "Fg7HzUqr1qV7"
   },
   "source": [
    "**[7.5]** Display the f1 score on the training and validation sets"
   ]
  },
  {
   "cell_type": "code",
   "execution_count": 59,
   "id": "5a909cac",
   "metadata": {
    "colab": {
     "base_uri": "https://localhost:8080/"
    },
    "id": "dmUvEFn81qfw",
    "outputId": "ace22460-c7b4-4164-8d17-3e30727d8512"
   },
   "outputs": [
    {
     "name": "stdout",
     "output_type": "stream",
     "text": [
      "0.9547178551703964\n",
      "0.9534141602500044\n"
     ]
    }
   ],
   "source": [
    "print(f1_score(y_train, y_train_preds, average='weighted'))\n",
    "print(f1_score(y_val, y_val_preds, average='weighted'))"
   ]
  },
  {
   "cell_type": "markdown",
   "id": "0f7654bd",
   "metadata": {
    "id": "j-lBRr8cp_wE"
   },
   "source": [
    "**[7.6]** Display the confusion matrices for this model on the training set"
   ]
  },
  {
   "cell_type": "code",
   "execution_count": 61,
   "id": "4aa9eb7a",
   "metadata": {
    "colab": {
     "base_uri": "https://localhost:8080/",
     "height": 472
    },
    "id": "K4UhZh6noMoP",
    "outputId": "fdf233cb-9766-4d62-efff-091d05a5a803"
   },
   "outputs": [
    {
     "data": {
      "text/plain": [
       "<sklearn.metrics._plot.confusion_matrix.ConfusionMatrixDisplay at 0x1c4a9300490>"
      ]
     },
     "execution_count": 61,
     "metadata": {},
     "output_type": "execute_result"
    },
    {
     "data": {
      "image/png": "[encoded data removed]",
      "text/plain": [
       "<Figure size 640x480 with 2 Axes>"
      ]
     },
     "metadata": {},
     "output_type": "display_data"
    }
   ],
   "source": [
    "ConfusionMatrixDisplay.from_estimator(svc_2, X_train, y_train, normalize='true')"
   ]
  },
  {
   "cell_type": "markdown",
   "id": "4f82a171",
   "metadata": {
    "id": "J8VcFdgZX84m"
   },
   "source": [
    "**[7.7]** Display the confusion matrices for this model on the validation set"
   ]
  },
  {
   "cell_type": "code",
   "execution_count": 63,
   "id": "aa18a0f5",
   "metadata": {
    "colab": {
     "base_uri": "https://localhost:8080/",
     "height": 472
    },
    "id": "2hs-9TjyX9AZ",
    "outputId": "41a47d22-7a0e-4326-c42d-32bad6f7fcd5"
   },
   "outputs": [
    {
     "data": {
      "text/plain": [
       "<sklearn.metrics._plot.confusion_matrix.ConfusionMatrixDisplay at 0x1c481da3190>"
      ]
     },
     "execution_count": 63,
     "metadata": {},
     "output_type": "execute_result"
    },
    {
     "data": {
      "image/png": "[encoded data removed]",
      "text/plain": [
       "<Figure size 640x480 with 2 Axes>"
      ]
     },
     "metadata": {},
     "output_type": "display_data"
    }
   ],
   "source": [
    "ConfusionMatrixDisplay.from_estimator(svc_2, X_val, y_val, normalize='true')"
   ]
  },
  {
   "cell_type": "markdown",
   "id": "ad6961f4",
   "metadata": {
    "id": "6eMGUKBpfAPn"
   },
   "source": [
    "## 8. Reduce SVC Overfitting with C Hyperparameter"
   ]
  },
  {
   "cell_type": "markdown",
   "id": "0e859007",
   "metadata": {
    "id": "OdaRAiydfWJl"
   },
   "source": [
    "**[8.1]** Train a SVC model with C=0.5"
   ]
  },
  {
   "cell_type": "code",
   "execution_count": 65,
   "id": "0d623a27",
   "metadata": {
    "id": "PLG4EF_OklSw"
   },
   "outputs": [],
   "source": [
    "svc_c_1 = SVC(class_weight='balanced', C=0.5).fit(X_train, y_train)"
   ]
  },
  {
   "cell_type": "markdown",
   "id": "0046995b",
   "metadata": {
    "id": "2FLbHpUT44qO"
   },
   "source": [
    "**[8.2]** Save its predictions from the training and validation sets on 2 different variables"
   ]
  },
  {
   "cell_type": "code",
   "execution_count": 67,
   "id": "3a768319",
   "metadata": {
    "id": "YyRAAymT440Z"
   },
   "outputs": [],
   "source": [
    "y_train_preds = svc_c_1.predict(X_train)\n",
    "y_val_preds = svc_c_1.predict(X_val)"
   ]
  },
  {
   "cell_type": "markdown",
   "id": "2a52b2ec",
   "metadata": {
    "id": "FlU1_Up245kI"
   },
   "source": [
    "**[8.3]** Display the accuracy score on the training and validation sets"
   ]
  },
  {
   "cell_type": "code",
   "execution_count": 69,
   "id": "50ba9931",
   "metadata": {
    "colab": {
     "base_uri": "https://localhost:8080/"
    },
    "id": "mgVEWnIg45uL",
    "outputId": "68a13274-439d-47b7-d1da-2cc4be4e4b69"
   },
   "outputs": [
    {
     "name": "stdout",
     "output_type": "stream",
     "text": [
      "0.9303789185652251\n",
      "0.9301418102217569\n"
     ]
    }
   ],
   "source": [
    "print(accuracy_score(y_train, y_train_preds))\n",
    "print(accuracy_score(y_val, y_val_preds))"
   ]
  },
  {
   "cell_type": "markdown",
   "id": "6600a222",
   "metadata": {
    "id": "jW3-GSA947gA"
   },
   "source": [
    "**[8.4]** Display the f1 score on the training and validation sets"
   ]
  },
  {
   "cell_type": "code",
   "execution_count": 71,
   "id": "eb8ed389",
   "metadata": {
    "colab": {
     "base_uri": "https://localhost:8080/"
    },
    "id": "ng-MUnLz47oU",
    "outputId": "7401db7e-81b2-46a6-8ed6-b15cc67a8000"
   },
   "outputs": [
    {
     "name": "stdout",
     "output_type": "stream",
     "text": [
      "0.9487056831162116\n",
      "0.9484855157064509\n"
     ]
    }
   ],
   "source": [
    "print(f1_score(y_train, y_train_preds, average='weighted'))\n",
    "print(f1_score(y_val, y_val_preds, average='weighted'))"
   ]
  },
  {
   "cell_type": "markdown",
   "id": "1346327f",
   "metadata": {
    "id": "N35WxG5o5UPB"
   },
   "source": [
    "## 9. Reduce SVC Overfitting with C Hyperparameter"
   ]
  },
  {
   "cell_type": "markdown",
   "id": "4309570d",
   "metadata": {
    "id": "rvMmJdD7iSc4"
   },
   "source": [
    "**[9.1]** Train a SVC model with a different value for C"
   ]
  },
  {
   "cell_type": "code",
   "execution_count": 73,
   "id": "3daab048",
   "metadata": {
    "id": "wNzgV6K7kZfB"
   },
   "outputs": [],
   "source": [
    "svc_c_2 = SVC(class_weight='balanced', C=1).fit(X_train, y_train)"
   ]
  },
  {
   "cell_type": "markdown",
   "id": "c7269de0",
   "metadata": {
    "id": "d9DBNEwM5yuR"
   },
   "source": [
    "**[9.2]** Save its predictions from the training and validation sets on 2 different variables"
   ]
  },
  {
   "cell_type": "code",
   "execution_count": 75,
   "id": "f0291e4f",
   "metadata": {
    "id": "JmyhVSe55y3a"
   },
   "outputs": [],
   "source": [
    "y_train_preds = svc_c_2.predict(X_train)\n",
    "y_val_preds = svc_c_2.predict(X_val)"
   ]
  },
  {
   "cell_type": "markdown",
   "id": "5641e77a",
   "metadata": {
    "id": "4mhBthoX5zIV"
   },
   "source": [
    "**[9.3]** Display the accuracy score on the training and validation sets"
   ]
  },
  {
   "cell_type": "code",
   "execution_count": 77,
   "id": "81a90534",
   "metadata": {
    "colab": {
     "base_uri": "https://localhost:8080/"
    },
    "id": "ZRWGDfp45zQ4",
    "outputId": "43d7a0a6-3ed5-4cc2-e0a8-88bb18ffec21"
   },
   "outputs": [
    {
     "name": "stdout",
     "output_type": "stream",
     "text": [
      "0.9398251145083576\n",
      "0.9379937184733987\n"
     ]
    }
   ],
   "source": [
    "print(accuracy_score(y_train, y_train_preds))\n",
    "print(accuracy_score(y_val, y_val_preds))"
   ]
  },
  {
   "cell_type": "markdown",
   "id": "49521702",
   "metadata": {
    "id": "1xzOhANd5zZB"
   },
   "source": [
    "**[9.4]** Display the f1 score on the training and validation sets"
   ]
  },
  {
   "cell_type": "code",
   "execution_count": 79,
   "id": "38a0944e",
   "metadata": {
    "colab": {
     "base_uri": "https://localhost:8080/"
    },
    "id": "Ta8Jz1u_5zg4",
    "outputId": "f364b9b7-e1ca-46df-c24d-e2a9017377b8"
   },
   "outputs": [
    {
     "name": "stdout",
     "output_type": "stream",
     "text": [
      "0.9547178551703964\n",
      "0.9534141602500044\n"
     ]
    }
   ],
   "source": [
    "print(f1_score(y_train, y_train_preds, average='weighted'))\n",
    "print(f1_score(y_val, y_val_preds, average='weighted'))"
   ]
  },
  {
   "cell_type": "markdown",
   "id": "b9c96056",
   "metadata": {
    "id": "--IuWVlw50Iu"
   },
   "source": [
    "## 10. Reduce SVC Overfitting with C Hyperparameter"
   ]
  },
  {
   "cell_type": "markdown",
   "id": "71748d1b",
   "metadata": {
    "id": "-axCZYQFib_p"
   },
   "source": [
    "**[10.1]** Train a SVC model with a different value for C"
   ]
  },
  {
   "cell_type": "code",
   "execution_count": 81,
   "id": "d9f294bd",
   "metadata": {
    "id": "Ut2dnEUKkrUo"
   },
   "outputs": [],
   "source": [
    "svc_c_3 = SVC(class_weight='balanced', C=0.45).fit(X_train, y_train)"
   ]
  },
  {
   "cell_type": "markdown",
   "id": "a35b2780",
   "metadata": {
    "id": "m99Jp2bw6O5m"
   },
   "source": [
    "**[10.2]** Save its predictions from the training and validation sets on 2 different variables"
   ]
  },
  {
   "cell_type": "code",
   "execution_count": 83,
   "id": "9b1c71b3",
   "metadata": {
    "id": "n1NjR_9F6PHI"
   },
   "outputs": [],
   "source": [
    "y_train_preds = svc_c_3.predict(X_train)\n",
    "y_val_preds = svc_c_3.predict(X_val)"
   ]
  },
  {
   "cell_type": "markdown",
   "id": "f906f285",
   "metadata": {
    "id": "jeKwpsek6PSX"
   },
   "source": [
    "**[10.3]** Display the accuracy score on the training and validation sets"
   ]
  },
  {
   "cell_type": "code",
   "execution_count": 85,
   "id": "638d1a02",
   "metadata": {
    "colab": {
     "base_uri": "https://localhost:8080/"
    },
    "id": "cuMY9WmR6Pau",
    "outputId": "ad8c74e3-7c39-467e-8e7a-41b9fcd8e51e"
   },
   "outputs": [
    {
     "name": "stdout",
     "output_type": "stream",
     "text": [
      "0.9291773243709476\n",
      "0.9287617778623775\n"
     ]
    }
   ],
   "source": [
    "print(accuracy_score(y_train, y_train_preds))\n",
    "print(accuracy_score(y_val, y_val_preds))"
   ]
  },
  {
   "cell_type": "markdown",
   "id": "c86a0e0d",
   "metadata": {
    "id": "IrMX2j1O6Poe"
   },
   "source": [
    "**[10.4]** Display the f1 score on the training and validation sets"
   ]
  },
  {
   "cell_type": "code",
   "execution_count": 87,
   "id": "9be75dad",
   "metadata": {
    "colab": {
     "base_uri": "https://localhost:8080/"
    },
    "id": "MzaDEsnH6PwS",
    "outputId": "30e35dde-7234-4f8d-e0ff-32f9cfe05730"
   },
   "outputs": [
    {
     "name": "stdout",
     "output_type": "stream",
     "text": [
      "0.9479463092403507\n",
      "0.9476285990882747\n"
     ]
    }
   ],
   "source": [
    "print(f1_score(y_train, y_train_preds, average='weighted'))\n",
    "print(f1_score(y_val, y_val_preds, average='weighted'))"
   ]
  },
  {
   "cell_type": "markdown",
   "id": "0c790b7f",
   "metadata": {
    "id": "nicDxfxYir9p"
   },
   "source": [
    "**[10.5]** Plot the confusion matrics for the training set"
   ]
  },
  {
   "cell_type": "code",
   "execution_count": 89,
   "id": "4c98c205",
   "metadata": {
    "colab": {
     "base_uri": "https://localhost:8080/",
     "height": 472
    },
    "id": "FqX0abehTjqC",
    "outputId": "94767643-886b-488a-85bd-58902078a747"
   },
   "outputs": [
    {
     "data": {
      "text/plain": [
       "<sklearn.metrics._plot.confusion_matrix.ConfusionMatrixDisplay at 0x1c4ab65f6d0>"
      ]
     },
     "execution_count": 89,
     "metadata": {},
     "output_type": "execute_result"
    },
    {
     "data": {
      "image/png": "[encoded data removed]",
      "text/plain": [
       "<Figure size 640x480 with 2 Axes>"
      ]
     },
     "metadata": {},
     "output_type": "display_data"
    }
   ],
   "source": [
    "ConfusionMatrixDisplay.from_estimator(svc_c_3, X_train, y_train, normalize='true')"
   ]
  },
  {
   "cell_type": "markdown",
   "id": "eabf5981",
   "metadata": {
    "id": "Ooax-Uh5ZOBF"
   },
   "source": [
    "**[10.6]** Plot the confusion matrics for the validation set"
   ]
  },
  {
   "cell_type": "code",
   "execution_count": 91,
   "id": "d3b2f06e",
   "metadata": {
    "colab": {
     "base_uri": "https://localhost:8080/",
     "height": 472
    },
    "id": "t59XJgOLZOTH",
    "outputId": "1393706d-c1d6-4e13-add4-87579aac5d57"
   },
   "outputs": [
    {
     "data": {
      "text/plain": [
       "<sklearn.metrics._plot.confusion_matrix.ConfusionMatrixDisplay at 0x1c4ab4050d0>"
      ]
     },
     "execution_count": 91,
     "metadata": {},
     "output_type": "execute_result"
    },
    {
     "data": {
      "image/png": "[encoded data removed]",
      "text/plain": [
       "<Figure size 640x480 with 2 Axes>"
      ]
     },
     "metadata": {},
     "output_type": "display_data"
    }
   ],
   "source": [
    "ConfusionMatrixDisplay.from_estimator(svc_c_3, X_val, y_val, normalize='true')"
   ]
  },
  {
   "cell_type": "markdown",
   "id": "c41d0471",
   "metadata": {
    "id": "mW8RpeR-AVj2"
   },
   "source": [
    "## 11.  Assess model on Testing Set"
   ]
  },
  {
   "cell_type": "markdown",
   "id": "7dd3a566",
   "metadata": {
    "id": "67MM8GB0lxeE"
   },
   "source": [
    "**[11.1]** Print the accuracy and f1 scores on the testing set"
   ]
  },
  {
   "cell_type": "code",
   "execution_count": 93,
   "id": "36230dfc",
   "metadata": {
    "colab": {
     "base_uri": "https://localhost:8080/"
    },
    "id": "WjXWrk6Xlxmb",
    "outputId": "faac97e6-f383-4668-94b8-5a894aedacda"
   },
   "outputs": [
    {
     "name": "stdout",
     "output_type": "stream",
     "text": [
      "0.9282016141312623\n",
      "0.9466691037288024\n"
     ]
    }
   ],
   "source": [
    "y_test_preds = svc_c_3.predict(X_test)\n",
    "print(accuracy_score(y_test, y_test_preds))\n",
    "print(f1_score(y_test, y_test_preds, average='weighted'))"
   ]
  },
  {
   "cell_type": "markdown",
   "id": "7699fd94",
   "metadata": {
    "id": "Mji8eU1eZV37"
   },
   "source": [
    "**[11.2]** Plot the confusion matrics for the training and validation sets"
   ]
  },
  {
   "cell_type": "code",
   "execution_count": 95,
   "id": "ab92d342",
   "metadata": {
    "colab": {
     "base_uri": "https://localhost:8080/",
     "height": 910
    },
    "id": "AQ16rFSVZWAD",
    "outputId": "e6e2f7ce-7774-4a3d-c1ab-c9cff6af1c19"
   },
   "outputs": [
    {
     "data": {
      "text/plain": [
       "<sklearn.metrics._plot.confusion_matrix.ConfusionMatrixDisplay at 0x1c4ab6437f0>"
      ]
     },
     "execution_count": 95,
     "metadata": {},
     "output_type": "execute_result"
    },
    {
     "data": {
      "image/png": "[encoded data removed]",
      "text/plain": [
       "<Figure size 640x480 with 2 Axes>"
      ]
     },
     "metadata": {},
     "output_type": "display_data"
    },
    {
     "data": {
      "image/png": "[encoded data removed]",
      "text/plain": [
       "<Figure size 640x480 with 2 Axes>"
      ]
     },
     "metadata": {},
     "output_type": "display_data"
    }
   ],
   "source": [
    "ConfusionMatrixDisplay.from_estimator(svc_c_3, X_test, y_test, normalize='true')\n",
    "ConfusionMatrixDisplay.from_estimator(svc_c_3, X_val, y_val, normalize='true')"
   ]
  }
 ],
 "metadata": {
  "kernelspec": {
   "display_name": "Python 3 (ipykernel)",
   "language": "python",
   "name": "python3"
  },
  "language_info": {
   "codemirror_mode": {
    "name": "ipython",
    "version": 3
   },
   "file_extension": ".py",
   "mimetype": "text/x-python",
   "name": "python",
   "nbconvert_exporter": "python",
   "pygments_lexer": "ipython3",
   "version": "3.9.6"
  }
 },
 "nbformat": 4,
 "nbformat_minor": 5
}
