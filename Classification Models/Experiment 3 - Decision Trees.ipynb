{
 "cells": [
  {
   "cell_type": "markdown",
   "id": "4bdf8e11",
   "metadata": {},
   "source": [
    "## Experiment 3: Classification with Decision Tree\n",
    "\n",
    "In this experiment, we will train the binary classifier using Decision Tree.\n",
    "The steps are:\n",
    "1.   Load and explore dataset\n",
    "2.   Data Preparation\n",
    "3.   Feature Scaling\n",
    "4.   Data Splitting\n",
    "5.   Train Decision Tree with Default Hyperparameters\n",
    "6.   Reduce Overfitting with min_sample_split\n",
    "7.   Reduce Further Overfitting with max_depth\n",
    "8.   Assess model on Testing Set"
   ]
  },
  {
   "cell_type": "markdown",
   "id": "6f2b7cdf",
   "metadata": {},
   "source": [
    "### 1. Load and Explore Dataset"
   ]
  },
  {
   "cell_type": "code",
   "execution_count": 86,
   "id": "7c227f57",
   "metadata": {},
   "outputs": [],
   "source": [
    "import pandas as pd\n",
    "import numpy as np"
   ]
  },
  {
   "cell_type": "markdown",
   "id": "816f1367",
   "metadata": {},
   "source": [
    "**[1.1]** Loading Dataset"
   ]
  },
  {
   "cell_type": "code",
   "execution_count": 87,
   "id": "a26df64a",
   "metadata": {},
   "outputs": [],
   "source": [
    "url='https://drive.google.com/file/d/177p-Vaa2__BtaxNCmd4YGBv7zfENUNmy/view?usp=sharing'\n",
    "url='https://drive.google.com/uc?id=' + url.split('/')[-2]\n",
    "df = pd.read_csv(url, index_col = False)"
   ]
  },
  {
   "cell_type": "markdown",
   "id": "97b45b6d",
   "metadata": {},
   "source": [
    "**[1.2]** Dataset Exploration"
   ]
  },
  {
   "cell_type": "code",
   "execution_count": 88,
   "id": "86596ed4",
   "metadata": {},
   "outputs": [
    {
     "data": {
      "text/html": [
       "<div>\n",
       "<style scoped>\n",
       "    .dataframe tbody tr th:only-of-type {\n",
       "        vertical-align: middle;\n",
       "    }\n",
       "\n",
       "    .dataframe tbody tr th {\n",
       "        vertical-align: top;\n",
       "    }\n",
       "\n",
       "    .dataframe thead th {\n",
       "        text-align: right;\n",
       "    }\n",
       "</style>\n",
       "<table border=\"1\" class=\"dataframe\">\n",
       "  <thead>\n",
       "    <tr style=\"text-align: right;\">\n",
       "      <th></th>\n",
       "      <th>ID</th>\n",
       "      <th>Target</th>\n",
       "      <th>age_band</th>\n",
       "      <th>gender</th>\n",
       "      <th>car_model</th>\n",
       "      <th>car_segment</th>\n",
       "      <th>age_of_vehicle_years</th>\n",
       "      <th>sched_serv_warr</th>\n",
       "      <th>non_sched_serv_warr</th>\n",
       "      <th>sched_serv_paid</th>\n",
       "      <th>non_sched_serv_paid</th>\n",
       "      <th>total_paid_services</th>\n",
       "      <th>total_services</th>\n",
       "      <th>mth_since_last_serv</th>\n",
       "      <th>annualised_mileage</th>\n",
       "      <th>num_dealers_visited</th>\n",
       "      <th>num_serv_dealer_purchased</th>\n",
       "    </tr>\n",
       "  </thead>\n",
       "  <tbody>\n",
       "    <tr>\n",
       "      <th>0</th>\n",
       "      <td>1</td>\n",
       "      <td>0</td>\n",
       "      <td>3. 35 to 44</td>\n",
       "      <td>Male</td>\n",
       "      <td>model_1</td>\n",
       "      <td>LCV</td>\n",
       "      <td>9</td>\n",
       "      <td>2</td>\n",
       "      <td>10</td>\n",
       "      <td>3</td>\n",
       "      <td>7</td>\n",
       "      <td>5</td>\n",
       "      <td>6</td>\n",
       "      <td>9</td>\n",
       "      <td>8</td>\n",
       "      <td>10</td>\n",
       "      <td>4</td>\n",
       "    </tr>\n",
       "    <tr>\n",
       "      <th>1</th>\n",
       "      <td>2</td>\n",
       "      <td>0</td>\n",
       "      <td>NaN</td>\n",
       "      <td>NaN</td>\n",
       "      <td>model_2</td>\n",
       "      <td>Small/Medium</td>\n",
       "      <td>6</td>\n",
       "      <td>10</td>\n",
       "      <td>3</td>\n",
       "      <td>10</td>\n",
       "      <td>4</td>\n",
       "      <td>9</td>\n",
       "      <td>10</td>\n",
       "      <td>6</td>\n",
       "      <td>10</td>\n",
       "      <td>7</td>\n",
       "      <td>10</td>\n",
       "    </tr>\n",
       "    <tr>\n",
       "      <th>2</th>\n",
       "      <td>3</td>\n",
       "      <td>0</td>\n",
       "      <td>NaN</td>\n",
       "      <td>Male</td>\n",
       "      <td>model_3</td>\n",
       "      <td>Large/SUV</td>\n",
       "      <td>9</td>\n",
       "      <td>10</td>\n",
       "      <td>9</td>\n",
       "      <td>10</td>\n",
       "      <td>9</td>\n",
       "      <td>10</td>\n",
       "      <td>10</td>\n",
       "      <td>7</td>\n",
       "      <td>10</td>\n",
       "      <td>6</td>\n",
       "      <td>10</td>\n",
       "    </tr>\n",
       "    <tr>\n",
       "      <th>3</th>\n",
       "      <td>5</td>\n",
       "      <td>0</td>\n",
       "      <td>NaN</td>\n",
       "      <td>NaN</td>\n",
       "      <td>model_3</td>\n",
       "      <td>Large/SUV</td>\n",
       "      <td>5</td>\n",
       "      <td>8</td>\n",
       "      <td>5</td>\n",
       "      <td>8</td>\n",
       "      <td>4</td>\n",
       "      <td>5</td>\n",
       "      <td>6</td>\n",
       "      <td>4</td>\n",
       "      <td>10</td>\n",
       "      <td>9</td>\n",
       "      <td>7</td>\n",
       "    </tr>\n",
       "    <tr>\n",
       "      <th>4</th>\n",
       "      <td>6</td>\n",
       "      <td>0</td>\n",
       "      <td>NaN</td>\n",
       "      <td>Female</td>\n",
       "      <td>model_2</td>\n",
       "      <td>Small/Medium</td>\n",
       "      <td>8</td>\n",
       "      <td>9</td>\n",
       "      <td>4</td>\n",
       "      <td>10</td>\n",
       "      <td>7</td>\n",
       "      <td>9</td>\n",
       "      <td>8</td>\n",
       "      <td>5</td>\n",
       "      <td>4</td>\n",
       "      <td>4</td>\n",
       "      <td>9</td>\n",
       "    </tr>\n",
       "  </tbody>\n",
       "</table>\n",
       "</div>"
      ],
      "text/plain": [
       "   ID  Target     age_band  gender car_model   car_segment  \\\n",
       "0   1       0  3. 35 to 44    Male   model_1           LCV   \n",
       "1   2       0          NaN     NaN   model_2  Small/Medium   \n",
       "2   3       0          NaN    Male   model_3     Large/SUV   \n",
       "3   5       0          NaN     NaN   model_3     Large/SUV   \n",
       "4   6       0          NaN  Female   model_2  Small/Medium   \n",
       "\n",
       "   age_of_vehicle_years  sched_serv_warr  non_sched_serv_warr  \\\n",
       "0                     9                2                   10   \n",
       "1                     6               10                    3   \n",
       "2                     9               10                    9   \n",
       "3                     5                8                    5   \n",
       "4                     8                9                    4   \n",
       "\n",
       "   sched_serv_paid  non_sched_serv_paid  total_paid_services  total_services  \\\n",
       "0                3                    7                    5               6   \n",
       "1               10                    4                    9              10   \n",
       "2               10                    9                   10              10   \n",
       "3                8                    4                    5               6   \n",
       "4               10                    7                    9               8   \n",
       "\n",
       "   mth_since_last_serv  annualised_mileage  num_dealers_visited  \\\n",
       "0                    9                   8                   10   \n",
       "1                    6                  10                    7   \n",
       "2                    7                  10                    6   \n",
       "3                    4                  10                    9   \n",
       "4                    5                   4                    4   \n",
       "\n",
       "   num_serv_dealer_purchased  \n",
       "0                          4  \n",
       "1                         10  \n",
       "2                         10  \n",
       "3                          7  \n",
       "4                          9  "
      ]
     },
     "execution_count": 88,
     "metadata": {},
     "output_type": "execute_result"
    }
   ],
   "source": [
    "df.head()"
   ]
  },
  {
   "cell_type": "code",
   "execution_count": 89,
   "id": "073876ac",
   "metadata": {},
   "outputs": [
    {
     "name": "stdout",
     "output_type": "stream",
     "text": [
      "<class 'pandas.core.frame.DataFrame'>\n",
      "RangeIndex: 131337 entries, 0 to 131336\n",
      "Data columns (total 17 columns):\n",
      " #   Column                     Non-Null Count   Dtype \n",
      "---  ------                     --------------   ----- \n",
      " 0   ID                         131337 non-null  int64 \n",
      " 1   Target                     131337 non-null  int64 \n",
      " 2   age_band                   18962 non-null   object\n",
      " 3   gender                     62029 non-null   object\n",
      " 4   car_model                  131337 non-null  object\n",
      " 5   car_segment                131337 non-null  object\n",
      " 6   age_of_vehicle_years       131337 non-null  int64 \n",
      " 7   sched_serv_warr            131337 non-null  int64 \n",
      " 8   non_sched_serv_warr        131337 non-null  int64 \n",
      " 9   sched_serv_paid            131337 non-null  int64 \n",
      " 10  non_sched_serv_paid        131337 non-null  int64 \n",
      " 11  total_paid_services        131337 non-null  int64 \n",
      " 12  total_services             131337 non-null  int64 \n",
      " 13  mth_since_last_serv        131337 non-null  int64 \n",
      " 14  annualised_mileage         131337 non-null  int64 \n",
      " 15  num_dealers_visited        131337 non-null  int64 \n",
      " 16  num_serv_dealer_purchased  131337 non-null  int64 \n",
      "dtypes: int64(13), object(4)\n",
      "memory usage: 17.0+ MB\n"
     ]
    }
   ],
   "source": [
    "df.info()"
   ]
  },
  {
   "cell_type": "code",
   "execution_count": 90,
   "id": "c4e4e314",
   "metadata": {},
   "outputs": [
    {
     "name": "stdout",
     "output_type": "stream",
     "text": [
      " Percentage Null values - 'age_band' : 85.56233201611123\n",
      " Percentage Null values - 'gender' : 52.77111552723147\n"
     ]
    }
   ],
   "source": [
    "print( f\" Percentage Null values - 'age_band' : {100 * df['age_band'].isna().sum() / len(df)}\" )\n",
    "print( f\" Percentage Null values - 'gender' : {100 * df['gender'].isna().sum() / len(df)}\" )"
   ]
  },
  {
   "cell_type": "code",
   "execution_count": 91,
   "id": "32bcea34",
   "metadata": {},
   "outputs": [
    {
     "data": {
      "text/html": [
       "<div>\n",
       "<style scoped>\n",
       "    .dataframe tbody tr th:only-of-type {\n",
       "        vertical-align: middle;\n",
       "    }\n",
       "\n",
       "    .dataframe tbody tr th {\n",
       "        vertical-align: top;\n",
       "    }\n",
       "\n",
       "    .dataframe thead th {\n",
       "        text-align: right;\n",
       "    }\n",
       "</style>\n",
       "<table border=\"1\" class=\"dataframe\">\n",
       "  <thead>\n",
       "    <tr style=\"text-align: right;\">\n",
       "      <th></th>\n",
       "      <th>ID</th>\n",
       "      <th>Target</th>\n",
       "      <th>age_band</th>\n",
       "      <th>gender</th>\n",
       "      <th>car_model</th>\n",
       "      <th>car_segment</th>\n",
       "      <th>age_of_vehicle_years</th>\n",
       "      <th>sched_serv_warr</th>\n",
       "      <th>non_sched_serv_warr</th>\n",
       "      <th>sched_serv_paid</th>\n",
       "      <th>non_sched_serv_paid</th>\n",
       "      <th>total_paid_services</th>\n",
       "      <th>total_services</th>\n",
       "      <th>mth_since_last_serv</th>\n",
       "      <th>annualised_mileage</th>\n",
       "      <th>num_dealers_visited</th>\n",
       "      <th>num_serv_dealer_purchased</th>\n",
       "    </tr>\n",
       "  </thead>\n",
       "  <tbody>\n",
       "  </tbody>\n",
       "</table>\n",
       "</div>"
      ],
      "text/plain": [
       "Empty DataFrame\n",
       "Columns: [ID, Target, age_band, gender, car_model, car_segment, age_of_vehicle_years, sched_serv_warr, non_sched_serv_warr, sched_serv_paid, non_sched_serv_paid, total_paid_services, total_services, mth_since_last_serv, annualised_mileage, num_dealers_visited, num_serv_dealer_purchased]\n",
       "Index: []"
      ]
     },
     "execution_count": 91,
     "metadata": {},
     "output_type": "execute_result"
    }
   ],
   "source": [
    "df[df.duplicated()]"
   ]
  },
  {
   "cell_type": "code",
   "execution_count": 92,
   "id": "25f4fb32",
   "metadata": {},
   "outputs": [
    {
     "data": {
      "text/html": [
       "<div>\n",
       "<style scoped>\n",
       "    .dataframe tbody tr th:only-of-type {\n",
       "        vertical-align: middle;\n",
       "    }\n",
       "\n",
       "    .dataframe tbody tr th {\n",
       "        vertical-align: top;\n",
       "    }\n",
       "\n",
       "    .dataframe thead th {\n",
       "        text-align: right;\n",
       "    }\n",
       "</style>\n",
       "<table border=\"1\" class=\"dataframe\">\n",
       "  <thead>\n",
       "    <tr style=\"text-align: right;\">\n",
       "      <th></th>\n",
       "      <th>ID</th>\n",
       "      <th>Target</th>\n",
       "      <th>age_of_vehicle_years</th>\n",
       "      <th>sched_serv_warr</th>\n",
       "      <th>non_sched_serv_warr</th>\n",
       "      <th>sched_serv_paid</th>\n",
       "      <th>non_sched_serv_paid</th>\n",
       "      <th>total_paid_services</th>\n",
       "      <th>total_services</th>\n",
       "      <th>mth_since_last_serv</th>\n",
       "      <th>annualised_mileage</th>\n",
       "      <th>num_dealers_visited</th>\n",
       "      <th>num_serv_dealer_purchased</th>\n",
       "    </tr>\n",
       "  </thead>\n",
       "  <tbody>\n",
       "    <tr>\n",
       "      <th>count</th>\n",
       "      <td>131337.000000</td>\n",
       "      <td>131337.000000</td>\n",
       "      <td>131337.000000</td>\n",
       "      <td>131337.000000</td>\n",
       "      <td>131337.000000</td>\n",
       "      <td>131337.000000</td>\n",
       "      <td>131337.000000</td>\n",
       "      <td>131337.000000</td>\n",
       "      <td>131337.000000</td>\n",
       "      <td>131337.000000</td>\n",
       "      <td>131337.000000</td>\n",
       "      <td>131337.000000</td>\n",
       "      <td>131337.000000</td>\n",
       "    </tr>\n",
       "    <tr>\n",
       "      <th>mean</th>\n",
       "      <td>77097.384180</td>\n",
       "      <td>0.026809</td>\n",
       "      <td>5.493022</td>\n",
       "      <td>5.452500</td>\n",
       "      <td>5.472517</td>\n",
       "      <td>5.452287</td>\n",
       "      <td>5.497050</td>\n",
       "      <td>5.481692</td>\n",
       "      <td>5.454967</td>\n",
       "      <td>5.469807</td>\n",
       "      <td>5.502836</td>\n",
       "      <td>5.485438</td>\n",
       "      <td>5.480778</td>\n",
       "    </tr>\n",
       "    <tr>\n",
       "      <th>std</th>\n",
       "      <td>44501.636704</td>\n",
       "      <td>0.161525</td>\n",
       "      <td>2.843299</td>\n",
       "      <td>2.884328</td>\n",
       "      <td>2.870665</td>\n",
       "      <td>2.886528</td>\n",
       "      <td>2.878699</td>\n",
       "      <td>2.880408</td>\n",
       "      <td>2.875961</td>\n",
       "      <td>2.859756</td>\n",
       "      <td>2.854896</td>\n",
       "      <td>2.876772</td>\n",
       "      <td>2.867524</td>\n",
       "    </tr>\n",
       "    <tr>\n",
       "      <th>min</th>\n",
       "      <td>1.000000</td>\n",
       "      <td>0.000000</td>\n",
       "      <td>1.000000</td>\n",
       "      <td>1.000000</td>\n",
       "      <td>1.000000</td>\n",
       "      <td>1.000000</td>\n",
       "      <td>1.000000</td>\n",
       "      <td>1.000000</td>\n",
       "      <td>1.000000</td>\n",
       "      <td>1.000000</td>\n",
       "      <td>1.000000</td>\n",
       "      <td>1.000000</td>\n",
       "      <td>1.000000</td>\n",
       "    </tr>\n",
       "    <tr>\n",
       "      <th>25%</th>\n",
       "      <td>38563.000000</td>\n",
       "      <td>0.000000</td>\n",
       "      <td>3.000000</td>\n",
       "      <td>3.000000</td>\n",
       "      <td>3.000000</td>\n",
       "      <td>3.000000</td>\n",
       "      <td>3.000000</td>\n",
       "      <td>3.000000</td>\n",
       "      <td>3.000000</td>\n",
       "      <td>3.000000</td>\n",
       "      <td>3.000000</td>\n",
       "      <td>3.000000</td>\n",
       "      <td>3.000000</td>\n",
       "    </tr>\n",
       "    <tr>\n",
       "      <th>50%</th>\n",
       "      <td>77132.000000</td>\n",
       "      <td>0.000000</td>\n",
       "      <td>5.000000</td>\n",
       "      <td>5.000000</td>\n",
       "      <td>5.000000</td>\n",
       "      <td>5.000000</td>\n",
       "      <td>5.000000</td>\n",
       "      <td>5.000000</td>\n",
       "      <td>5.000000</td>\n",
       "      <td>5.000000</td>\n",
       "      <td>5.000000</td>\n",
       "      <td>5.000000</td>\n",
       "      <td>5.000000</td>\n",
       "    </tr>\n",
       "    <tr>\n",
       "      <th>75%</th>\n",
       "      <td>115668.000000</td>\n",
       "      <td>0.000000</td>\n",
       "      <td>8.000000</td>\n",
       "      <td>8.000000</td>\n",
       "      <td>8.000000</td>\n",
       "      <td>8.000000</td>\n",
       "      <td>8.000000</td>\n",
       "      <td>8.000000</td>\n",
       "      <td>8.000000</td>\n",
       "      <td>8.000000</td>\n",
       "      <td>8.000000</td>\n",
       "      <td>8.000000</td>\n",
       "      <td>8.000000</td>\n",
       "    </tr>\n",
       "    <tr>\n",
       "      <th>max</th>\n",
       "      <td>154139.000000</td>\n",
       "      <td>1.000000</td>\n",
       "      <td>10.000000</td>\n",
       "      <td>10.000000</td>\n",
       "      <td>10.000000</td>\n",
       "      <td>10.000000</td>\n",
       "      <td>10.000000</td>\n",
       "      <td>10.000000</td>\n",
       "      <td>10.000000</td>\n",
       "      <td>10.000000</td>\n",
       "      <td>10.000000</td>\n",
       "      <td>10.000000</td>\n",
       "      <td>10.000000</td>\n",
       "    </tr>\n",
       "  </tbody>\n",
       "</table>\n",
       "</div>"
      ],
      "text/plain": [
       "                  ID         Target  age_of_vehicle_years  sched_serv_warr  \\\n",
       "count  131337.000000  131337.000000         131337.000000    131337.000000   \n",
       "mean    77097.384180       0.026809              5.493022         5.452500   \n",
       "std     44501.636704       0.161525              2.843299         2.884328   \n",
       "min         1.000000       0.000000              1.000000         1.000000   \n",
       "25%     38563.000000       0.000000              3.000000         3.000000   \n",
       "50%     77132.000000       0.000000              5.000000         5.000000   \n",
       "75%    115668.000000       0.000000              8.000000         8.000000   \n",
       "max    154139.000000       1.000000             10.000000        10.000000   \n",
       "\n",
       "       non_sched_serv_warr  sched_serv_paid  non_sched_serv_paid  \\\n",
       "count        131337.000000    131337.000000        131337.000000   \n",
       "mean              5.472517         5.452287             5.497050   \n",
       "std               2.870665         2.886528             2.878699   \n",
       "min               1.000000         1.000000             1.000000   \n",
       "25%               3.000000         3.000000             3.000000   \n",
       "50%               5.000000         5.000000             5.000000   \n",
       "75%               8.000000         8.000000             8.000000   \n",
       "max              10.000000        10.000000            10.000000   \n",
       "\n",
       "       total_paid_services  total_services  mth_since_last_serv  \\\n",
       "count        131337.000000   131337.000000        131337.000000   \n",
       "mean              5.481692        5.454967             5.469807   \n",
       "std               2.880408        2.875961             2.859756   \n",
       "min               1.000000        1.000000             1.000000   \n",
       "25%               3.000000        3.000000             3.000000   \n",
       "50%               5.000000        5.000000             5.000000   \n",
       "75%               8.000000        8.000000             8.000000   \n",
       "max              10.000000       10.000000            10.000000   \n",
       "\n",
       "       annualised_mileage  num_dealers_visited  num_serv_dealer_purchased  \n",
       "count       131337.000000        131337.000000              131337.000000  \n",
       "mean             5.502836             5.485438                   5.480778  \n",
       "std              2.854896             2.876772                   2.867524  \n",
       "min              1.000000             1.000000                   1.000000  \n",
       "25%              3.000000             3.000000                   3.000000  \n",
       "50%              5.000000             5.000000                   5.000000  \n",
       "75%              8.000000             8.000000                   8.000000  \n",
       "max             10.000000            10.000000                  10.000000  "
      ]
     },
     "execution_count": 92,
     "metadata": {},
     "output_type": "execute_result"
    }
   ],
   "source": [
    "df.describe()"
   ]
  },
  {
   "cell_type": "code",
   "execution_count": 93,
   "id": "ea7114e8",
   "metadata": {},
   "outputs": [
    {
     "name": "stdout",
     "output_type": "stream",
     "text": [
      "ID\n",
      "[     1      2      3 ... 154137 154138 154139]\n",
      "Target\n",
      "[0 1]\n",
      "age_band\n",
      "['3. 35 to 44' nan '1. <25' '4. 45 to 54' '2. 25 to 34' '7. 75+'\n",
      " '5. 55 to 64' '6. 65 to 74']\n",
      "gender\n",
      "['Male' nan 'Female']\n",
      "car_model\n",
      "['model_1' 'model_2' 'model_3' 'model_5' 'model_6' 'model_4' 'model_7'\n",
      " 'model_8' 'model_9' 'model_10' 'model_11' 'model_13' 'model_12'\n",
      " 'model_14' 'model_15' 'model_16' 'model_17' 'model_18' 'model_19']\n",
      "car_segment\n",
      "['LCV' 'Small/Medium' 'Large/SUV' 'Other']\n",
      "age_of_vehicle_years\n",
      "[ 9  6  5  8  7  1  3  4 10  2]\n",
      "sched_serv_warr\n",
      "[ 2 10  8  9  4  1  3  7  5  6]\n",
      "non_sched_serv_warr\n",
      "[10  3  9  5  4  8  1  6  2  7]\n",
      "sched_serv_paid\n",
      "[ 3 10  8  5  2  6  1  4  9  7]\n",
      "non_sched_serv_paid\n",
      "[ 7  4  9  3  1  2  6  5 10  8]\n",
      "total_paid_services\n",
      "[ 5  9 10  6  8  1  2  7  3  4]\n",
      "total_services\n",
      "[ 6 10  8  4  2  1  3  5  9  7]\n",
      "mth_since_last_serv\n",
      "[ 9  6  7  4  5  8  1  3 10  2]\n",
      "annualised_mileage\n",
      "[ 8 10  4  5  6  1  7  3  9  2]\n",
      "num_dealers_visited\n",
      "[10  7  6  9  4  5  2  1  3  8]\n",
      "num_serv_dealer_purchased\n",
      "[ 4 10  7  9  8  3  1  6  2  5]\n"
     ]
    }
   ],
   "source": [
    "for cols in df.columns:\n",
    "    print(cols)\n",
    "    print(df[cols].unique())"
   ]
  },
  {
   "cell_type": "markdown",
   "id": "fbe06e0c",
   "metadata": {},
   "source": [
    "### 2. Data Preparation"
   ]
  },
  {
   "cell_type": "code",
   "execution_count": 94,
   "id": "c649453d",
   "metadata": {},
   "outputs": [],
   "source": [
    "df_cleaned = df.copy()"
   ]
  },
  {
   "cell_type": "code",
   "execution_count": 95,
   "id": "f026d87c",
   "metadata": {},
   "outputs": [],
   "source": [
    "## Dropping columns ID, gender and age_band\n",
    "df_cleaned.drop(['ID','gender', 'age_band'], axis = 1, inplace = True)"
   ]
  },
  {
   "cell_type": "code",
   "execution_count": 96,
   "id": "ab7e6c1d",
   "metadata": {},
   "outputs": [
    {
     "data": {
      "text/html": [
       "<div>\n",
       "<style scoped>\n",
       "    .dataframe tbody tr th:only-of-type {\n",
       "        vertical-align: middle;\n",
       "    }\n",
       "\n",
       "    .dataframe tbody tr th {\n",
       "        vertical-align: top;\n",
       "    }\n",
       "\n",
       "    .dataframe thead th {\n",
       "        text-align: right;\n",
       "    }\n",
       "</style>\n",
       "<table border=\"1\" class=\"dataframe\">\n",
       "  <thead>\n",
       "    <tr style=\"text-align: right;\">\n",
       "      <th></th>\n",
       "      <th>model_1</th>\n",
       "      <th>model_10</th>\n",
       "      <th>model_11</th>\n",
       "      <th>model_12</th>\n",
       "      <th>model_13</th>\n",
       "      <th>model_14</th>\n",
       "      <th>model_15</th>\n",
       "      <th>model_16</th>\n",
       "      <th>model_17</th>\n",
       "      <th>model_18</th>\n",
       "      <th>model_19</th>\n",
       "      <th>model_2</th>\n",
       "      <th>model_3</th>\n",
       "      <th>model_4</th>\n",
       "      <th>model_5</th>\n",
       "      <th>model_6</th>\n",
       "      <th>model_7</th>\n",
       "      <th>model_8</th>\n",
       "      <th>model_9</th>\n",
       "    </tr>\n",
       "  </thead>\n",
       "  <tbody>\n",
       "    <tr>\n",
       "      <th>0</th>\n",
       "      <td>1</td>\n",
       "      <td>0</td>\n",
       "      <td>0</td>\n",
       "      <td>0</td>\n",
       "      <td>0</td>\n",
       "      <td>0</td>\n",
       "      <td>0</td>\n",
       "      <td>0</td>\n",
       "      <td>0</td>\n",
       "      <td>0</td>\n",
       "      <td>0</td>\n",
       "      <td>0</td>\n",
       "      <td>0</td>\n",
       "      <td>0</td>\n",
       "      <td>0</td>\n",
       "      <td>0</td>\n",
       "      <td>0</td>\n",
       "      <td>0</td>\n",
       "      <td>0</td>\n",
       "    </tr>\n",
       "    <tr>\n",
       "      <th>1</th>\n",
       "      <td>0</td>\n",
       "      <td>0</td>\n",
       "      <td>0</td>\n",
       "      <td>0</td>\n",
       "      <td>0</td>\n",
       "      <td>0</td>\n",
       "      <td>0</td>\n",
       "      <td>0</td>\n",
       "      <td>0</td>\n",
       "      <td>0</td>\n",
       "      <td>0</td>\n",
       "      <td>1</td>\n",
       "      <td>0</td>\n",
       "      <td>0</td>\n",
       "      <td>0</td>\n",
       "      <td>0</td>\n",
       "      <td>0</td>\n",
       "      <td>0</td>\n",
       "      <td>0</td>\n",
       "    </tr>\n",
       "    <tr>\n",
       "      <th>2</th>\n",
       "      <td>0</td>\n",
       "      <td>0</td>\n",
       "      <td>0</td>\n",
       "      <td>0</td>\n",
       "      <td>0</td>\n",
       "      <td>0</td>\n",
       "      <td>0</td>\n",
       "      <td>0</td>\n",
       "      <td>0</td>\n",
       "      <td>0</td>\n",
       "      <td>0</td>\n",
       "      <td>0</td>\n",
       "      <td>1</td>\n",
       "      <td>0</td>\n",
       "      <td>0</td>\n",
       "      <td>0</td>\n",
       "      <td>0</td>\n",
       "      <td>0</td>\n",
       "      <td>0</td>\n",
       "    </tr>\n",
       "    <tr>\n",
       "      <th>3</th>\n",
       "      <td>0</td>\n",
       "      <td>0</td>\n",
       "      <td>0</td>\n",
       "      <td>0</td>\n",
       "      <td>0</td>\n",
       "      <td>0</td>\n",
       "      <td>0</td>\n",
       "      <td>0</td>\n",
       "      <td>0</td>\n",
       "      <td>0</td>\n",
       "      <td>0</td>\n",
       "      <td>0</td>\n",
       "      <td>1</td>\n",
       "      <td>0</td>\n",
       "      <td>0</td>\n",
       "      <td>0</td>\n",
       "      <td>0</td>\n",
       "      <td>0</td>\n",
       "      <td>0</td>\n",
       "    </tr>\n",
       "    <tr>\n",
       "      <th>4</th>\n",
       "      <td>0</td>\n",
       "      <td>0</td>\n",
       "      <td>0</td>\n",
       "      <td>0</td>\n",
       "      <td>0</td>\n",
       "      <td>0</td>\n",
       "      <td>0</td>\n",
       "      <td>0</td>\n",
       "      <td>0</td>\n",
       "      <td>0</td>\n",
       "      <td>0</td>\n",
       "      <td>1</td>\n",
       "      <td>0</td>\n",
       "      <td>0</td>\n",
       "      <td>0</td>\n",
       "      <td>0</td>\n",
       "      <td>0</td>\n",
       "      <td>0</td>\n",
       "      <td>0</td>\n",
       "    </tr>\n",
       "    <tr>\n",
       "      <th>...</th>\n",
       "      <td>...</td>\n",
       "      <td>...</td>\n",
       "      <td>...</td>\n",
       "      <td>...</td>\n",
       "      <td>...</td>\n",
       "      <td>...</td>\n",
       "      <td>...</td>\n",
       "      <td>...</td>\n",
       "      <td>...</td>\n",
       "      <td>...</td>\n",
       "      <td>...</td>\n",
       "      <td>...</td>\n",
       "      <td>...</td>\n",
       "      <td>...</td>\n",
       "      <td>...</td>\n",
       "      <td>...</td>\n",
       "      <td>...</td>\n",
       "      <td>...</td>\n",
       "      <td>...</td>\n",
       "    </tr>\n",
       "    <tr>\n",
       "      <th>131332</th>\n",
       "      <td>0</td>\n",
       "      <td>0</td>\n",
       "      <td>0</td>\n",
       "      <td>0</td>\n",
       "      <td>0</td>\n",
       "      <td>0</td>\n",
       "      <td>0</td>\n",
       "      <td>0</td>\n",
       "      <td>0</td>\n",
       "      <td>0</td>\n",
       "      <td>0</td>\n",
       "      <td>0</td>\n",
       "      <td>1</td>\n",
       "      <td>0</td>\n",
       "      <td>0</td>\n",
       "      <td>0</td>\n",
       "      <td>0</td>\n",
       "      <td>0</td>\n",
       "      <td>0</td>\n",
       "    </tr>\n",
       "    <tr>\n",
       "      <th>131333</th>\n",
       "      <td>0</td>\n",
       "      <td>0</td>\n",
       "      <td>0</td>\n",
       "      <td>0</td>\n",
       "      <td>0</td>\n",
       "      <td>0</td>\n",
       "      <td>0</td>\n",
       "      <td>0</td>\n",
       "      <td>0</td>\n",
       "      <td>0</td>\n",
       "      <td>0</td>\n",
       "      <td>0</td>\n",
       "      <td>1</td>\n",
       "      <td>0</td>\n",
       "      <td>0</td>\n",
       "      <td>0</td>\n",
       "      <td>0</td>\n",
       "      <td>0</td>\n",
       "      <td>0</td>\n",
       "    </tr>\n",
       "    <tr>\n",
       "      <th>131334</th>\n",
       "      <td>0</td>\n",
       "      <td>0</td>\n",
       "      <td>0</td>\n",
       "      <td>0</td>\n",
       "      <td>0</td>\n",
       "      <td>0</td>\n",
       "      <td>0</td>\n",
       "      <td>0</td>\n",
       "      <td>0</td>\n",
       "      <td>0</td>\n",
       "      <td>0</td>\n",
       "      <td>0</td>\n",
       "      <td>0</td>\n",
       "      <td>0</td>\n",
       "      <td>1</td>\n",
       "      <td>0</td>\n",
       "      <td>0</td>\n",
       "      <td>0</td>\n",
       "      <td>0</td>\n",
       "    </tr>\n",
       "    <tr>\n",
       "      <th>131335</th>\n",
       "      <td>0</td>\n",
       "      <td>0</td>\n",
       "      <td>0</td>\n",
       "      <td>0</td>\n",
       "      <td>0</td>\n",
       "      <td>0</td>\n",
       "      <td>0</td>\n",
       "      <td>0</td>\n",
       "      <td>0</td>\n",
       "      <td>0</td>\n",
       "      <td>0</td>\n",
       "      <td>0</td>\n",
       "      <td>0</td>\n",
       "      <td>0</td>\n",
       "      <td>1</td>\n",
       "      <td>0</td>\n",
       "      <td>0</td>\n",
       "      <td>0</td>\n",
       "      <td>0</td>\n",
       "    </tr>\n",
       "    <tr>\n",
       "      <th>131336</th>\n",
       "      <td>1</td>\n",
       "      <td>0</td>\n",
       "      <td>0</td>\n",
       "      <td>0</td>\n",
       "      <td>0</td>\n",
       "      <td>0</td>\n",
       "      <td>0</td>\n",
       "      <td>0</td>\n",
       "      <td>0</td>\n",
       "      <td>0</td>\n",
       "      <td>0</td>\n",
       "      <td>0</td>\n",
       "      <td>0</td>\n",
       "      <td>0</td>\n",
       "      <td>0</td>\n",
       "      <td>0</td>\n",
       "      <td>0</td>\n",
       "      <td>0</td>\n",
       "      <td>0</td>\n",
       "    </tr>\n",
       "  </tbody>\n",
       "</table>\n",
       "<p>131337 rows × 19 columns</p>\n",
       "</div>"
      ],
      "text/plain": [
       "        model_1  model_10  model_11  model_12  model_13  model_14  model_15  \\\n",
       "0             1         0         0         0         0         0         0   \n",
       "1             0         0         0         0         0         0         0   \n",
       "2             0         0         0         0         0         0         0   \n",
       "3             0         0         0         0         0         0         0   \n",
       "4             0         0         0         0         0         0         0   \n",
       "...         ...       ...       ...       ...       ...       ...       ...   \n",
       "131332        0         0         0         0         0         0         0   \n",
       "131333        0         0         0         0         0         0         0   \n",
       "131334        0         0         0         0         0         0         0   \n",
       "131335        0         0         0         0         0         0         0   \n",
       "131336        1         0         0         0         0         0         0   \n",
       "\n",
       "        model_16  model_17  model_18  model_19  model_2  model_3  model_4  \\\n",
       "0              0         0         0         0        0        0        0   \n",
       "1              0         0         0         0        1        0        0   \n",
       "2              0         0         0         0        0        1        0   \n",
       "3              0         0         0         0        0        1        0   \n",
       "4              0         0         0         0        1        0        0   \n",
       "...          ...       ...       ...       ...      ...      ...      ...   \n",
       "131332         0         0         0         0        0        1        0   \n",
       "131333         0         0         0         0        0        1        0   \n",
       "131334         0         0         0         0        0        0        0   \n",
       "131335         0         0         0         0        0        0        0   \n",
       "131336         0         0         0         0        0        0        0   \n",
       "\n",
       "        model_5  model_6  model_7  model_8  model_9  \n",
       "0             0        0        0        0        0  \n",
       "1             0        0        0        0        0  \n",
       "2             0        0        0        0        0  \n",
       "3             0        0        0        0        0  \n",
       "4             0        0        0        0        0  \n",
       "...         ...      ...      ...      ...      ...  \n",
       "131332        0        0        0        0        0  \n",
       "131333        0        0        0        0        0  \n",
       "131334        1        0        0        0        0  \n",
       "131335        1        0        0        0        0  \n",
       "131336        0        0        0        0        0  \n",
       "\n",
       "[131337 rows x 19 columns]"
      ]
     },
     "execution_count": 96,
     "metadata": {},
     "output_type": "execute_result"
    }
   ],
   "source": [
    "#Applying one-hot encoding to the nominal data 'Car_model'\n",
    "df_car_model = pd.get_dummies(df_cleaned['car_model'])\n",
    "df_car_model"
   ]
  },
  {
   "cell_type": "markdown",
   "id": "98ed15a3",
   "metadata": {},
   "source": [
    "#### We will map numerical values to the ordinal data under 'car_segment'"
   ]
  },
  {
   "cell_type": "code",
   "execution_count": 97,
   "id": "84e340a4",
   "metadata": {},
   "outputs": [
    {
     "name": "stdout",
     "output_type": "stream",
     "text": [
      "car_segment\n",
      "['LCV' 'Small/Medium' 'Large/SUV' 'Other']\n"
     ]
    }
   ],
   "source": [
    "ord_cols = ['car_segment']\n",
    "for col in ord_cols:\n",
    "  print(col)\n",
    "  print(df_cleaned[col].unique()) "
   ]
  },
  {
   "cell_type": "code",
   "execution_count": 98,
   "id": "68777131",
   "metadata": {},
   "outputs": [
    {
     "data": {
      "text/plain": [
       "{'Other': 0, 'LCV': 1, 'Small/Medium': 2, 'Large/SUV': 3}"
      ]
     },
     "execution_count": 98,
     "metadata": {},
     "output_type": "execute_result"
    }
   ],
   "source": [
    "car_segment_mapper = {\n",
    "    \"Other\": 0, \n",
    "    \"LCV\": 1, \n",
    "    \"Small/Medium\": 2,\n",
    "    \"Large/SUV\": 3\n",
    "}\n",
    "car_segment_mapper"
   ]
  },
  {
   "cell_type": "code",
   "execution_count": 99,
   "id": "3afa28af",
   "metadata": {},
   "outputs": [
    {
     "data": {
      "text/plain": [
       "0         1\n",
       "1         2\n",
       "2         3\n",
       "3         3\n",
       "4         2\n",
       "         ..\n",
       "131332    3\n",
       "131333    3\n",
       "131334    3\n",
       "131335    3\n",
       "131336    1\n",
       "Name: car_segment, Length: 131337, dtype: int64"
      ]
     },
     "execution_count": 99,
     "metadata": {},
     "output_type": "execute_result"
    }
   ],
   "source": [
    "df_cleaned[\"car_segment\"] = df_cleaned[\"car_segment\"].replace(car_segment_mapper)\n",
    "df_cleaned[\"car_segment\"]"
   ]
  },
  {
   "cell_type": "markdown",
   "id": "3391d875",
   "metadata": {},
   "source": [
    " #### Merging the encoded data-frame"
   ]
  },
  {
   "cell_type": "code",
   "execution_count": 100,
   "id": "6aeb5353",
   "metadata": {},
   "outputs": [],
   "source": [
    "X = pd.concat([df_cleaned, df_car_model], axis=1)\n",
    "X.drop('car_model', axis = 1, inplace = True)"
   ]
  },
  {
   "cell_type": "code",
   "execution_count": 101,
   "id": "36bce76a",
   "metadata": {},
   "outputs": [],
   "source": [
    "y = X.pop('Target')"
   ]
  },
  {
   "cell_type": "markdown",
   "id": "56ccd8c6",
   "metadata": {},
   "source": [
    "### 3. Scale Data"
   ]
  },
  {
   "cell_type": "code",
   "execution_count": 102,
   "id": "b3996c73",
   "metadata": {},
   "outputs": [
    {
     "data": {
      "text/plain": [
       "array([[-1.64100321,  1.23342356, -1.19699048, ..., -0.25750093,\n",
       "        -0.22712936, -0.08732716],\n",
       "       [-0.28324066,  0.17830704,  1.5766297 , ..., -0.25750093,\n",
       "        -0.22712936, -0.08732716],\n",
       "       [ 1.07452189,  1.23342356,  1.5766297 , ..., -0.25750093,\n",
       "        -0.22712936, -0.08732716],\n",
       "       ...,\n",
       "       [ 1.07452189, -0.52510398, -0.50358543, ..., -0.25750093,\n",
       "        -0.22712936, -0.08732716],\n",
       "       [ 1.07452189, -1.22851499, -1.543693  , ..., -0.25750093,\n",
       "        -0.22712936, -0.08732716],\n",
       "       [-1.64100321,  0.17830704, -1.543693  , ..., -0.25750093,\n",
       "        -0.22712936, -0.08732716]])"
      ]
     },
     "execution_count": 102,
     "metadata": {},
     "output_type": "execute_result"
    }
   ],
   "source": [
    "from sklearn.preprocessing import StandardScaler\n",
    "scaler = StandardScaler()\n",
    "scaler.fit(X)\n",
    "X = scaler.transform(X)\n",
    "X"
   ]
  },
  {
   "cell_type": "markdown",
   "id": "df3fe23e",
   "metadata": {},
   "source": [
    "## 4. Data Splitting"
   ]
  },
  {
   "cell_type": "code",
   "execution_count": 103,
   "id": "af059b58",
   "metadata": {},
   "outputs": [
    {
     "data": {
      "text/plain": [
       "0    0.973191\n",
       "1    0.026809\n",
       "Name: Target, dtype: float64"
      ]
     },
     "execution_count": 103,
     "metadata": {},
     "output_type": "execute_result"
    }
   ],
   "source": [
    "y.value_counts(normalize=True)"
   ]
  },
  {
   "cell_type": "code",
   "execution_count": 104,
   "id": "490bfe89",
   "metadata": {},
   "outputs": [],
   "source": [
    "from sklearn.model_selection import train_test_split"
   ]
  },
  {
   "cell_type": "code",
   "execution_count": 105,
   "id": "fe421cfa",
   "metadata": {},
   "outputs": [],
   "source": [
    "X_data, X_test, y_data, y_test = train_test_split (X, y, test_size=0.2, random_state=8)"
   ]
  },
  {
   "cell_type": "code",
   "execution_count": 106,
   "id": "0663e767",
   "metadata": {},
   "outputs": [
    {
     "data": {
      "text/plain": [
       "0    0.971867\n",
       "1    0.028133\n",
       "Name: Target, dtype: float64"
      ]
     },
     "execution_count": 106,
     "metadata": {},
     "output_type": "execute_result"
    }
   ],
   "source": [
    "y_test.value_counts(normalize=True)"
   ]
  },
  {
   "cell_type": "code",
   "execution_count": 107,
   "id": "4e7605da",
   "metadata": {},
   "outputs": [],
   "source": [
    "X_train, X_val, y_train, y_val = train_test_split(X_data, y_data, test_size=0.2, random_state=8)"
   ]
  },
  {
   "cell_type": "code",
   "execution_count": 108,
   "id": "95f147bf",
   "metadata": {},
   "outputs": [
    {
     "data": {
      "text/plain": [
       "0    0.973494\n",
       "1    0.026506\n",
       "Name: Target, dtype: float64"
      ]
     },
     "execution_count": 108,
     "metadata": {},
     "output_type": "execute_result"
    }
   ],
   "source": [
    "y_train.value_counts(normalize=True)"
   ]
  },
  {
   "cell_type": "code",
   "execution_count": 109,
   "id": "55af2886",
   "metadata": {},
   "outputs": [
    {
     "data": {
      "text/plain": [
       "0    0.973637\n",
       "1    0.026363\n",
       "Name: Target, dtype: float64"
      ]
     },
     "execution_count": 109,
     "metadata": {},
     "output_type": "execute_result"
    }
   ],
   "source": [
    "y_val.value_counts(normalize=True)"
   ]
  },
  {
   "cell_type": "code",
   "execution_count": null,
   "id": "9e382e37",
   "metadata": {},
   "outputs": [],
   "source": []
  },
  {
   "cell_type": "markdown",
   "id": "e8dabe48",
   "metadata": {
    "id": "D74rTVpNFJ5o"
   },
   "source": [
    "## 5. Train Decision Tree with Default Hyperparameters"
   ]
  },
  {
   "cell_type": "markdown",
   "id": "24e23458",
   "metadata": {
    "id": "_1AUhHCNv1c6"
   },
   "source": [
    "**[5.1]** Import DecisionTreeClassifier from sklearn.tree"
   ]
  },
  {
   "cell_type": "code",
   "execution_count": 110,
   "id": "8978e552",
   "metadata": {
    "id": "70nHVX_8v2AE"
   },
   "outputs": [],
   "source": [
    "from sklearn.tree import DecisionTreeClassifier"
   ]
  },
  {
   "cell_type": "markdown",
   "id": "60571740",
   "metadata": {
    "id": "bNCcyy1Gn7p9"
   },
   "source": [
    "**[5.2]** Instantiate a DecisionTreeClassifier() model with random_state=8 parameter in order to keep our results consistent"
   ]
  },
  {
   "cell_type": "code",
   "execution_count": 111,
   "id": "090a56a3",
   "metadata": {
    "id": "z7_0V2gzsTGt"
   },
   "outputs": [],
   "source": [
    "tree_1 = DecisionTreeClassifier(random_state=8)"
   ]
  },
  {
   "cell_type": "markdown",
   "id": "fb593fa0",
   "metadata": {
    "id": "wuTSGFjXwUxf"
   },
   "source": [
    "**[5.3]** Train the model on the training set\n",
    "\n"
   ]
  },
  {
   "cell_type": "code",
   "execution_count": 112,
   "id": "9c896793",
   "metadata": {
    "colab": {
     "base_uri": "https://localhost:8080/",
     "height": 75
    },
    "id": "SYNw0QQNwVBB",
    "outputId": "da260c7c-b5fc-419f-847f-7ac997d740f8"
   },
   "outputs": [
    {
     "data": {
      "text/html": [
       "<style>#sk-container-id-2 {color: black;background-color: white;}#sk-container-id-2 pre{padding: 0;}#sk-container-id-2 div.sk-toggleable {background-color: white;}#sk-container-id-2 label.sk-toggleable__label {cursor: pointer;display: block;width: 100%;margin-bottom: 0;padding: 0.3em;box-sizing: border-box;text-align: center;}#sk-container-id-2 label.sk-toggleable__label-arrow:before {content: \"▸\";float: left;margin-right: 0.25em;color: #696969;}#sk-container-id-2 label.sk-toggleable__label-arrow:hover:before {color: black;}#sk-container-id-2 div.sk-estimator:hover label.sk-toggleable__label-arrow:before {color: black;}#sk-container-id-2 div.sk-toggleable__content {max-height: 0;max-width: 0;overflow: hidden;text-align: left;background-color: #f0f8ff;}#sk-container-id-2 div.sk-toggleable__content pre {margin: 0.2em;color: black;border-radius: 0.25em;background-color: #f0f8ff;}#sk-container-id-2 input.sk-toggleable__control:checked~div.sk-toggleable__content {max-height: 200px;max-width: 100%;overflow: auto;}#sk-container-id-2 input.sk-toggleable__control:checked~label.sk-toggleable__label-arrow:before {content: \"▾\";}#sk-container-id-2 div.sk-estimator input.sk-toggleable__control:checked~label.sk-toggleable__label {background-color: #d4ebff;}#sk-container-id-2 div.sk-label input.sk-toggleable__control:checked~label.sk-toggleable__label {background-color: #d4ebff;}#sk-container-id-2 input.sk-hidden--visually {border: 0;clip: rect(1px 1px 1px 1px);clip: rect(1px, 1px, 1px, 1px);height: 1px;margin: -1px;overflow: hidden;padding: 0;position: absolute;width: 1px;}#sk-container-id-2 div.sk-estimator {font-family: monospace;background-color: #f0f8ff;border: 1px dotted black;border-radius: 0.25em;box-sizing: border-box;margin-bottom: 0.5em;}#sk-container-id-2 div.sk-estimator:hover {background-color: #d4ebff;}#sk-container-id-2 div.sk-parallel-item::after {content: \"\";width: 100%;border-bottom: 1px solid gray;flex-grow: 1;}#sk-container-id-2 div.sk-label:hover label.sk-toggleable__label {background-color: #d4ebff;}#sk-container-id-2 div.sk-serial::before {content: \"\";position: absolute;border-left: 1px solid gray;box-sizing: border-box;top: 0;bottom: 0;left: 50%;z-index: 0;}#sk-container-id-2 div.sk-serial {display: flex;flex-direction: column;align-items: center;background-color: white;padding-right: 0.2em;padding-left: 0.2em;position: relative;}#sk-container-id-2 div.sk-item {position: relative;z-index: 1;}#sk-container-id-2 div.sk-parallel {display: flex;align-items: stretch;justify-content: center;background-color: white;position: relative;}#sk-container-id-2 div.sk-item::before, #sk-container-id-2 div.sk-parallel-item::before {content: \"\";position: absolute;border-left: 1px solid gray;box-sizing: border-box;top: 0;bottom: 0;left: 50%;z-index: -1;}#sk-container-id-2 div.sk-parallel-item {display: flex;flex-direction: column;z-index: 1;position: relative;background-color: white;}#sk-container-id-2 div.sk-parallel-item:first-child::after {align-self: flex-end;width: 50%;}#sk-container-id-2 div.sk-parallel-item:last-child::after {align-self: flex-start;width: 50%;}#sk-container-id-2 div.sk-parallel-item:only-child::after {width: 0;}#sk-container-id-2 div.sk-dashed-wrapped {border: 1px dashed gray;margin: 0 0.4em 0.5em 0.4em;box-sizing: border-box;padding-bottom: 0.4em;background-color: white;}#sk-container-id-2 div.sk-label label {font-family: monospace;font-weight: bold;display: inline-block;line-height: 1.2em;}#sk-container-id-2 div.sk-label-container {text-align: center;}#sk-container-id-2 div.sk-container {/* jupyter's `normalize.less` sets `[hidden] { display: none; }` but bootstrap.min.css set `[hidden] { display: none !important; }` so we also need the `!important` here to be able to override the default hidden behavior on the sphinx rendered scikit-learn.org. See: https://github.com/scikit-learn/scikit-learn/issues/21755 */display: inline-block !important;position: relative;}#sk-container-id-2 div.sk-text-repr-fallback {display: none;}</style><div id=\"sk-container-id-2\" class=\"sk-top-container\"><div class=\"sk-text-repr-fallback\"><pre>DecisionTreeClassifier(random_state=8)</pre><b>In a Jupyter environment, please rerun this cell to show the HTML representation or trust the notebook. <br />On GitHub, the HTML representation is unable to render, please try loading this page with nbviewer.org.</b></div><div class=\"sk-container\" hidden><div class=\"sk-item\"><div class=\"sk-estimator sk-toggleable\"><input class=\"sk-toggleable__control sk-hidden--visually\" id=\"sk-estimator-id-2\" type=\"checkbox\" checked><label for=\"sk-estimator-id-2\" class=\"sk-toggleable__label sk-toggleable__label-arrow\">DecisionTreeClassifier</label><div class=\"sk-toggleable__content\"><pre>DecisionTreeClassifier(random_state=8)</pre></div></div></div></div></div>"
      ],
      "text/plain": [
       "DecisionTreeClassifier(random_state=8)"
      ]
     },
     "execution_count": 112,
     "metadata": {},
     "output_type": "execute_result"
    }
   ],
   "source": [
    "tree_1.fit(X_train, y_train)"
   ]
  },
  {
   "cell_type": "markdown",
   "id": "803361b7",
   "metadata": {
    "id": "DvJVsGwz7xj8"
   },
   "source": [
    "**[5.4]** Save its predictions from the training and validation sets on 2 different variables"
   ]
  },
  {
   "cell_type": "code",
   "execution_count": 113,
   "id": "c90a9355",
   "metadata": {
    "id": "cTEIT8T17xsh"
   },
   "outputs": [],
   "source": [
    "y_train_preds = tree_1.predict(X_train)\n",
    "y_val_preds = tree_1.predict(X_val)"
   ]
  },
  {
   "cell_type": "markdown",
   "id": "0ac42c82",
   "metadata": {
    "id": "78ZxE7YQ7rDG"
   },
   "source": [
    "**[5.5]** Import the accuracy and f1 scores from sklearn"
   ]
  },
  {
   "cell_type": "code",
   "execution_count": 114,
   "id": "a209429b",
   "metadata": {
    "id": "0FrEdvmn7rVO"
   },
   "outputs": [],
   "source": [
    "from sklearn.metrics import accuracy_score, f1_score"
   ]
  },
  {
   "cell_type": "markdown",
   "id": "90ab50a4",
   "metadata": {
    "id": "zS_yCNlywaB9"
   },
   "source": [
    "**[5.6]** Print the accuracy score of the training and validation sets"
   ]
  },
  {
   "cell_type": "code",
   "execution_count": 115,
   "id": "14775a69",
   "metadata": {
    "colab": {
     "base_uri": "https://localhost:8080/"
    },
    "id": "NzKDBoyKwagr",
    "outputId": "f37bb5bd-6156-46d3-c924-5c43d653911b"
   },
   "outputs": [
    {
     "name": "stdout",
     "output_type": "stream",
     "text": [
      "0.9999881030277794\n",
      "0.9876272960883221\n"
     ]
    }
   ],
   "source": [
    "print(accuracy_score(y_train, y_train_preds))\n",
    "print(accuracy_score(y_val, y_val_preds))"
   ]
  },
  {
   "cell_type": "markdown",
   "id": "59ee532d",
   "metadata": {
    "id": "2E4GIXYmwvCT"
   },
   "source": [
    "**[5.7]** Print the f1 score of the training and validation sets"
   ]
  },
  {
   "cell_type": "code",
   "execution_count": 116,
   "id": "b0eed4a2",
   "metadata": {
    "colab": {
     "base_uri": "https://localhost:8080/"
    },
    "id": "12jnzqskwaIN",
    "outputId": "4a26e9ec-74a9-4dda-ddfb-8a678d301027"
   },
   "outputs": [
    {
     "name": "stdout",
     "output_type": "stream",
     "text": [
      "0.9999881017288889\n",
      "0.9876272960883221\n"
     ]
    }
   ],
   "source": [
    "print(f1_score(y_train, y_train_preds, average='weighted'))\n",
    "print(f1_score(y_val, y_val_preds, average='weighted'))"
   ]
  },
  {
   "cell_type": "markdown",
   "id": "144601af",
   "metadata": {
    "id": "gQ5hj4r0rsmp"
   },
   "source": [
    "## 6. Reduce Overfitting with min_samples_split"
   ]
  },
  {
   "cell_type": "markdown",
   "id": "cef87660",
   "metadata": {
    "id": "-YYIuzIryHcy"
   },
   "source": [
    "**[6.1]** Train a DecisionTree model with min_samples_split=5 and save the predictions from the training and validation sets"
   ]
  },
  {
   "cell_type": "code",
   "execution_count": 117,
   "id": "5f80bb6f",
   "metadata": {
    "id": "6M3bpFqRs_1k"
   },
   "outputs": [],
   "source": [
    "tree_split_1 = DecisionTreeClassifier(random_state=8, min_samples_split=5).fit(X_train, y_train)\n",
    "y_train_preds = tree_split_1.predict(X_train)\n",
    "y_val_preds = tree_split_1.predict(X_val)"
   ]
  },
  {
   "cell_type": "markdown",
   "id": "98e628fa",
   "metadata": {
    "id": "e14pyWG68fsM"
   },
   "source": [
    "**[6.2]** Print the accuracy score of the training and validation sets"
   ]
  },
  {
   "cell_type": "code",
   "execution_count": 118,
   "id": "166284a1",
   "metadata": {
    "colab": {
     "base_uri": "https://localhost:8080/"
    },
    "id": "scIGkZZS8f3I",
    "outputId": "47ee6653-191b-408f-de38-7e0f79bc511b"
   },
   "outputs": [
    {
     "name": "stdout",
     "output_type": "stream",
     "text": [
      "0.9979894116947237\n",
      "0.9889121538022271\n"
     ]
    }
   ],
   "source": [
    "print(accuracy_score(y_train, y_train_preds))\n",
    "print(accuracy_score(y_val, y_val_preds))"
   ]
  },
  {
   "cell_type": "markdown",
   "id": "37d63ef0",
   "metadata": {
    "id": "9VVk3RWS8gk9"
   },
   "source": [
    "**[6.3]** Print the f1 score of the training and validation sets"
   ]
  },
  {
   "cell_type": "code",
   "execution_count": 119,
   "id": "2d9c0823",
   "metadata": {
    "colab": {
     "base_uri": "https://localhost:8080/"
    },
    "id": "_KyeKvvB8guH",
    "outputId": "9b589340-4aa2-4324-e185-afa3905a9f38"
   },
   "outputs": [
    {
     "name": "stdout",
     "output_type": "stream",
     "text": [
      "0.9979708407000927\n",
      "0.9887670774304218\n"
     ]
    }
   ],
   "source": [
    "print(f1_score(y_train, y_train_preds, average='weighted'))\n",
    "print(f1_score(y_val, y_val_preds, average='weighted'))"
   ]
  },
  {
   "cell_type": "markdown",
   "id": "577e4e24",
   "metadata": {
    "id": "AvE9tU6pzw-w"
   },
   "source": [
    "**[6.4]** Train a DecisionTree model with min_samples_split=10 and save the predictions from the training and validation sets"
   ]
  },
  {
   "cell_type": "code",
   "execution_count": 120,
   "id": "28e3bf74",
   "metadata": {
    "id": "uF3TDtNKs_vA"
   },
   "outputs": [],
   "source": [
    "tree_split_2 = DecisionTreeClassifier(random_state=8, min_samples_split=10).fit(X_train, y_train)\n",
    "y_train_preds = tree_split_2.predict(X_train)\n",
    "y_val_preds = tree_split_2.predict(X_val)"
   ]
  },
  {
   "cell_type": "markdown",
   "id": "a062aa0e",
   "metadata": {
    "id": "VF9wAB4K8jdm"
   },
   "source": [
    "**[6.5]** Print the accuracy score of the training and validation sets"
   ]
  },
  {
   "cell_type": "code",
   "execution_count": 121,
   "id": "585b375b",
   "metadata": {
    "colab": {
     "base_uri": "https://localhost:8080/"
    },
    "id": "sLGHhpvY8jng",
    "outputId": "b647abbc-12c3-4dac-9f2a-ba1b2ecb14f4"
   },
   "outputs": [
    {
     "name": "stdout",
     "output_type": "stream",
     "text": [
      "0.9957646778894771\n",
      "0.9904349481298182\n"
     ]
    }
   ],
   "source": [
    "print(accuracy_score(y_train, y_train_preds))\n",
    "print(accuracy_score(y_val, y_val_preds))"
   ]
  },
  {
   "cell_type": "markdown",
   "id": "7949ec0f",
   "metadata": {
    "id": "rjXILiZG8kKZ"
   },
   "source": [
    "**[6.6]** Print the f1 score of the training and validation sets"
   ]
  },
  {
   "cell_type": "code",
   "execution_count": 122,
   "id": "f3921674",
   "metadata": {
    "colab": {
     "base_uri": "https://localhost:8080/"
    },
    "id": "JAoMkpGp8kR7",
    "outputId": "1c5b9308-d383-494e-dba3-c37b46e2a3c9"
   },
   "outputs": [
    {
     "name": "stdout",
     "output_type": "stream",
     "text": [
      "0.9956788665590679\n",
      "0.990172845238812\n"
     ]
    }
   ],
   "source": [
    "print(f1_score(y_train, y_train_preds, average='weighted'))\n",
    "print(f1_score(y_val, y_val_preds, average='weighted'))"
   ]
  },
  {
   "cell_type": "markdown",
   "id": "ff302c5f",
   "metadata": {
    "id": "zRwxAXn21Anb"
   },
   "source": [
    "**[6.7]** Train a DecisionTree model with min_samples_split=20 and save the predictions from the training and validation sets"
   ]
  },
  {
   "cell_type": "code",
   "execution_count": 123,
   "id": "13aa2be7",
   "metadata": {
    "id": "EG-NOyiVzLN2"
   },
   "outputs": [],
   "source": [
    "tree_split_3 = DecisionTreeClassifier(random_state=8, min_samples_split=20).fit(X_train, y_train)\n",
    "y_train_preds = tree_split_3.predict(X_train)\n",
    "y_val_preds = tree_split_3.predict(X_val)"
   ]
  },
  {
   "cell_type": "markdown",
   "id": "726d71b2",
   "metadata": {
    "id": "PO6lzfBX8qS1"
   },
   "source": [
    "**[6.8]** Print the accuracy score of the training and validation sets"
   ]
  },
  {
   "cell_type": "code",
   "execution_count": 124,
   "id": "088b7b3b",
   "metadata": {
    "colab": {
     "base_uri": "https://localhost:8080/"
    },
    "id": "Bnsi7GVK8qb9",
    "outputId": "01fe408e-d2e5-4d7f-acc2-c9fb80475084"
   },
   "outputs": [
    {
     "name": "stdout",
     "output_type": "stream",
     "text": [
      "0.994027719945274\n",
      "0.9907204720662416\n"
     ]
    }
   ],
   "source": [
    "print(accuracy_score(y_train, y_train_preds))\n",
    "print(accuracy_score(y_val, y_val_preds))"
   ]
  },
  {
   "cell_type": "markdown",
   "id": "d4c31c46",
   "metadata": {
    "id": "LGwfPqGX8qrl"
   },
   "source": [
    "**[6.9]** Print the f1 score of the training and validation sets"
   ]
  },
  {
   "cell_type": "code",
   "execution_count": 125,
   "id": "8db2446a",
   "metadata": {
    "colab": {
     "base_uri": "https://localhost:8080/"
    },
    "id": "KiGoY0C98q0d",
    "outputId": "56022179-afb7-4c46-cd09-98cc2fdc25f1"
   },
   "outputs": [
    {
     "name": "stdout",
     "output_type": "stream",
     "text": [
      "0.9938939015337738\n",
      "0.9904933860937644\n"
     ]
    }
   ],
   "source": [
    "print(f1_score(y_train, y_train_preds, average='weighted'))\n",
    "print(f1_score(y_val, y_val_preds, average='weighted'))"
   ]
  },
  {
   "cell_type": "markdown",
   "id": "785dfc1f",
   "metadata": {
    "id": "j0xD6hMR0xzf"
   },
   "source": [
    "**[6.10]** Import confusion_matrix, ConfusionMatrixDisplay from sklearn.metrics and matplotlib"
   ]
  },
  {
   "cell_type": "code",
   "execution_count": 126,
   "id": "a132519d",
   "metadata": {
    "id": "KWMATIJd0yBD"
   },
   "outputs": [],
   "source": [
    "from sklearn.metrics import confusion_matrix, ConfusionMatrixDisplay\n",
    "import matplotlib.pyplot as plt"
   ]
  },
  {
   "cell_type": "markdown",
   "id": "db8c86e9",
   "metadata": {
    "id": "DHzQBsuj0l2T"
   },
   "source": [
    "**[6.11]** Print the confusion matrices for the training and validation sets for tree_split_2 model"
   ]
  },
  {
   "cell_type": "code",
   "execution_count": 127,
   "id": "91890b3c",
   "metadata": {
    "colab": {
     "base_uri": "https://localhost:8080/",
     "height": 904
    },
    "id": "YGXyGjiP0ghN",
    "outputId": "a514db1f-2848-4835-92a3-72a305144ae4"
   },
   "outputs": [
    {
     "data": {
      "text/plain": [
       "<sklearn.metrics._plot.confusion_matrix.ConfusionMatrixDisplay at 0x1bf5bab1670>"
      ]
     },
     "execution_count": 127,
     "metadata": {},
     "output_type": "execute_result"
    },
    {
     "data": {
      "image/png": "[encoded data removed]",
      "text/plain": [
       "<Figure size 640x480 with 2 Axes>"
      ]
     },
     "metadata": {},
     "output_type": "display_data"
    },
    {
     "data": {
      "image/png": "[encoded data removed]",
      "text/plain": [
       "<Figure size 640x480 with 2 Axes>"
      ]
     },
     "metadata": {},
     "output_type": "display_data"
    }
   ],
   "source": [
    "ConfusionMatrixDisplay.from_estimator(tree_split_2, X_train, y_train, normalize='true')\n",
    "ConfusionMatrixDisplay.from_estimator(tree_split_2, X_val, y_val, normalize='true')"
   ]
  },
  {
   "cell_type": "markdown",
   "id": "076fd66f",
   "metadata": {
    "id": "WU-P_iVRzvrW"
   },
   "source": [
    "## 7. Reduce Further Overfitting with max_depth"
   ]
  },
  {
   "cell_type": "markdown",
   "id": "645b74c2",
   "metadata": {
    "id": "sOY0A4fesF0b"
   },
   "source": [
    "**[7.1]** Let's have a look at what is the current value for this hyperparameter"
   ]
  },
  {
   "cell_type": "code",
   "execution_count": 128,
   "id": "d325f059",
   "metadata": {
    "colab": {
     "base_uri": "https://localhost:8080/"
    },
    "id": "2ip87hj_s_7U",
    "outputId": "47deeaeb-045e-422a-a083-a836ef37e427"
   },
   "outputs": [
    {
     "data": {
      "text/plain": [
       "21"
      ]
     },
     "execution_count": 128,
     "metadata": {},
     "output_type": "execute_result"
    }
   ],
   "source": [
    "tree_split_2.tree_.max_depth"
   ]
  },
  {
   "cell_type": "markdown",
   "id": "8aa91ee3",
   "metadata": {
    "id": "g5hS81F12Blv"
   },
   "source": [
    "**[7.2]** Train a DecisionTree model with min_samples_split=10, max_depth=3 and save the predictions from the training and validation sets"
   ]
  },
  {
   "cell_type": "code",
   "execution_count": 129,
   "id": "ec7b9488",
   "metadata": {
    "id": "JlaCoBxps_pP"
   },
   "outputs": [],
   "source": [
    "tree_depth_1 = DecisionTreeClassifier(random_state=8, min_samples_split=10, max_depth=3).fit(X_train, y_train)\n",
    "y_train_preds = tree_depth_1.predict(X_train)\n",
    "y_val_preds = tree_depth_1.predict(X_val)"
   ]
  },
  {
   "cell_type": "markdown",
   "id": "a55c0e57",
   "metadata": {
    "id": "HAKNvrUV-YLg"
   },
   "source": [
    "**[7.3]** Print the accuracy score of the training and validation sets bold text"
   ]
  },
  {
   "cell_type": "code",
   "execution_count": 130,
   "id": "13d189c3",
   "metadata": {
    "colab": {
     "base_uri": "https://localhost:8080/"
    },
    "id": "koEWHZew-YUF",
    "outputId": "4736f7d0-559d-413d-941f-8dc06b339d58"
   },
   "outputs": [
    {
     "name": "stdout",
     "output_type": "stream",
     "text": [
      "0.9743620248646719\n",
      "0.9742076710764253\n"
     ]
    }
   ],
   "source": [
    "print(accuracy_score(y_train, y_train_preds))\n",
    "print(accuracy_score(y_val, y_val_preds))"
   ]
  },
  {
   "cell_type": "markdown",
   "id": "f0222e8b",
   "metadata": {
    "id": "oh28MCu8-YbH"
   },
   "source": [
    "**[7.4]** Print the f1 score of the training and validation sets"
   ]
  },
  {
   "cell_type": "code",
   "execution_count": 131,
   "id": "d5fbfa9b",
   "metadata": {
    "colab": {
     "base_uri": "https://localhost:8080/"
    },
    "id": "zNPfvaRX-Yir",
    "outputId": "be457dd3-8210-4eee-d71e-6f3c1afb3024"
   },
   "outputs": [
    {
     "name": "stdout",
     "output_type": "stream",
     "text": [
      "0.9636277046157921\n",
      "0.9633680207041209\n"
     ]
    }
   ],
   "source": [
    "print(f1_score(y_train, y_train_preds, average='weighted'))\n",
    "print(f1_score(y_val, y_val_preds, average='weighted'))"
   ]
  },
  {
   "cell_type": "markdown",
   "id": "5f2cb98f",
   "metadata": {
    "id": "J2lFN7en0Ikk"
   },
   "source": [
    "**[7.5]** Train a DecisionTree model with min_samples_split=10, max_depth=8 and save the predictions from the training and validation sets"
   ]
  },
  {
   "cell_type": "code",
   "execution_count": 132,
   "id": "807eeead",
   "metadata": {
    "id": "ru6SjDHV0I1J"
   },
   "outputs": [],
   "source": [
    "tree_depth_2 = DecisionTreeClassifier(random_state=8, min_samples_split=10, max_depth=8).fit(X_train, y_train)\n",
    "y_train_preds = tree_depth_2.predict(X_train)\n",
    "y_val_preds = tree_depth_2.predict(X_val)"
   ]
  },
  {
   "cell_type": "markdown",
   "id": "9828e5ef",
   "metadata": {
    "id": "kmZs2plY_BoT"
   },
   "source": [
    "**[7.6]** Print the accuracy score of the training and validation sets"
   ]
  },
  {
   "cell_type": "code",
   "execution_count": 133,
   "id": "1d0f75ec",
   "metadata": {
    "colab": {
     "base_uri": "https://localhost:8080/"
    },
    "id": "NQf_O28N_By4",
    "outputId": "42517ef5-3b7d-4ab9-a18e-eae1ba22bf8a"
   },
   "outputs": [
    {
     "name": "stdout",
     "output_type": "stream",
     "text": [
      "0.988495627862709\n",
      "0.9879128200247455\n"
     ]
    }
   ],
   "source": [
    "print(accuracy_score(y_train, y_train_preds))\n",
    "print(accuracy_score(y_val, y_val_preds))"
   ]
  },
  {
   "cell_type": "markdown",
   "id": "18e905d3",
   "metadata": {
    "id": "SU2TQ3oN_B_Z"
   },
   "source": [
    "**[7.7]** Print the f1 score of the training and validation sets"
   ]
  },
  {
   "cell_type": "code",
   "execution_count": 134,
   "id": "6192bf64",
   "metadata": {
    "colab": {
     "base_uri": "https://localhost:8080/"
    },
    "id": "KtqCXKXm_CHM",
    "outputId": "88a425a7-dd12-4467-d0e7-e3d601c40ac8"
   },
   "outputs": [
    {
     "name": "stdout",
     "output_type": "stream",
     "text": [
      "0.9872705695648534\n",
      "0.9865789809197011\n"
     ]
    }
   ],
   "source": [
    "print(f1_score(y_train, y_train_preds, average='weighted'))\n",
    "print(f1_score(y_val, y_val_preds, average='weighted'))"
   ]
  },
  {
   "cell_type": "markdown",
   "id": "dbea967a",
   "metadata": {
    "id": "-R6Tdeau0Pla"
   },
   "source": [
    "\n",
    "**[7.8]** Train a DecisionTree model with min_samples_split=10, max_depth=6 and save the predictions from the training and validation sets"
   ]
  },
  {
   "cell_type": "code",
   "execution_count": 135,
   "id": "865ec503",
   "metadata": {
    "id": "asrPIqgG0PzE"
   },
   "outputs": [],
   "source": [
    "tree_depth_3 = DecisionTreeClassifier(random_state=8, min_samples_split=10, max_depth=6).fit(X_train, y_train)\n",
    "y_train_preds = tree_depth_3.predict(X_train)\n",
    "y_val_preds = tree_depth_3.predict(X_val)"
   ]
  },
  {
   "cell_type": "markdown",
   "id": "27878ba2",
   "metadata": {
    "id": "hAgM9hzv_DKJ"
   },
   "source": [
    "**[7.9]** Print the accuracy score of the training and validation sets"
   ]
  },
  {
   "cell_type": "code",
   "execution_count": 136,
   "id": "5a1e5793",
   "metadata": {
    "colab": {
     "base_uri": "https://localhost:8080/"
    },
    "id": "obb_aZva_DTw",
    "outputId": "945718d2-bfb8-4f01-ffab-19c7bb0b095f"
   },
   "outputs": [
    {
     "name": "stdout",
     "output_type": "stream",
     "text": [
      "0.9852953423353756\n",
      "0.9845817074331398\n"
     ]
    }
   ],
   "source": [
    "print(accuracy_score(y_train, y_train_preds))\n",
    "print(accuracy_score(y_val, y_val_preds))"
   ]
  },
  {
   "cell_type": "markdown",
   "id": "fe064d99",
   "metadata": {
    "id": "KinuVUTN_DjI"
   },
   "source": [
    "**[7.10]** Print the f1 score of the training and validation sets"
   ]
  },
  {
   "cell_type": "code",
   "execution_count": 137,
   "id": "4c252c67",
   "metadata": {
    "colab": {
     "base_uri": "https://localhost:8080/"
    },
    "id": "ptmws2LA_DrL",
    "outputId": "82bfa55e-02cd-478c-f500-600659839f10"
   },
   "outputs": [
    {
     "name": "stdout",
     "output_type": "stream",
     "text": [
      "0.9842509095473427\n",
      "0.9835813881486359\n"
     ]
    }
   ],
   "source": [
    "print(f1_score(y_train, y_train_preds, average='weighted'))\n",
    "print(f1_score(y_val, y_val_preds, average='weighted'))"
   ]
  },
  {
   "cell_type": "markdown",
   "id": "add7af1d",
   "metadata": {
    "id": "eNHLIxPU28ys"
   },
   "source": [
    "This is the best model with not much overfitting"
   ]
  },
  {
   "cell_type": "markdown",
   "id": "b9b94723",
   "metadata": {
    "id": "MS-APRTIclAa"
   },
   "source": [
    "**[7.11]** Print the confusion matrices for the training and validation sets for tree_depth_3 model"
   ]
  },
  {
   "cell_type": "code",
   "execution_count": 138,
   "id": "c66c2357",
   "metadata": {
    "colab": {
     "base_uri": "https://localhost:8080/",
     "height": 898
    },
    "id": "nhZGN6gPclKn",
    "outputId": "a93fd3ab-5722-4b50-d18d-3e953efc1ff9"
   },
   "outputs": [
    {
     "data": {
      "text/plain": [
       "<sklearn.metrics._plot.confusion_matrix.ConfusionMatrixDisplay at 0x1bf058bca60>"
      ]
     },
     "execution_count": 138,
     "metadata": {},
     "output_type": "execute_result"
    },
    {
     "data": {
      "image/png": "[encoded data removed]",
      "text/plain": [
       "<Figure size 640x480 with 2 Axes>"
      ]
     },
     "metadata": {},
     "output_type": "display_data"
    },
    {
     "data": {
      "image/png": "[encoded data removed]",
      "text/plain": [
       "<Figure size 640x480 with 2 Axes>"
      ]
     },
     "metadata": {},
     "output_type": "display_data"
    }
   ],
   "source": [
    "ConfusionMatrixDisplay.from_estimator(tree_depth_3, X_train, y_train, normalize='true')\n",
    "ConfusionMatrixDisplay.from_estimator(tree_depth_3, X_val, y_val, normalize='true')"
   ]
  },
  {
   "cell_type": "markdown",
   "id": "89eb036b",
   "metadata": {
    "id": "J9SUSb9N_1to"
   },
   "source": [
    "## 8. Assess model on Testing Set"
   ]
  },
  {
   "cell_type": "markdown",
   "id": "dc2bb433",
   "metadata": {
    "id": "QxuPzaRXt8Db"
   },
   "source": [
    "**[8.1]** Print the accuracy and f1 scores of our best model on the testing set"
   ]
  },
  {
   "cell_type": "code",
   "execution_count": 139,
   "id": "461390cd",
   "metadata": {
    "colab": {
     "base_uri": "https://localhost:8080/"
    },
    "id": "Nk4G8z3ss_io",
    "outputId": "8b6e75d9-51c0-4cf9-eb86-80800f9ce6fe"
   },
   "outputs": [
    {
     "name": "stdout",
     "output_type": "stream",
     "text": [
      "0.9847342774478453\n",
      "0.9836432570935251\n"
     ]
    }
   ],
   "source": [
    "y_test_preds = tree_depth_3.predict(X_test)\n",
    "print(accuracy_score(y_test, y_test_preds))\n",
    "print(f1_score(y_test, y_test_preds, average='weighted'))"
   ]
  },
  {
   "cell_type": "markdown",
   "id": "9dba4a73",
   "metadata": {
    "id": "Img0EFt_3xjR"
   },
   "source": [
    "**[8.2]** Print the confusion matrix for this model on the testing set"
   ]
  },
  {
   "cell_type": "code",
   "execution_count": 140,
   "id": "c8bbdcab",
   "metadata": {
    "colab": {
     "base_uri": "https://localhost:8080/",
     "height": 466
    },
    "id": "lu4ptU0R3xr3",
    "outputId": "1a8e567d-7a81-452b-bc29-100f317d6cd4"
   },
   "outputs": [
    {
     "data": {
      "text/plain": [
       "<sklearn.metrics._plot.confusion_matrix.ConfusionMatrixDisplay at 0x1bf74a72280>"
      ]
     },
     "execution_count": 140,
     "metadata": {},
     "output_type": "execute_result"
    },
    {
     "data": {
      "image/png": "[encoded data removed]",
      "text/plain": [
       "<Figure size 640x480 with 2 Axes>"
      ]
     },
     "metadata": {},
     "output_type": "display_data"
    }
   ],
   "source": [
    "ConfusionMatrixDisplay.from_estimator(tree_depth_3, X_test, y_test, normalize='true')"
   ]
  }
 ],
 "metadata": {
  "kernelspec": {
   "display_name": "Python 3 (ipykernel)",
   "language": "python",
   "name": "python3"
  },
  "language_info": {
   "codemirror_mode": {
    "name": "ipython",
    "version": 3
   },
   "file_extension": ".py",
   "mimetype": "text/x-python",
   "name": "python",
   "nbconvert_exporter": "python",
   "pygments_lexer": "ipython3",
   "version": "3.9.6"
  }
 },
 "nbformat": 4,
 "nbformat_minor": 5
}
