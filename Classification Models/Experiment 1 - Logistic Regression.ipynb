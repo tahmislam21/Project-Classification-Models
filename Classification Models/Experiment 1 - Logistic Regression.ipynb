{
 "cells": [
  {
   "cell_type": "markdown",
   "id": "cefede89",
   "metadata": {},
   "source": [
    "# **Experiment 1: Logistic Regression**\n"
   ]
  },
  {
   "cell_type": "markdown",
   "id": "c4998ba9",
   "metadata": {},
   "source": [
    "In this experiment, we will build our binary classifier using a logistic regression and a KNN.\n",
    "\n",
    "The steps are:\n",
    "1.   Load and explore dataset\n",
    "2.   Data Preparation\n",
    "3.   Feature Scaling\n",
    "4.   Data Splitting\n",
    "5.   Assess model baseline\n",
    "6.   Train a logistic regression model\n",
    "7.   Train Logistic Regression Classifier with L1 and L2 Regularisation\n",
    "8.   Build a KNN model using euclidean distance\n",
    "9.   Build a KNN model using euclidean distance and 50 neighbors\n",
    "10.   Assess the Best Model on the Testing Set"
   ]
  },
  {
   "cell_type": "markdown",
   "id": "a792acd9",
   "metadata": {},
   "source": [
    "### 1. Load and Explore Dataset"
   ]
  },
  {
   "cell_type": "code",
   "execution_count": 8,
   "id": "7c227f57",
   "metadata": {},
   "outputs": [],
   "source": [
    "#Importing the essential libraries for load and exploration\n",
    "import pandas as pd\n",
    "import numpy as np"
   ]
  },
  {
   "cell_type": "markdown",
   "id": "b84d8eca",
   "metadata": {},
   "source": [
    "**[1.1]** Loading Dataset"
   ]
  },
  {
   "cell_type": "code",
   "execution_count": 9,
   "id": "a26df64a",
   "metadata": {},
   "outputs": [],
   "source": [
    "url='https://drive.google.com/file/d/177p-Vaa2__BtaxNCmd4YGBv7zfENUNmy/view?usp=sharing'\n",
    "url='https://drive.google.com/uc?id=' + url.split('/')[-2]\n",
    "df = pd.read_csv(url, index_col = False)"
   ]
  },
  {
   "cell_type": "markdown",
   "id": "87fc5473",
   "metadata": {},
   "source": [
    "**[1.2]** Dataset Exploration"
   ]
  },
  {
   "cell_type": "code",
   "execution_count": 10,
   "id": "869dbee6",
   "metadata": {},
   "outputs": [
    {
     "data": {
      "text/html": [
       "<div>\n",
       "<style scoped>\n",
       "    .dataframe tbody tr th:only-of-type {\n",
       "        vertical-align: middle;\n",
       "    }\n",
       "\n",
       "    .dataframe tbody tr th {\n",
       "        vertical-align: top;\n",
       "    }\n",
       "\n",
       "    .dataframe thead th {\n",
       "        text-align: right;\n",
       "    }\n",
       "</style>\n",
       "<table border=\"1\" class=\"dataframe\">\n",
       "  <thead>\n",
       "    <tr style=\"text-align: right;\">\n",
       "      <th></th>\n",
       "      <th>ID</th>\n",
       "      <th>Target</th>\n",
       "      <th>age_band</th>\n",
       "      <th>gender</th>\n",
       "      <th>car_model</th>\n",
       "      <th>car_segment</th>\n",
       "      <th>age_of_vehicle_years</th>\n",
       "      <th>sched_serv_warr</th>\n",
       "      <th>non_sched_serv_warr</th>\n",
       "      <th>sched_serv_paid</th>\n",
       "      <th>non_sched_serv_paid</th>\n",
       "      <th>total_paid_services</th>\n",
       "      <th>total_services</th>\n",
       "      <th>mth_since_last_serv</th>\n",
       "      <th>annualised_mileage</th>\n",
       "      <th>num_dealers_visited</th>\n",
       "      <th>num_serv_dealer_purchased</th>\n",
       "    </tr>\n",
       "  </thead>\n",
       "  <tbody>\n",
       "    <tr>\n",
       "      <th>0</th>\n",
       "      <td>1</td>\n",
       "      <td>0</td>\n",
       "      <td>3. 35 to 44</td>\n",
       "      <td>Male</td>\n",
       "      <td>model_1</td>\n",
       "      <td>LCV</td>\n",
       "      <td>9</td>\n",
       "      <td>2</td>\n",
       "      <td>10</td>\n",
       "      <td>3</td>\n",
       "      <td>7</td>\n",
       "      <td>5</td>\n",
       "      <td>6</td>\n",
       "      <td>9</td>\n",
       "      <td>8</td>\n",
       "      <td>10</td>\n",
       "      <td>4</td>\n",
       "    </tr>\n",
       "    <tr>\n",
       "      <th>1</th>\n",
       "      <td>2</td>\n",
       "      <td>0</td>\n",
       "      <td>NaN</td>\n",
       "      <td>NaN</td>\n",
       "      <td>model_2</td>\n",
       "      <td>Small/Medium</td>\n",
       "      <td>6</td>\n",
       "      <td>10</td>\n",
       "      <td>3</td>\n",
       "      <td>10</td>\n",
       "      <td>4</td>\n",
       "      <td>9</td>\n",
       "      <td>10</td>\n",
       "      <td>6</td>\n",
       "      <td>10</td>\n",
       "      <td>7</td>\n",
       "      <td>10</td>\n",
       "    </tr>\n",
       "    <tr>\n",
       "      <th>2</th>\n",
       "      <td>3</td>\n",
       "      <td>0</td>\n",
       "      <td>NaN</td>\n",
       "      <td>Male</td>\n",
       "      <td>model_3</td>\n",
       "      <td>Large/SUV</td>\n",
       "      <td>9</td>\n",
       "      <td>10</td>\n",
       "      <td>9</td>\n",
       "      <td>10</td>\n",
       "      <td>9</td>\n",
       "      <td>10</td>\n",
       "      <td>10</td>\n",
       "      <td>7</td>\n",
       "      <td>10</td>\n",
       "      <td>6</td>\n",
       "      <td>10</td>\n",
       "    </tr>\n",
       "    <tr>\n",
       "      <th>3</th>\n",
       "      <td>5</td>\n",
       "      <td>0</td>\n",
       "      <td>NaN</td>\n",
       "      <td>NaN</td>\n",
       "      <td>model_3</td>\n",
       "      <td>Large/SUV</td>\n",
       "      <td>5</td>\n",
       "      <td>8</td>\n",
       "      <td>5</td>\n",
       "      <td>8</td>\n",
       "      <td>4</td>\n",
       "      <td>5</td>\n",
       "      <td>6</td>\n",
       "      <td>4</td>\n",
       "      <td>10</td>\n",
       "      <td>9</td>\n",
       "      <td>7</td>\n",
       "    </tr>\n",
       "    <tr>\n",
       "      <th>4</th>\n",
       "      <td>6</td>\n",
       "      <td>0</td>\n",
       "      <td>NaN</td>\n",
       "      <td>Female</td>\n",
       "      <td>model_2</td>\n",
       "      <td>Small/Medium</td>\n",
       "      <td>8</td>\n",
       "      <td>9</td>\n",
       "      <td>4</td>\n",
       "      <td>10</td>\n",
       "      <td>7</td>\n",
       "      <td>9</td>\n",
       "      <td>8</td>\n",
       "      <td>5</td>\n",
       "      <td>4</td>\n",
       "      <td>4</td>\n",
       "      <td>9</td>\n",
       "    </tr>\n",
       "  </tbody>\n",
       "</table>\n",
       "</div>"
      ],
      "text/plain": [
       "   ID  Target     age_band  gender car_model   car_segment  \\\n",
       "0   1       0  3. 35 to 44    Male   model_1           LCV   \n",
       "1   2       0          NaN     NaN   model_2  Small/Medium   \n",
       "2   3       0          NaN    Male   model_3     Large/SUV   \n",
       "3   5       0          NaN     NaN   model_3     Large/SUV   \n",
       "4   6       0          NaN  Female   model_2  Small/Medium   \n",
       "\n",
       "   age_of_vehicle_years  sched_serv_warr  non_sched_serv_warr  \\\n",
       "0                     9                2                   10   \n",
       "1                     6               10                    3   \n",
       "2                     9               10                    9   \n",
       "3                     5                8                    5   \n",
       "4                     8                9                    4   \n",
       "\n",
       "   sched_serv_paid  non_sched_serv_paid  total_paid_services  total_services  \\\n",
       "0                3                    7                    5               6   \n",
       "1               10                    4                    9              10   \n",
       "2               10                    9                   10              10   \n",
       "3                8                    4                    5               6   \n",
       "4               10                    7                    9               8   \n",
       "\n",
       "   mth_since_last_serv  annualised_mileage  num_dealers_visited  \\\n",
       "0                    9                   8                   10   \n",
       "1                    6                  10                    7   \n",
       "2                    7                  10                    6   \n",
       "3                    4                  10                    9   \n",
       "4                    5                   4                    4   \n",
       "\n",
       "   num_serv_dealer_purchased  \n",
       "0                          4  \n",
       "1                         10  \n",
       "2                         10  \n",
       "3                          7  \n",
       "4                          9  "
      ]
     },
     "execution_count": 10,
     "metadata": {},
     "output_type": "execute_result"
    }
   ],
   "source": [
    "df.head()"
   ]
  },
  {
   "cell_type": "code",
   "execution_count": 11,
   "id": "da84730c",
   "metadata": {},
   "outputs": [
    {
     "name": "stdout",
     "output_type": "stream",
     "text": [
      "<class 'pandas.core.frame.DataFrame'>\n",
      "RangeIndex: 131337 entries, 0 to 131336\n",
      "Data columns (total 17 columns):\n",
      " #   Column                     Non-Null Count   Dtype \n",
      "---  ------                     --------------   ----- \n",
      " 0   ID                         131337 non-null  int64 \n",
      " 1   Target                     131337 non-null  int64 \n",
      " 2   age_band                   18962 non-null   object\n",
      " 3   gender                     62029 non-null   object\n",
      " 4   car_model                  131337 non-null  object\n",
      " 5   car_segment                131337 non-null  object\n",
      " 6   age_of_vehicle_years       131337 non-null  int64 \n",
      " 7   sched_serv_warr            131337 non-null  int64 \n",
      " 8   non_sched_serv_warr        131337 non-null  int64 \n",
      " 9   sched_serv_paid            131337 non-null  int64 \n",
      " 10  non_sched_serv_paid        131337 non-null  int64 \n",
      " 11  total_paid_services        131337 non-null  int64 \n",
      " 12  total_services             131337 non-null  int64 \n",
      " 13  mth_since_last_serv        131337 non-null  int64 \n",
      " 14  annualised_mileage         131337 non-null  int64 \n",
      " 15  num_dealers_visited        131337 non-null  int64 \n",
      " 16  num_serv_dealer_purchased  131337 non-null  int64 \n",
      "dtypes: int64(13), object(4)\n",
      "memory usage: 17.0+ MB\n"
     ]
    }
   ],
   "source": [
    "df.info()"
   ]
  },
  {
   "cell_type": "code",
   "execution_count": 12,
   "id": "06e1827f",
   "metadata": {},
   "outputs": [
    {
     "name": "stdout",
     "output_type": "stream",
     "text": [
      " Percentage Null values - 'age_band' : 85.56233201611123\n",
      " Percentage Null values - 'gender' : 52.77111552723147\n"
     ]
    }
   ],
   "source": [
    "print( f\" Percentage Null values - 'age_band' : {100 * df['age_band'].isna().sum() / len(df)}\" )\n",
    "print( f\" Percentage Null values - 'gender' : {100 * df['gender'].isna().sum() / len(df)}\" )"
   ]
  },
  {
   "cell_type": "code",
   "execution_count": 13,
   "id": "98d15ada",
   "metadata": {},
   "outputs": [
    {
     "data": {
      "text/html": [
       "<div>\n",
       "<style scoped>\n",
       "    .dataframe tbody tr th:only-of-type {\n",
       "        vertical-align: middle;\n",
       "    }\n",
       "\n",
       "    .dataframe tbody tr th {\n",
       "        vertical-align: top;\n",
       "    }\n",
       "\n",
       "    .dataframe thead th {\n",
       "        text-align: right;\n",
       "    }\n",
       "</style>\n",
       "<table border=\"1\" class=\"dataframe\">\n",
       "  <thead>\n",
       "    <tr style=\"text-align: right;\">\n",
       "      <th></th>\n",
       "      <th>ID</th>\n",
       "      <th>Target</th>\n",
       "      <th>age_of_vehicle_years</th>\n",
       "      <th>sched_serv_warr</th>\n",
       "      <th>non_sched_serv_warr</th>\n",
       "      <th>sched_serv_paid</th>\n",
       "      <th>non_sched_serv_paid</th>\n",
       "      <th>total_paid_services</th>\n",
       "      <th>total_services</th>\n",
       "      <th>mth_since_last_serv</th>\n",
       "      <th>annualised_mileage</th>\n",
       "      <th>num_dealers_visited</th>\n",
       "      <th>num_serv_dealer_purchased</th>\n",
       "    </tr>\n",
       "  </thead>\n",
       "  <tbody>\n",
       "    <tr>\n",
       "      <th>count</th>\n",
       "      <td>131337.000000</td>\n",
       "      <td>131337.000000</td>\n",
       "      <td>131337.000000</td>\n",
       "      <td>131337.000000</td>\n",
       "      <td>131337.000000</td>\n",
       "      <td>131337.000000</td>\n",
       "      <td>131337.000000</td>\n",
       "      <td>131337.000000</td>\n",
       "      <td>131337.000000</td>\n",
       "      <td>131337.000000</td>\n",
       "      <td>131337.000000</td>\n",
       "      <td>131337.000000</td>\n",
       "      <td>131337.000000</td>\n",
       "    </tr>\n",
       "    <tr>\n",
       "      <th>mean</th>\n",
       "      <td>77097.384180</td>\n",
       "      <td>0.026809</td>\n",
       "      <td>5.493022</td>\n",
       "      <td>5.452500</td>\n",
       "      <td>5.472517</td>\n",
       "      <td>5.452287</td>\n",
       "      <td>5.497050</td>\n",
       "      <td>5.481692</td>\n",
       "      <td>5.454967</td>\n",
       "      <td>5.469807</td>\n",
       "      <td>5.502836</td>\n",
       "      <td>5.485438</td>\n",
       "      <td>5.480778</td>\n",
       "    </tr>\n",
       "    <tr>\n",
       "      <th>std</th>\n",
       "      <td>44501.636704</td>\n",
       "      <td>0.161525</td>\n",
       "      <td>2.843299</td>\n",
       "      <td>2.884328</td>\n",
       "      <td>2.870665</td>\n",
       "      <td>2.886528</td>\n",
       "      <td>2.878699</td>\n",
       "      <td>2.880408</td>\n",
       "      <td>2.875961</td>\n",
       "      <td>2.859756</td>\n",
       "      <td>2.854896</td>\n",
       "      <td>2.876772</td>\n",
       "      <td>2.867524</td>\n",
       "    </tr>\n",
       "    <tr>\n",
       "      <th>min</th>\n",
       "      <td>1.000000</td>\n",
       "      <td>0.000000</td>\n",
       "      <td>1.000000</td>\n",
       "      <td>1.000000</td>\n",
       "      <td>1.000000</td>\n",
       "      <td>1.000000</td>\n",
       "      <td>1.000000</td>\n",
       "      <td>1.000000</td>\n",
       "      <td>1.000000</td>\n",
       "      <td>1.000000</td>\n",
       "      <td>1.000000</td>\n",
       "      <td>1.000000</td>\n",
       "      <td>1.000000</td>\n",
       "    </tr>\n",
       "    <tr>\n",
       "      <th>25%</th>\n",
       "      <td>38563.000000</td>\n",
       "      <td>0.000000</td>\n",
       "      <td>3.000000</td>\n",
       "      <td>3.000000</td>\n",
       "      <td>3.000000</td>\n",
       "      <td>3.000000</td>\n",
       "      <td>3.000000</td>\n",
       "      <td>3.000000</td>\n",
       "      <td>3.000000</td>\n",
       "      <td>3.000000</td>\n",
       "      <td>3.000000</td>\n",
       "      <td>3.000000</td>\n",
       "      <td>3.000000</td>\n",
       "    </tr>\n",
       "    <tr>\n",
       "      <th>50%</th>\n",
       "      <td>77132.000000</td>\n",
       "      <td>0.000000</td>\n",
       "      <td>5.000000</td>\n",
       "      <td>5.000000</td>\n",
       "      <td>5.000000</td>\n",
       "      <td>5.000000</td>\n",
       "      <td>5.000000</td>\n",
       "      <td>5.000000</td>\n",
       "      <td>5.000000</td>\n",
       "      <td>5.000000</td>\n",
       "      <td>5.000000</td>\n",
       "      <td>5.000000</td>\n",
       "      <td>5.000000</td>\n",
       "    </tr>\n",
       "    <tr>\n",
       "      <th>75%</th>\n",
       "      <td>115668.000000</td>\n",
       "      <td>0.000000</td>\n",
       "      <td>8.000000</td>\n",
       "      <td>8.000000</td>\n",
       "      <td>8.000000</td>\n",
       "      <td>8.000000</td>\n",
       "      <td>8.000000</td>\n",
       "      <td>8.000000</td>\n",
       "      <td>8.000000</td>\n",
       "      <td>8.000000</td>\n",
       "      <td>8.000000</td>\n",
       "      <td>8.000000</td>\n",
       "      <td>8.000000</td>\n",
       "    </tr>\n",
       "    <tr>\n",
       "      <th>max</th>\n",
       "      <td>154139.000000</td>\n",
       "      <td>1.000000</td>\n",
       "      <td>10.000000</td>\n",
       "      <td>10.000000</td>\n",
       "      <td>10.000000</td>\n",
       "      <td>10.000000</td>\n",
       "      <td>10.000000</td>\n",
       "      <td>10.000000</td>\n",
       "      <td>10.000000</td>\n",
       "      <td>10.000000</td>\n",
       "      <td>10.000000</td>\n",
       "      <td>10.000000</td>\n",
       "      <td>10.000000</td>\n",
       "    </tr>\n",
       "  </tbody>\n",
       "</table>\n",
       "</div>"
      ],
      "text/plain": [
       "                  ID         Target  age_of_vehicle_years  sched_serv_warr  \\\n",
       "count  131337.000000  131337.000000         131337.000000    131337.000000   \n",
       "mean    77097.384180       0.026809              5.493022         5.452500   \n",
       "std     44501.636704       0.161525              2.843299         2.884328   \n",
       "min         1.000000       0.000000              1.000000         1.000000   \n",
       "25%     38563.000000       0.000000              3.000000         3.000000   \n",
       "50%     77132.000000       0.000000              5.000000         5.000000   \n",
       "75%    115668.000000       0.000000              8.000000         8.000000   \n",
       "max    154139.000000       1.000000             10.000000        10.000000   \n",
       "\n",
       "       non_sched_serv_warr  sched_serv_paid  non_sched_serv_paid  \\\n",
       "count        131337.000000    131337.000000        131337.000000   \n",
       "mean              5.472517         5.452287             5.497050   \n",
       "std               2.870665         2.886528             2.878699   \n",
       "min               1.000000         1.000000             1.000000   \n",
       "25%               3.000000         3.000000             3.000000   \n",
       "50%               5.000000         5.000000             5.000000   \n",
       "75%               8.000000         8.000000             8.000000   \n",
       "max              10.000000        10.000000            10.000000   \n",
       "\n",
       "       total_paid_services  total_services  mth_since_last_serv  \\\n",
       "count        131337.000000   131337.000000        131337.000000   \n",
       "mean              5.481692        5.454967             5.469807   \n",
       "std               2.880408        2.875961             2.859756   \n",
       "min               1.000000        1.000000             1.000000   \n",
       "25%               3.000000        3.000000             3.000000   \n",
       "50%               5.000000        5.000000             5.000000   \n",
       "75%               8.000000        8.000000             8.000000   \n",
       "max              10.000000       10.000000            10.000000   \n",
       "\n",
       "       annualised_mileage  num_dealers_visited  num_serv_dealer_purchased  \n",
       "count       131337.000000        131337.000000              131337.000000  \n",
       "mean             5.502836             5.485438                   5.480778  \n",
       "std              2.854896             2.876772                   2.867524  \n",
       "min              1.000000             1.000000                   1.000000  \n",
       "25%              3.000000             3.000000                   3.000000  \n",
       "50%              5.000000             5.000000                   5.000000  \n",
       "75%              8.000000             8.000000                   8.000000  \n",
       "max             10.000000            10.000000                  10.000000  "
      ]
     },
     "execution_count": 13,
     "metadata": {},
     "output_type": "execute_result"
    }
   ],
   "source": [
    "df.describe()"
   ]
  },
  {
   "cell_type": "code",
   "execution_count": 14,
   "id": "dd11b543",
   "metadata": {
    "scrolled": true
   },
   "outputs": [
    {
     "name": "stdout",
     "output_type": "stream",
     "text": [
      "ID\n",
      "[     1      2      3 ... 154137 154138 154139]\n",
      "Target\n",
      "[0 1]\n",
      "age_band\n",
      "['3. 35 to 44' nan '1. <25' '4. 45 to 54' '2. 25 to 34' '7. 75+'\n",
      " '5. 55 to 64' '6. 65 to 74']\n",
      "gender\n",
      "['Male' nan 'Female']\n",
      "car_model\n",
      "['model_1' 'model_2' 'model_3' 'model_5' 'model_6' 'model_4' 'model_7'\n",
      " 'model_8' 'model_9' 'model_10' 'model_11' 'model_13' 'model_12'\n",
      " 'model_14' 'model_15' 'model_16' 'model_17' 'model_18' 'model_19']\n",
      "car_segment\n",
      "['LCV' 'Small/Medium' 'Large/SUV' 'Other']\n",
      "age_of_vehicle_years\n",
      "[ 9  6  5  8  7  1  3  4 10  2]\n",
      "sched_serv_warr\n",
      "[ 2 10  8  9  4  1  3  7  5  6]\n",
      "non_sched_serv_warr\n",
      "[10  3  9  5  4  8  1  6  2  7]\n",
      "sched_serv_paid\n",
      "[ 3 10  8  5  2  6  1  4  9  7]\n",
      "non_sched_serv_paid\n",
      "[ 7  4  9  3  1  2  6  5 10  8]\n",
      "total_paid_services\n",
      "[ 5  9 10  6  8  1  2  7  3  4]\n",
      "total_services\n",
      "[ 6 10  8  4  2  1  3  5  9  7]\n",
      "mth_since_last_serv\n",
      "[ 9  6  7  4  5  8  1  3 10  2]\n",
      "annualised_mileage\n",
      "[ 8 10  4  5  6  1  7  3  9  2]\n",
      "num_dealers_visited\n",
      "[10  7  6  9  4  5  2  1  3  8]\n",
      "num_serv_dealer_purchased\n",
      "[ 4 10  7  9  8  3  1  6  2  5]\n"
     ]
    }
   ],
   "source": [
    "for cols in df.columns:\n",
    "    print(cols)\n",
    "    print(df[cols].unique())"
   ]
  },
  {
   "cell_type": "markdown",
   "id": "c5093768",
   "metadata": {},
   "source": [
    "### 2. Data Preparation"
   ]
  },
  {
   "cell_type": "code",
   "execution_count": 15,
   "id": "1a69216b",
   "metadata": {},
   "outputs": [],
   "source": [
    "df_cleaned = df.copy()"
   ]
  },
  {
   "cell_type": "markdown",
   "id": "74014749",
   "metadata": {},
   "source": [
    "We are going to drop the ID column because it provides no utility or significance to our dataset.\n",
    "\n",
    "From our explorations above, we can see that 85% of the **age-band** values are null. One solution to overcome this problem would be to consider the average of each band and fill it in for the rest of the rows, but this would mean that we are taking risks of age inaccuracy in 85% of the cases. This would highly mis-guide the model. Hence it is probably safest to drop the column, although we would be missing out on a highly important parameter that affects the likelihood of an idividual to buy a car. \n",
    "\n",
    "Furthermore, we can see that 52 % of the **gender** values are missing, and there are no ways to infer what their genders may be. Thus this column is also removed."
   ]
  },
  {
   "cell_type": "code",
   "execution_count": 16,
   "id": "baf49029",
   "metadata": {},
   "outputs": [],
   "source": [
    "## Dropping columns ID, gender and age_band\n",
    "df_cleaned.drop(['ID','gender', 'age_band'], axis = 1, inplace = True)"
   ]
  },
  {
   "cell_type": "markdown",
   "id": "a805ca7b",
   "metadata": {},
   "source": [
    "The **car_model** feature is a categorical one that is nominal. Although one school of thought would be to consider it as ordinal, since they have a numerical label, but it would be bold to assume that these numbers are chronologically assigned, or are somewhat related to car performance. Hence it is considered a nominal variable for which I have applied One-hot Encoding."
   ]
  },
  {
   "cell_type": "code",
   "execution_count": 17,
   "id": "fb2d9b71",
   "metadata": {},
   "outputs": [
    {
     "data": {
      "text/html": [
       "<div>\n",
       "<style scoped>\n",
       "    .dataframe tbody tr th:only-of-type {\n",
       "        vertical-align: middle;\n",
       "    }\n",
       "\n",
       "    .dataframe tbody tr th {\n",
       "        vertical-align: top;\n",
       "    }\n",
       "\n",
       "    .dataframe thead th {\n",
       "        text-align: right;\n",
       "    }\n",
       "</style>\n",
       "<table border=\"1\" class=\"dataframe\">\n",
       "  <thead>\n",
       "    <tr style=\"text-align: right;\">\n",
       "      <th></th>\n",
       "      <th>model_1</th>\n",
       "      <th>model_10</th>\n",
       "      <th>model_11</th>\n",
       "      <th>model_12</th>\n",
       "      <th>model_13</th>\n",
       "      <th>model_14</th>\n",
       "      <th>model_15</th>\n",
       "      <th>model_16</th>\n",
       "      <th>model_17</th>\n",
       "      <th>model_18</th>\n",
       "      <th>model_19</th>\n",
       "      <th>model_2</th>\n",
       "      <th>model_3</th>\n",
       "      <th>model_4</th>\n",
       "      <th>model_5</th>\n",
       "      <th>model_6</th>\n",
       "      <th>model_7</th>\n",
       "      <th>model_8</th>\n",
       "      <th>model_9</th>\n",
       "    </tr>\n",
       "  </thead>\n",
       "  <tbody>\n",
       "    <tr>\n",
       "      <th>0</th>\n",
       "      <td>1</td>\n",
       "      <td>0</td>\n",
       "      <td>0</td>\n",
       "      <td>0</td>\n",
       "      <td>0</td>\n",
       "      <td>0</td>\n",
       "      <td>0</td>\n",
       "      <td>0</td>\n",
       "      <td>0</td>\n",
       "      <td>0</td>\n",
       "      <td>0</td>\n",
       "      <td>0</td>\n",
       "      <td>0</td>\n",
       "      <td>0</td>\n",
       "      <td>0</td>\n",
       "      <td>0</td>\n",
       "      <td>0</td>\n",
       "      <td>0</td>\n",
       "      <td>0</td>\n",
       "    </tr>\n",
       "    <tr>\n",
       "      <th>1</th>\n",
       "      <td>0</td>\n",
       "      <td>0</td>\n",
       "      <td>0</td>\n",
       "      <td>0</td>\n",
       "      <td>0</td>\n",
       "      <td>0</td>\n",
       "      <td>0</td>\n",
       "      <td>0</td>\n",
       "      <td>0</td>\n",
       "      <td>0</td>\n",
       "      <td>0</td>\n",
       "      <td>1</td>\n",
       "      <td>0</td>\n",
       "      <td>0</td>\n",
       "      <td>0</td>\n",
       "      <td>0</td>\n",
       "      <td>0</td>\n",
       "      <td>0</td>\n",
       "      <td>0</td>\n",
       "    </tr>\n",
       "    <tr>\n",
       "      <th>2</th>\n",
       "      <td>0</td>\n",
       "      <td>0</td>\n",
       "      <td>0</td>\n",
       "      <td>0</td>\n",
       "      <td>0</td>\n",
       "      <td>0</td>\n",
       "      <td>0</td>\n",
       "      <td>0</td>\n",
       "      <td>0</td>\n",
       "      <td>0</td>\n",
       "      <td>0</td>\n",
       "      <td>0</td>\n",
       "      <td>1</td>\n",
       "      <td>0</td>\n",
       "      <td>0</td>\n",
       "      <td>0</td>\n",
       "      <td>0</td>\n",
       "      <td>0</td>\n",
       "      <td>0</td>\n",
       "    </tr>\n",
       "    <tr>\n",
       "      <th>3</th>\n",
       "      <td>0</td>\n",
       "      <td>0</td>\n",
       "      <td>0</td>\n",
       "      <td>0</td>\n",
       "      <td>0</td>\n",
       "      <td>0</td>\n",
       "      <td>0</td>\n",
       "      <td>0</td>\n",
       "      <td>0</td>\n",
       "      <td>0</td>\n",
       "      <td>0</td>\n",
       "      <td>0</td>\n",
       "      <td>1</td>\n",
       "      <td>0</td>\n",
       "      <td>0</td>\n",
       "      <td>0</td>\n",
       "      <td>0</td>\n",
       "      <td>0</td>\n",
       "      <td>0</td>\n",
       "    </tr>\n",
       "    <tr>\n",
       "      <th>4</th>\n",
       "      <td>0</td>\n",
       "      <td>0</td>\n",
       "      <td>0</td>\n",
       "      <td>0</td>\n",
       "      <td>0</td>\n",
       "      <td>0</td>\n",
       "      <td>0</td>\n",
       "      <td>0</td>\n",
       "      <td>0</td>\n",
       "      <td>0</td>\n",
       "      <td>0</td>\n",
       "      <td>1</td>\n",
       "      <td>0</td>\n",
       "      <td>0</td>\n",
       "      <td>0</td>\n",
       "      <td>0</td>\n",
       "      <td>0</td>\n",
       "      <td>0</td>\n",
       "      <td>0</td>\n",
       "    </tr>\n",
       "    <tr>\n",
       "      <th>...</th>\n",
       "      <td>...</td>\n",
       "      <td>...</td>\n",
       "      <td>...</td>\n",
       "      <td>...</td>\n",
       "      <td>...</td>\n",
       "      <td>...</td>\n",
       "      <td>...</td>\n",
       "      <td>...</td>\n",
       "      <td>...</td>\n",
       "      <td>...</td>\n",
       "      <td>...</td>\n",
       "      <td>...</td>\n",
       "      <td>...</td>\n",
       "      <td>...</td>\n",
       "      <td>...</td>\n",
       "      <td>...</td>\n",
       "      <td>...</td>\n",
       "      <td>...</td>\n",
       "      <td>...</td>\n",
       "    </tr>\n",
       "    <tr>\n",
       "      <th>131332</th>\n",
       "      <td>0</td>\n",
       "      <td>0</td>\n",
       "      <td>0</td>\n",
       "      <td>0</td>\n",
       "      <td>0</td>\n",
       "      <td>0</td>\n",
       "      <td>0</td>\n",
       "      <td>0</td>\n",
       "      <td>0</td>\n",
       "      <td>0</td>\n",
       "      <td>0</td>\n",
       "      <td>0</td>\n",
       "      <td>1</td>\n",
       "      <td>0</td>\n",
       "      <td>0</td>\n",
       "      <td>0</td>\n",
       "      <td>0</td>\n",
       "      <td>0</td>\n",
       "      <td>0</td>\n",
       "    </tr>\n",
       "    <tr>\n",
       "      <th>131333</th>\n",
       "      <td>0</td>\n",
       "      <td>0</td>\n",
       "      <td>0</td>\n",
       "      <td>0</td>\n",
       "      <td>0</td>\n",
       "      <td>0</td>\n",
       "      <td>0</td>\n",
       "      <td>0</td>\n",
       "      <td>0</td>\n",
       "      <td>0</td>\n",
       "      <td>0</td>\n",
       "      <td>0</td>\n",
       "      <td>1</td>\n",
       "      <td>0</td>\n",
       "      <td>0</td>\n",
       "      <td>0</td>\n",
       "      <td>0</td>\n",
       "      <td>0</td>\n",
       "      <td>0</td>\n",
       "    </tr>\n",
       "    <tr>\n",
       "      <th>131334</th>\n",
       "      <td>0</td>\n",
       "      <td>0</td>\n",
       "      <td>0</td>\n",
       "      <td>0</td>\n",
       "      <td>0</td>\n",
       "      <td>0</td>\n",
       "      <td>0</td>\n",
       "      <td>0</td>\n",
       "      <td>0</td>\n",
       "      <td>0</td>\n",
       "      <td>0</td>\n",
       "      <td>0</td>\n",
       "      <td>0</td>\n",
       "      <td>0</td>\n",
       "      <td>1</td>\n",
       "      <td>0</td>\n",
       "      <td>0</td>\n",
       "      <td>0</td>\n",
       "      <td>0</td>\n",
       "    </tr>\n",
       "    <tr>\n",
       "      <th>131335</th>\n",
       "      <td>0</td>\n",
       "      <td>0</td>\n",
       "      <td>0</td>\n",
       "      <td>0</td>\n",
       "      <td>0</td>\n",
       "      <td>0</td>\n",
       "      <td>0</td>\n",
       "      <td>0</td>\n",
       "      <td>0</td>\n",
       "      <td>0</td>\n",
       "      <td>0</td>\n",
       "      <td>0</td>\n",
       "      <td>0</td>\n",
       "      <td>0</td>\n",
       "      <td>1</td>\n",
       "      <td>0</td>\n",
       "      <td>0</td>\n",
       "      <td>0</td>\n",
       "      <td>0</td>\n",
       "    </tr>\n",
       "    <tr>\n",
       "      <th>131336</th>\n",
       "      <td>1</td>\n",
       "      <td>0</td>\n",
       "      <td>0</td>\n",
       "      <td>0</td>\n",
       "      <td>0</td>\n",
       "      <td>0</td>\n",
       "      <td>0</td>\n",
       "      <td>0</td>\n",
       "      <td>0</td>\n",
       "      <td>0</td>\n",
       "      <td>0</td>\n",
       "      <td>0</td>\n",
       "      <td>0</td>\n",
       "      <td>0</td>\n",
       "      <td>0</td>\n",
       "      <td>0</td>\n",
       "      <td>0</td>\n",
       "      <td>0</td>\n",
       "      <td>0</td>\n",
       "    </tr>\n",
       "  </tbody>\n",
       "</table>\n",
       "<p>131337 rows × 19 columns</p>\n",
       "</div>"
      ],
      "text/plain": [
       "        model_1  model_10  model_11  model_12  model_13  model_14  model_15  \\\n",
       "0             1         0         0         0         0         0         0   \n",
       "1             0         0         0         0         0         0         0   \n",
       "2             0         0         0         0         0         0         0   \n",
       "3             0         0         0         0         0         0         0   \n",
       "4             0         0         0         0         0         0         0   \n",
       "...         ...       ...       ...       ...       ...       ...       ...   \n",
       "131332        0         0         0         0         0         0         0   \n",
       "131333        0         0         0         0         0         0         0   \n",
       "131334        0         0         0         0         0         0         0   \n",
       "131335        0         0         0         0         0         0         0   \n",
       "131336        1         0         0         0         0         0         0   \n",
       "\n",
       "        model_16  model_17  model_18  model_19  model_2  model_3  model_4  \\\n",
       "0              0         0         0         0        0        0        0   \n",
       "1              0         0         0         0        1        0        0   \n",
       "2              0         0         0         0        0        1        0   \n",
       "3              0         0         0         0        0        1        0   \n",
       "4              0         0         0         0        1        0        0   \n",
       "...          ...       ...       ...       ...      ...      ...      ...   \n",
       "131332         0         0         0         0        0        1        0   \n",
       "131333         0         0         0         0        0        1        0   \n",
       "131334         0         0         0         0        0        0        0   \n",
       "131335         0         0         0         0        0        0        0   \n",
       "131336         0         0         0         0        0        0        0   \n",
       "\n",
       "        model_5  model_6  model_7  model_8  model_9  \n",
       "0             0        0        0        0        0  \n",
       "1             0        0        0        0        0  \n",
       "2             0        0        0        0        0  \n",
       "3             0        0        0        0        0  \n",
       "4             0        0        0        0        0  \n",
       "...         ...      ...      ...      ...      ...  \n",
       "131332        0        0        0        0        0  \n",
       "131333        0        0        0        0        0  \n",
       "131334        1        0        0        0        0  \n",
       "131335        1        0        0        0        0  \n",
       "131336        0        0        0        0        0  \n",
       "\n",
       "[131337 rows x 19 columns]"
      ]
     },
     "execution_count": 17,
     "metadata": {},
     "output_type": "execute_result"
    }
   ],
   "source": [
    "#Applying one-hot encoding to the nominal data 'Car_model'\n",
    "df_car_model = pd.get_dummies(df_cleaned['car_model'])\n",
    "df_car_model"
   ]
  },
  {
   "cell_type": "markdown",
   "id": "84e5749d",
   "metadata": {},
   "source": [
    "We will map numerical values to the ordinal variable **car_segment**"
   ]
  },
  {
   "cell_type": "code",
   "execution_count": 18,
   "id": "84e340a4",
   "metadata": {},
   "outputs": [
    {
     "name": "stdout",
     "output_type": "stream",
     "text": [
      "car_segment\n",
      "['LCV' 'Small/Medium' 'Large/SUV' 'Other']\n"
     ]
    }
   ],
   "source": [
    "ord_cols = ['car_segment']\n",
    "for col in ord_cols:\n",
    "  print(col)\n",
    "  print(df_cleaned[col].unique()) "
   ]
  },
  {
   "cell_type": "code",
   "execution_count": 19,
   "id": "68777131",
   "metadata": {},
   "outputs": [
    {
     "data": {
      "text/plain": [
       "{'Other': 0, 'LCV': 1, 'Small/Medium': 2, 'Large/SUV': 3}"
      ]
     },
     "execution_count": 19,
     "metadata": {},
     "output_type": "execute_result"
    }
   ],
   "source": [
    "car_segment_mapper = {\n",
    "    \"Other\": 0, \n",
    "    \"LCV\": 1, \n",
    "    \"Small/Medium\": 2,\n",
    "    \"Large/SUV\": 3\n",
    "}\n",
    "car_segment_mapper"
   ]
  },
  {
   "cell_type": "code",
   "execution_count": 20,
   "id": "3afa28af",
   "metadata": {},
   "outputs": [
    {
     "data": {
      "text/plain": [
       "0         1\n",
       "1         2\n",
       "2         3\n",
       "3         3\n",
       "4         2\n",
       "         ..\n",
       "131332    3\n",
       "131333    3\n",
       "131334    3\n",
       "131335    3\n",
       "131336    1\n",
       "Name: car_segment, Length: 131337, dtype: int64"
      ]
     },
     "execution_count": 20,
     "metadata": {},
     "output_type": "execute_result"
    }
   ],
   "source": [
    "df_cleaned[\"car_segment\"] = df_cleaned[\"car_segment\"].replace(car_segment_mapper)\n",
    "df_cleaned[\"car_segment\"]"
   ]
  },
  {
   "cell_type": "markdown",
   "id": "5bd16b1c",
   "metadata": {},
   "source": [
    "##### Now we are going to merge the encoded data frames to a variable called X (which would be our refined dataset)"
   ]
  },
  {
   "cell_type": "code",
   "execution_count": 21,
   "id": "6aeb5353",
   "metadata": {},
   "outputs": [],
   "source": [
    "X = pd.concat([df_cleaned, df_car_model], axis=1)\n",
    "## Drop the variable \"car_model\" since now we have the encoded columns replacing it\n",
    "X.drop('car_model', axis = 1, inplace = True)"
   ]
  },
  {
   "cell_type": "markdown",
   "id": "1aa19bc8",
   "metadata": {},
   "source": [
    "Let's extract the target variable on variable y"
   ]
  },
  {
   "cell_type": "code",
   "execution_count": 22,
   "id": "36bce76a",
   "metadata": {},
   "outputs": [],
   "source": [
    "y = X.pop('Target')"
   ]
  },
  {
   "cell_type": "markdown",
   "id": "a8da8c50",
   "metadata": {},
   "source": [
    "### 3. Scale Data"
   ]
  },
  {
   "cell_type": "markdown",
   "id": "01bee959",
   "metadata": {},
   "source": [
    "In the code below we will normalize the dataset so that all the features are levelled down to a standard range of values."
   ]
  },
  {
   "cell_type": "code",
   "execution_count": 23,
   "id": "374fa83f",
   "metadata": {},
   "outputs": [
    {
     "data": {
      "text/plain": [
       "array([[-1.64100321,  1.23342356, -1.19699048, ..., -0.25750093,\n",
       "        -0.22712936, -0.08732716],\n",
       "       [-0.28324066,  0.17830704,  1.5766297 , ..., -0.25750093,\n",
       "        -0.22712936, -0.08732716],\n",
       "       [ 1.07452189,  1.23342356,  1.5766297 , ..., -0.25750093,\n",
       "        -0.22712936, -0.08732716],\n",
       "       ...,\n",
       "       [ 1.07452189, -0.52510398, -0.50358543, ..., -0.25750093,\n",
       "        -0.22712936, -0.08732716],\n",
       "       [ 1.07452189, -1.22851499, -1.543693  , ..., -0.25750093,\n",
       "        -0.22712936, -0.08732716],\n",
       "       [-1.64100321,  0.17830704, -1.543693  , ..., -0.25750093,\n",
       "        -0.22712936, -0.08732716]])"
      ]
     },
     "execution_count": 23,
     "metadata": {},
     "output_type": "execute_result"
    }
   ],
   "source": [
    "from sklearn.preprocessing import StandardScaler\n",
    "scaler = StandardScaler()\n",
    "scaler.fit(X)\n",
    "X = scaler.transform(X)\n",
    "X"
   ]
  },
  {
   "cell_type": "markdown",
   "id": "a273beca",
   "metadata": {},
   "source": [
    "### 4. Data Splitting"
   ]
  },
  {
   "cell_type": "code",
   "execution_count": 24,
   "id": "763623e3",
   "metadata": {},
   "outputs": [
    {
     "data": {
      "text/plain": [
       "0    0.973191\n",
       "1    0.026809\n",
       "Name: Target, dtype: float64"
      ]
     },
     "execution_count": 24,
     "metadata": {},
     "output_type": "execute_result"
    }
   ],
   "source": [
    "y.value_counts(normalize=True)"
   ]
  },
  {
   "cell_type": "code",
   "execution_count": 25,
   "id": "68c7ca9d",
   "metadata": {},
   "outputs": [],
   "source": [
    "from sklearn.model_selection import train_test_split"
   ]
  },
  {
   "cell_type": "code",
   "execution_count": 26,
   "id": "e322b216",
   "metadata": {},
   "outputs": [],
   "source": [
    "X_data, X_test, y_data, y_test = train_test_split (X, y, test_size=0.2, random_state=8)"
   ]
  },
  {
   "cell_type": "code",
   "execution_count": 27,
   "id": "166cc161",
   "metadata": {},
   "outputs": [
    {
     "data": {
      "text/plain": [
       "0    0.971867\n",
       "1    0.028133\n",
       "Name: Target, dtype: float64"
      ]
     },
     "execution_count": 27,
     "metadata": {},
     "output_type": "execute_result"
    }
   ],
   "source": [
    "y_test.value_counts(normalize=True)"
   ]
  },
  {
   "cell_type": "code",
   "execution_count": 28,
   "id": "cff4f105",
   "metadata": {},
   "outputs": [],
   "source": [
    "X_train, X_val, y_train, y_val = train_test_split(X_data, y_data, test_size=0.2, random_state=8)"
   ]
  },
  {
   "cell_type": "code",
   "execution_count": 29,
   "id": "f4db365f",
   "metadata": {},
   "outputs": [
    {
     "data": {
      "text/plain": [
       "0    0.973494\n",
       "1    0.026506\n",
       "Name: Target, dtype: float64"
      ]
     },
     "execution_count": 29,
     "metadata": {},
     "output_type": "execute_result"
    }
   ],
   "source": [
    "y_train.value_counts(normalize=True)"
   ]
  },
  {
   "cell_type": "code",
   "execution_count": 30,
   "id": "67fbf7b4",
   "metadata": {},
   "outputs": [
    {
     "data": {
      "text/plain": [
       "0    0.973637\n",
       "1    0.026363\n",
       "Name: Target, dtype: float64"
      ]
     },
     "execution_count": 30,
     "metadata": {},
     "output_type": "execute_result"
    }
   ],
   "source": [
    "y_val.value_counts(normalize=True)"
   ]
  },
  {
   "cell_type": "markdown",
   "id": "eddcdede",
   "metadata": {
    "id": "ZFsxN4VoBgZK"
   },
   "source": [
    "## 5. Assess Baseline Model"
   ]
  },
  {
   "cell_type": "markdown",
   "id": "1db4a34d",
   "metadata": {
    "id": "OmYAxkGHBjqm"
   },
   "source": [
    "**[5.1]** Finding the mode of the target variable and print its value"
   ]
  },
  {
   "cell_type": "code",
   "execution_count": 31,
   "id": "78fa546b",
   "metadata": {
    "id": "QQQLVZg6Bjwe"
   },
   "outputs": [],
   "source": [
    "y_mode = y.mode()"
   ]
  },
  {
   "cell_type": "markdown",
   "id": "303dc7c1",
   "metadata": {
    "id": "8TtamkHb46cA"
   },
   "source": [
    "**[5.2]** Creating a numpy array called y_base filled with the mode"
   ]
  },
  {
   "cell_type": "code",
   "execution_count": 32,
   "id": "e275a986",
   "metadata": {
    "id": "gly6Xg-o46jE"
   },
   "outputs": [],
   "source": [
    "y_base = np.full(y_train.shape, y_mode)"
   ]
  },
  {
   "cell_type": "code",
   "execution_count": 33,
   "id": "f5d47eb3",
   "metadata": {
    "id": "UgraS09s9Uge"
   },
   "outputs": [],
   "source": [
    "# Unit Tests\n",
    "assert isinstance(y_base, np.ndarray)\n",
    "assert y_base.shape == y_train.shape"
   ]
  },
  {
   "cell_type": "markdown",
   "id": "c9158b32",
   "metadata": {
    "id": "spEoA5ng5UPR"
   },
   "source": [
    "**[5.3]** Importing accuracy score from sklearn"
   ]
  },
  {
   "cell_type": "code",
   "execution_count": 34,
   "id": "1805990c",
   "metadata": {
    "id": "OMqMqpM95UUv"
   },
   "outputs": [],
   "source": [
    "from sklearn.metrics import accuracy_score"
   ]
  },
  {
   "cell_type": "markdown",
   "id": "51cf5cf1",
   "metadata": {
    "id": "jtJQR7Hh5aqi"
   },
   "source": [
    "**[5.4]** Displaying accuracy score of this baseline model"
   ]
  },
  {
   "cell_type": "code",
   "execution_count": 35,
   "id": "0d5fa6e3",
   "metadata": {
    "id": "Kc3SUxq85axL"
   },
   "outputs": [
    {
     "data": {
      "text/plain": [
       "0.9734935458925703"
      ]
     },
     "execution_count": 35,
     "metadata": {},
     "output_type": "execute_result"
    }
   ],
   "source": [
    "accuracy_score(y_base, y_train)"
   ]
  },
  {
   "cell_type": "markdown",
   "id": "278587f3",
   "metadata": {
    "id": "TrAHjeLjOBQQ"
   },
   "source": [
    "## 6. Train a Logistic Regression Model"
   ]
  },
  {
   "cell_type": "markdown",
   "id": "91efd5a2",
   "metadata": {
    "id": "MtDgx3605tQG"
   },
   "source": [
    "**[6.1]** Importing the LogisticRegression class from sklearn"
   ]
  },
  {
   "cell_type": "code",
   "execution_count": 36,
   "id": "1a74c8a4",
   "metadata": {
    "id": "_TWq88j-5tXA"
   },
   "outputs": [],
   "source": [
    "from sklearn.linear_model import LogisticRegression"
   ]
  },
  {
   "cell_type": "markdown",
   "id": "a7002f6d",
   "metadata": {
    "id": "fb-ROClf50l1"
   },
   "source": [
    "**[6.2]** Instantiating our model default hyperparameter"
   ]
  },
  {
   "cell_type": "code",
   "execution_count": 37,
   "id": "a2ca9ea2",
   "metadata": {
    "id": "L_-Wea4g50rv"
   },
   "outputs": [],
   "source": [
    "log_reg = LogisticRegression()"
   ]
  },
  {
   "cell_type": "markdown",
   "id": "ac25041c",
   "metadata": {
    "id": "3hOajGXS58kC"
   },
   "source": [
    "**[6.3]** Fitting our model with the training data"
   ]
  },
  {
   "cell_type": "code",
   "execution_count": 38,
   "id": "a6cd53cf",
   "metadata": {
    "id": "JsSQ5Hrk58ra"
   },
   "outputs": [
    {
     "data": {
      "text/html": [
       "<style>#sk-container-id-1 {color: black;background-color: white;}#sk-container-id-1 pre{padding: 0;}#sk-container-id-1 div.sk-toggleable {background-color: white;}#sk-container-id-1 label.sk-toggleable__label {cursor: pointer;display: block;width: 100%;margin-bottom: 0;padding: 0.3em;box-sizing: border-box;text-align: center;}#sk-container-id-1 label.sk-toggleable__label-arrow:before {content: \"▸\";float: left;margin-right: 0.25em;color: #696969;}#sk-container-id-1 label.sk-toggleable__label-arrow:hover:before {color: black;}#sk-container-id-1 div.sk-estimator:hover label.sk-toggleable__label-arrow:before {color: black;}#sk-container-id-1 div.sk-toggleable__content {max-height: 0;max-width: 0;overflow: hidden;text-align: left;background-color: #f0f8ff;}#sk-container-id-1 div.sk-toggleable__content pre {margin: 0.2em;color: black;border-radius: 0.25em;background-color: #f0f8ff;}#sk-container-id-1 input.sk-toggleable__control:checked~div.sk-toggleable__content {max-height: 200px;max-width: 100%;overflow: auto;}#sk-container-id-1 input.sk-toggleable__control:checked~label.sk-toggleable__label-arrow:before {content: \"▾\";}#sk-container-id-1 div.sk-estimator input.sk-toggleable__control:checked~label.sk-toggleable__label {background-color: #d4ebff;}#sk-container-id-1 div.sk-label input.sk-toggleable__control:checked~label.sk-toggleable__label {background-color: #d4ebff;}#sk-container-id-1 input.sk-hidden--visually {border: 0;clip: rect(1px 1px 1px 1px);clip: rect(1px, 1px, 1px, 1px);height: 1px;margin: -1px;overflow: hidden;padding: 0;position: absolute;width: 1px;}#sk-container-id-1 div.sk-estimator {font-family: monospace;background-color: #f0f8ff;border: 1px dotted black;border-radius: 0.25em;box-sizing: border-box;margin-bottom: 0.5em;}#sk-container-id-1 div.sk-estimator:hover {background-color: #d4ebff;}#sk-container-id-1 div.sk-parallel-item::after {content: \"\";width: 100%;border-bottom: 1px solid gray;flex-grow: 1;}#sk-container-id-1 div.sk-label:hover label.sk-toggleable__label {background-color: #d4ebff;}#sk-container-id-1 div.sk-serial::before {content: \"\";position: absolute;border-left: 1px solid gray;box-sizing: border-box;top: 0;bottom: 0;left: 50%;z-index: 0;}#sk-container-id-1 div.sk-serial {display: flex;flex-direction: column;align-items: center;background-color: white;padding-right: 0.2em;padding-left: 0.2em;position: relative;}#sk-container-id-1 div.sk-item {position: relative;z-index: 1;}#sk-container-id-1 div.sk-parallel {display: flex;align-items: stretch;justify-content: center;background-color: white;position: relative;}#sk-container-id-1 div.sk-item::before, #sk-container-id-1 div.sk-parallel-item::before {content: \"\";position: absolute;border-left: 1px solid gray;box-sizing: border-box;top: 0;bottom: 0;left: 50%;z-index: -1;}#sk-container-id-1 div.sk-parallel-item {display: flex;flex-direction: column;z-index: 1;position: relative;background-color: white;}#sk-container-id-1 div.sk-parallel-item:first-child::after {align-self: flex-end;width: 50%;}#sk-container-id-1 div.sk-parallel-item:last-child::after {align-self: flex-start;width: 50%;}#sk-container-id-1 div.sk-parallel-item:only-child::after {width: 0;}#sk-container-id-1 div.sk-dashed-wrapped {border: 1px dashed gray;margin: 0 0.4em 0.5em 0.4em;box-sizing: border-box;padding-bottom: 0.4em;background-color: white;}#sk-container-id-1 div.sk-label label {font-family: monospace;font-weight: bold;display: inline-block;line-height: 1.2em;}#sk-container-id-1 div.sk-label-container {text-align: center;}#sk-container-id-1 div.sk-container {/* jupyter's `normalize.less` sets `[hidden] { display: none; }` but bootstrap.min.css set `[hidden] { display: none !important; }` so we also need the `!important` here to be able to override the default hidden behavior on the sphinx rendered scikit-learn.org. See: https://github.com/scikit-learn/scikit-learn/issues/21755 */display: inline-block !important;position: relative;}#sk-container-id-1 div.sk-text-repr-fallback {display: none;}</style><div id=\"sk-container-id-1\" class=\"sk-top-container\"><div class=\"sk-text-repr-fallback\"><pre>LogisticRegression()</pre><b>In a Jupyter environment, please rerun this cell to show the HTML representation or trust the notebook. <br />On GitHub, the HTML representation is unable to render, please try loading this page with nbviewer.org.</b></div><div class=\"sk-container\" hidden><div class=\"sk-item\"><div class=\"sk-estimator sk-toggleable\"><input class=\"sk-toggleable__control sk-hidden--visually\" id=\"sk-estimator-id-1\" type=\"checkbox\" checked><label for=\"sk-estimator-id-1\" class=\"sk-toggleable__label sk-toggleable__label-arrow\">LogisticRegression</label><div class=\"sk-toggleable__content\"><pre>LogisticRegression()</pre></div></div></div></div></div>"
      ],
      "text/plain": [
       "LogisticRegression()"
      ]
     },
     "execution_count": 38,
     "metadata": {},
     "output_type": "execute_result"
    }
   ],
   "source": [
    "log_reg.fit(X_train, y_train)"
   ]
  },
  {
   "cell_type": "markdown",
   "id": "6c0b22ba",
   "metadata": {
    "id": "iyWUnv066DT5"
   },
   "source": [
    "**[6.4]** Print the accuracy score of this model for the training set"
   ]
  },
  {
   "cell_type": "code",
   "execution_count": 39,
   "id": "179d3dbf",
   "metadata": {
    "id": "y1e6lXTx6DY9"
   },
   "outputs": [
    {
     "data": {
      "text/plain": [
       "0.9778240437808577"
      ]
     },
     "execution_count": 39,
     "metadata": {},
     "output_type": "execute_result"
    }
   ],
   "source": [
    "y_train_preds = log_reg.predict(X_train)\n",
    "accuracy_score(y_train_preds, y_train)"
   ]
  },
  {
   "cell_type": "markdown",
   "id": "89c3ef47",
   "metadata": {
    "id": "QWrR3rCuRht0"
   },
   "source": [
    "**[6.5]** Print the accuracy score of this model for the validation set"
   ]
  },
  {
   "cell_type": "code",
   "execution_count": 40,
   "id": "499c54b2",
   "metadata": {
    "id": "9s6yTd-vRh1w"
   },
   "outputs": [
    {
     "data": {
      "text/plain": [
       "0.9789188160274103"
      ]
     },
     "execution_count": 40,
     "metadata": {},
     "output_type": "execute_result"
    }
   ],
   "source": [
    "y_val_preds = log_reg.predict(X_val)\n",
    "accuracy_score(y_val_preds, y_val)"
   ]
  },
  {
   "cell_type": "markdown",
   "id": "30fec3f1",
   "metadata": {},
   "source": [
    "Performance on the validation set is showing higher than that in training set. A possible reason may be that the train-val split ratio is too high. However, let us try with regularisation. "
   ]
  },
  {
   "cell_type": "markdown",
   "id": "f7754a24",
   "metadata": {
    "id": "sciVwi11RtXY"
   },
   "source": [
    "## 7. Train Logistic Regression Classifier with L1 and L2 Regularisation"
   ]
  },
  {
   "cell_type": "markdown",
   "id": "c7ca1fbf",
   "metadata": {
    "id": "yZNjXDD0Rti0"
   },
   "source": [
    "**[7.1]** Instantiate a Logistic Regression with L1 and L2 regularisation"
   ]
  },
  {
   "cell_type": "code",
   "execution_count": 41,
   "id": "ca5205bd",
   "metadata": {
    "id": "OGaySU69Rt6m"
   },
   "outputs": [],
   "source": [
    "log_elastic_reg = LogisticRegression(penalty = 'elasticnet', l1_ratio = 0.5, solver = 'saga')"
   ]
  },
  {
   "cell_type": "markdown",
   "id": "f9c1497b",
   "metadata": {
    "id": "NR9dleXrR3te"
   },
   "source": [
    "**[7.2]** Fit our model with the training data"
   ]
  },
  {
   "cell_type": "code",
   "execution_count": 42,
   "id": "544e79d6",
   "metadata": {
    "id": "z8lOBwoOR3zn"
   },
   "outputs": [
    {
     "name": "stderr",
     "output_type": "stream",
     "text": [
      "C:\\Users\\ASUS\\AppData\\Local\\Programs\\Python\\Python39\\lib\\site-packages\\sklearn\\linear_model\\_sag.py:350: ConvergenceWarning: The max_iter was reached which means the coef_ did not converge\n",
      "  warnings.warn(\n"
     ]
    },
    {
     "data": {
      "text/html": [
       "<style>#sk-container-id-2 {color: black;background-color: white;}#sk-container-id-2 pre{padding: 0;}#sk-container-id-2 div.sk-toggleable {background-color: white;}#sk-container-id-2 label.sk-toggleable__label {cursor: pointer;display: block;width: 100%;margin-bottom: 0;padding: 0.3em;box-sizing: border-box;text-align: center;}#sk-container-id-2 label.sk-toggleable__label-arrow:before {content: \"▸\";float: left;margin-right: 0.25em;color: #696969;}#sk-container-id-2 label.sk-toggleable__label-arrow:hover:before {color: black;}#sk-container-id-2 div.sk-estimator:hover label.sk-toggleable__label-arrow:before {color: black;}#sk-container-id-2 div.sk-toggleable__content {max-height: 0;max-width: 0;overflow: hidden;text-align: left;background-color: #f0f8ff;}#sk-container-id-2 div.sk-toggleable__content pre {margin: 0.2em;color: black;border-radius: 0.25em;background-color: #f0f8ff;}#sk-container-id-2 input.sk-toggleable__control:checked~div.sk-toggleable__content {max-height: 200px;max-width: 100%;overflow: auto;}#sk-container-id-2 input.sk-toggleable__control:checked~label.sk-toggleable__label-arrow:before {content: \"▾\";}#sk-container-id-2 div.sk-estimator input.sk-toggleable__control:checked~label.sk-toggleable__label {background-color: #d4ebff;}#sk-container-id-2 div.sk-label input.sk-toggleable__control:checked~label.sk-toggleable__label {background-color: #d4ebff;}#sk-container-id-2 input.sk-hidden--visually {border: 0;clip: rect(1px 1px 1px 1px);clip: rect(1px, 1px, 1px, 1px);height: 1px;margin: -1px;overflow: hidden;padding: 0;position: absolute;width: 1px;}#sk-container-id-2 div.sk-estimator {font-family: monospace;background-color: #f0f8ff;border: 1px dotted black;border-radius: 0.25em;box-sizing: border-box;margin-bottom: 0.5em;}#sk-container-id-2 div.sk-estimator:hover {background-color: #d4ebff;}#sk-container-id-2 div.sk-parallel-item::after {content: \"\";width: 100%;border-bottom: 1px solid gray;flex-grow: 1;}#sk-container-id-2 div.sk-label:hover label.sk-toggleable__label {background-color: #d4ebff;}#sk-container-id-2 div.sk-serial::before {content: \"\";position: absolute;border-left: 1px solid gray;box-sizing: border-box;top: 0;bottom: 0;left: 50%;z-index: 0;}#sk-container-id-2 div.sk-serial {display: flex;flex-direction: column;align-items: center;background-color: white;padding-right: 0.2em;padding-left: 0.2em;position: relative;}#sk-container-id-2 div.sk-item {position: relative;z-index: 1;}#sk-container-id-2 div.sk-parallel {display: flex;align-items: stretch;justify-content: center;background-color: white;position: relative;}#sk-container-id-2 div.sk-item::before, #sk-container-id-2 div.sk-parallel-item::before {content: \"\";position: absolute;border-left: 1px solid gray;box-sizing: border-box;top: 0;bottom: 0;left: 50%;z-index: -1;}#sk-container-id-2 div.sk-parallel-item {display: flex;flex-direction: column;z-index: 1;position: relative;background-color: white;}#sk-container-id-2 div.sk-parallel-item:first-child::after {align-self: flex-end;width: 50%;}#sk-container-id-2 div.sk-parallel-item:last-child::after {align-self: flex-start;width: 50%;}#sk-container-id-2 div.sk-parallel-item:only-child::after {width: 0;}#sk-container-id-2 div.sk-dashed-wrapped {border: 1px dashed gray;margin: 0 0.4em 0.5em 0.4em;box-sizing: border-box;padding-bottom: 0.4em;background-color: white;}#sk-container-id-2 div.sk-label label {font-family: monospace;font-weight: bold;display: inline-block;line-height: 1.2em;}#sk-container-id-2 div.sk-label-container {text-align: center;}#sk-container-id-2 div.sk-container {/* jupyter's `normalize.less` sets `[hidden] { display: none; }` but bootstrap.min.css set `[hidden] { display: none !important; }` so we also need the `!important` here to be able to override the default hidden behavior on the sphinx rendered scikit-learn.org. See: https://github.com/scikit-learn/scikit-learn/issues/21755 */display: inline-block !important;position: relative;}#sk-container-id-2 div.sk-text-repr-fallback {display: none;}</style><div id=\"sk-container-id-2\" class=\"sk-top-container\"><div class=\"sk-text-repr-fallback\"><pre>LogisticRegression(l1_ratio=0.5, penalty=&#x27;elasticnet&#x27;, solver=&#x27;saga&#x27;)</pre><b>In a Jupyter environment, please rerun this cell to show the HTML representation or trust the notebook. <br />On GitHub, the HTML representation is unable to render, please try loading this page with nbviewer.org.</b></div><div class=\"sk-container\" hidden><div class=\"sk-item\"><div class=\"sk-estimator sk-toggleable\"><input class=\"sk-toggleable__control sk-hidden--visually\" id=\"sk-estimator-id-2\" type=\"checkbox\" checked><label for=\"sk-estimator-id-2\" class=\"sk-toggleable__label sk-toggleable__label-arrow\">LogisticRegression</label><div class=\"sk-toggleable__content\"><pre>LogisticRegression(l1_ratio=0.5, penalty=&#x27;elasticnet&#x27;, solver=&#x27;saga&#x27;)</pre></div></div></div></div></div>"
      ],
      "text/plain": [
       "LogisticRegression(l1_ratio=0.5, penalty='elasticnet', solver='saga')"
      ]
     },
     "execution_count": 42,
     "metadata": {},
     "output_type": "execute_result"
    }
   ],
   "source": [
    "log_elastic_reg.fit(X_train, y_train)"
   ]
  },
  {
   "cell_type": "markdown",
   "id": "dcfd964b",
   "metadata": {
    "id": "YYv4YWUTR40X"
   },
   "source": [
    "**[7.3]** Display the accuracy score for the training set"
   ]
  },
  {
   "cell_type": "code",
   "execution_count": 43,
   "id": "172e64f1",
   "metadata": {
    "id": "VC9u0ceKR47N"
   },
   "outputs": [
    {
     "data": {
      "text/plain": [
       "0.9778359407530783"
      ]
     },
     "execution_count": 43,
     "metadata": {},
     "output_type": "execute_result"
    }
   ],
   "source": [
    "y_preds_train_elastic = log_elastic_reg.predict(X_train)\n",
    "accuracy_score(y_preds_train_elastic, y_train)"
   ]
  },
  {
   "cell_type": "markdown",
   "id": "0739c909",
   "metadata": {
    "id": "41_OSCGZR5wf"
   },
   "source": [
    "**[7.4]** Display the accuracy score for the validation set"
   ]
  },
  {
   "cell_type": "code",
   "execution_count": 44,
   "id": "110e7f7c",
   "metadata": {
    "id": "0nW9w3LkR52h"
   },
   "outputs": [
    {
     "data": {
      "text/plain": [
       "0.9789188160274103"
      ]
     },
     "execution_count": 44,
     "metadata": {},
     "output_type": "execute_result"
    }
   ],
   "source": [
    "y_preds_val_elastic = log_elastic_reg.predict(X_val)\n",
    "accuracy_score(y_preds_val_elastic, y_val)"
   ]
  },
  {
   "cell_type": "markdown",
   "id": "c8b56998",
   "metadata": {},
   "source": [
    "We have the same results. The validation sample needed to be greater."
   ]
  },
  {
   "cell_type": "markdown",
   "id": "a1a96e78",
   "metadata": {
    "id": "Tj0aLqrtOKPc"
   },
   "source": [
    "## 8. Build a KNN model using euclidian distance"
   ]
  },
  {
   "cell_type": "markdown",
   "id": "5f3bd740",
   "metadata": {
    "id": "A-Pfg8re63nd"
   },
   "source": [
    "**[8.1]** Import the KNeighborsClassifier class from sklearn"
   ]
  },
  {
   "cell_type": "code",
   "execution_count": 45,
   "id": "4be4000b",
   "metadata": {
    "id": "BNOj5zfX63z-"
   },
   "outputs": [],
   "source": [
    "from sklearn.neighbors import KNeighborsClassifier"
   ]
  },
  {
   "cell_type": "markdown",
   "id": "1a50de08",
   "metadata": {
    "id": "FfcB0JIk6nfB"
   },
   "source": [
    "**[8.2]** Instantiate our model with n_neighbors=15 and metric:'euclidean'"
   ]
  },
  {
   "cell_type": "code",
   "execution_count": 46,
   "id": "10c58aa5",
   "metadata": {
    "id": "9s8339Qq6n4i"
   },
   "outputs": [],
   "source": [
    "knn_15_euc_class = KNeighborsClassifier(n_neighbors = 15, metric = 'euclidean')"
   ]
  },
  {
   "cell_type": "markdown",
   "id": "71c46d4f",
   "metadata": {
    "id": "dCjOgoIq6vMq"
   },
   "source": [
    "**[8.3]** Fit our model with the training data"
   ]
  },
  {
   "cell_type": "code",
   "execution_count": 47,
   "id": "ec1fbfca",
   "metadata": {
    "id": "MsQh5PhI6vU5"
   },
   "outputs": [
    {
     "data": {
      "text/html": [
       "<style>#sk-container-id-3 {color: black;background-color: white;}#sk-container-id-3 pre{padding: 0;}#sk-container-id-3 div.sk-toggleable {background-color: white;}#sk-container-id-3 label.sk-toggleable__label {cursor: pointer;display: block;width: 100%;margin-bottom: 0;padding: 0.3em;box-sizing: border-box;text-align: center;}#sk-container-id-3 label.sk-toggleable__label-arrow:before {content: \"▸\";float: left;margin-right: 0.25em;color: #696969;}#sk-container-id-3 label.sk-toggleable__label-arrow:hover:before {color: black;}#sk-container-id-3 div.sk-estimator:hover label.sk-toggleable__label-arrow:before {color: black;}#sk-container-id-3 div.sk-toggleable__content {max-height: 0;max-width: 0;overflow: hidden;text-align: left;background-color: #f0f8ff;}#sk-container-id-3 div.sk-toggleable__content pre {margin: 0.2em;color: black;border-radius: 0.25em;background-color: #f0f8ff;}#sk-container-id-3 input.sk-toggleable__control:checked~div.sk-toggleable__content {max-height: 200px;max-width: 100%;overflow: auto;}#sk-container-id-3 input.sk-toggleable__control:checked~label.sk-toggleable__label-arrow:before {content: \"▾\";}#sk-container-id-3 div.sk-estimator input.sk-toggleable__control:checked~label.sk-toggleable__label {background-color: #d4ebff;}#sk-container-id-3 div.sk-label input.sk-toggleable__control:checked~label.sk-toggleable__label {background-color: #d4ebff;}#sk-container-id-3 input.sk-hidden--visually {border: 0;clip: rect(1px 1px 1px 1px);clip: rect(1px, 1px, 1px, 1px);height: 1px;margin: -1px;overflow: hidden;padding: 0;position: absolute;width: 1px;}#sk-container-id-3 div.sk-estimator {font-family: monospace;background-color: #f0f8ff;border: 1px dotted black;border-radius: 0.25em;box-sizing: border-box;margin-bottom: 0.5em;}#sk-container-id-3 div.sk-estimator:hover {background-color: #d4ebff;}#sk-container-id-3 div.sk-parallel-item::after {content: \"\";width: 100%;border-bottom: 1px solid gray;flex-grow: 1;}#sk-container-id-3 div.sk-label:hover label.sk-toggleable__label {background-color: #d4ebff;}#sk-container-id-3 div.sk-serial::before {content: \"\";position: absolute;border-left: 1px solid gray;box-sizing: border-box;top: 0;bottom: 0;left: 50%;z-index: 0;}#sk-container-id-3 div.sk-serial {display: flex;flex-direction: column;align-items: center;background-color: white;padding-right: 0.2em;padding-left: 0.2em;position: relative;}#sk-container-id-3 div.sk-item {position: relative;z-index: 1;}#sk-container-id-3 div.sk-parallel {display: flex;align-items: stretch;justify-content: center;background-color: white;position: relative;}#sk-container-id-3 div.sk-item::before, #sk-container-id-3 div.sk-parallel-item::before {content: \"\";position: absolute;border-left: 1px solid gray;box-sizing: border-box;top: 0;bottom: 0;left: 50%;z-index: -1;}#sk-container-id-3 div.sk-parallel-item {display: flex;flex-direction: column;z-index: 1;position: relative;background-color: white;}#sk-container-id-3 div.sk-parallel-item:first-child::after {align-self: flex-end;width: 50%;}#sk-container-id-3 div.sk-parallel-item:last-child::after {align-self: flex-start;width: 50%;}#sk-container-id-3 div.sk-parallel-item:only-child::after {width: 0;}#sk-container-id-3 div.sk-dashed-wrapped {border: 1px dashed gray;margin: 0 0.4em 0.5em 0.4em;box-sizing: border-box;padding-bottom: 0.4em;background-color: white;}#sk-container-id-3 div.sk-label label {font-family: monospace;font-weight: bold;display: inline-block;line-height: 1.2em;}#sk-container-id-3 div.sk-label-container {text-align: center;}#sk-container-id-3 div.sk-container {/* jupyter's `normalize.less` sets `[hidden] { display: none; }` but bootstrap.min.css set `[hidden] { display: none !important; }` so we also need the `!important` here to be able to override the default hidden behavior on the sphinx rendered scikit-learn.org. See: https://github.com/scikit-learn/scikit-learn/issues/21755 */display: inline-block !important;position: relative;}#sk-container-id-3 div.sk-text-repr-fallback {display: none;}</style><div id=\"sk-container-id-3\" class=\"sk-top-container\"><div class=\"sk-text-repr-fallback\"><pre>KNeighborsClassifier(metric=&#x27;euclidean&#x27;, n_neighbors=15)</pre><b>In a Jupyter environment, please rerun this cell to show the HTML representation or trust the notebook. <br />On GitHub, the HTML representation is unable to render, please try loading this page with nbviewer.org.</b></div><div class=\"sk-container\" hidden><div class=\"sk-item\"><div class=\"sk-estimator sk-toggleable\"><input class=\"sk-toggleable__control sk-hidden--visually\" id=\"sk-estimator-id-3\" type=\"checkbox\" checked><label for=\"sk-estimator-id-3\" class=\"sk-toggleable__label sk-toggleable__label-arrow\">KNeighborsClassifier</label><div class=\"sk-toggleable__content\"><pre>KNeighborsClassifier(metric=&#x27;euclidean&#x27;, n_neighbors=15)</pre></div></div></div></div></div>"
      ],
      "text/plain": [
       "KNeighborsClassifier(metric='euclidean', n_neighbors=15)"
      ]
     },
     "execution_count": 47,
     "metadata": {},
     "output_type": "execute_result"
    }
   ],
   "source": [
    "knn_15_euc_class.fit(X_train, y_train)"
   ]
  },
  {
   "cell_type": "markdown",
   "id": "cb8dfc1b",
   "metadata": {
    "id": "MG9o7x6QS280"
   },
   "source": [
    "**[8.4]** Display the accuracy score on the training set"
   ]
  },
  {
   "cell_type": "code",
   "execution_count": 48,
   "id": "e1fe59cc",
   "metadata": {
    "id": "hNgZVNgKS3Ff"
   },
   "outputs": [
    {
     "data": {
      "text/plain": [
       "0.9835345904467313"
      ]
     },
     "execution_count": 48,
     "metadata": {},
     "output_type": "execute_result"
    }
   ],
   "source": [
    "y_knn_15_train_preds = knn_15_euc_class.predict(X_train)\n",
    "accuracy_score(y_knn_15_train_preds, y_train)"
   ]
  },
  {
   "cell_type": "markdown",
   "id": "7876b7fa",
   "metadata": {
    "id": "DI4ywRNtS3h6"
   },
   "source": [
    "**[8.5]** Display the accuracy score on the validation set"
   ]
  },
  {
   "cell_type": "code",
   "execution_count": 49,
   "id": "2a8e5d03",
   "metadata": {
    "id": "-a405IRQS3rV"
   },
   "outputs": [
    {
     "data": {
      "text/plain": [
       "0.9823926905872276"
      ]
     },
     "execution_count": 49,
     "metadata": {},
     "output_type": "execute_result"
    }
   ],
   "source": [
    "y_knn_15_val_preds = knn_15_euc_class.predict(X_val)\n",
    "accuracy_score(y_knn_15_val_preds, y_val)"
   ]
  },
  {
   "cell_type": "markdown",
   "id": "ec6f9dbb",
   "metadata": {
    "id": "zOAGAqJbThmf"
   },
   "source": [
    "## 9. Build a KNN model using euclidian distance and 55 neighbors"
   ]
  },
  {
   "cell_type": "markdown",
   "id": "3f3a30e7",
   "metadata": {
    "id": "HEFpamleTnzT"
   },
   "source": [
    "**[9.1]** Instantiate our model with n_neighbors=55 and metric:'euclidean' and fit on the training set"
   ]
  },
  {
   "cell_type": "code",
   "execution_count": 50,
   "id": "6d3da2b1",
   "metadata": {
    "id": "8qgLoqARTn5_"
   },
   "outputs": [],
   "source": [
    "knn_55_euc_class = KNeighborsClassifier(n_neighbors = 55, metric = 'euclidean')"
   ]
  },
  {
   "cell_type": "markdown",
   "id": "c597ca50",
   "metadata": {
    "id": "HzXgov8kToGT"
   },
   "source": [
    "**[9.2]** Display the accuracy score on the training set"
   ]
  },
  {
   "cell_type": "code",
   "execution_count": 51,
   "id": "4e012dec",
   "metadata": {
    "id": "LQ228mJUToLq"
   },
   "outputs": [],
   "source": [
    "model = knn_55_euc_class.fit(X_train, y_train)"
   ]
  },
  {
   "cell_type": "markdown",
   "id": "339c485f",
   "metadata": {
    "id": "QP27ljE8ToWC"
   },
   "source": [
    "**[9.3]** Display the accuracy score on the validation set"
   ]
  },
  {
   "cell_type": "code",
   "execution_count": 52,
   "id": "c4987c9a",
   "metadata": {
    "id": "HnUQVkjUTobB"
   },
   "outputs": [
    {
     "data": {
      "text/plain": [
       "0.9778835286419606"
      ]
     },
     "execution_count": 52,
     "metadata": {},
     "output_type": "execute_result"
    }
   ],
   "source": [
    "y_knn_55_train_preds = knn_55_euc_class.predict(X_train)\n",
    "accuracy_score(y_knn_55_train_preds, y_train)"
   ]
  },
  {
   "cell_type": "markdown",
   "id": "b345f946",
   "metadata": {
    "id": "FTot8bVZDL6L"
   },
   "source": [
    "## 10. Assess the Best Model on the Testing Set"
   ]
  },
  {
   "cell_type": "markdown",
   "id": "eb89ec5b",
   "metadata": {
    "id": "21d7aLpUUKYA"
   },
   "source": [
    "**[10.1]** Using the trained logistic regression model with regularisation, display the accuracy score on the validation set"
   ]
  },
  {
   "cell_type": "code",
   "execution_count": 53,
   "id": "224ddc6b",
   "metadata": {
    "id": "0F1jau0qUKfX"
   },
   "outputs": [
    {
     "data": {
      "text/plain": [
       "0.9770443124714482"
      ]
     },
     "execution_count": 53,
     "metadata": {},
     "output_type": "execute_result"
    }
   ],
   "source": [
    "y_preds_test_elastic = log_elastic_reg.predict(X_test)\n",
    "accuracy_score(y_preds_test_elastic, y_test)"
   ]
  }
 ],
 "metadata": {
  "kernelspec": {
   "display_name": "Python 3 (ipykernel)",
   "language": "python",
   "name": "python3"
  },
  "language_info": {
   "codemirror_mode": {
    "name": "ipython",
    "version": 3
   },
   "file_extension": ".py",
   "mimetype": "text/x-python",
   "name": "python",
   "nbconvert_exporter": "python",
   "pygments_lexer": "ipython3",
   "version": "3.9.6"
  }
 },
 "nbformat": 4,
 "nbformat_minor": 5
}
