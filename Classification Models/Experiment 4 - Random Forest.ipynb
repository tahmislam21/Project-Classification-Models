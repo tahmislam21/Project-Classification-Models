{
 "cells": [
  {
   "cell_type": "markdown",
   "id": "e0a1cd2e",
   "metadata": {
    "id": "ZapocvQ4CPBG"
   },
   "source": [
    "## Experiment 4: Binary Classification with Random Forest\n",
    "\n",
    "In this experiment we will build a binary classifier using the Random Forest Algorithm.\n",
    "\n",
    "The steps are:\n",
    "1.   Load and explore dataset\n",
    "2.   Prepare Data\n",
    "3.   Split Data\n",
    "4.   Assess Baseline Model\n",
    "5.   Train Initial RandomForest with Default Hyperparameter\n",
    "6.   Reduce Overfitting with n_estimators\n",
    "7.   Reduce Overfitting with max_depth\n",
    "8.   Reduce Overfitting with min_samples_leaf\n",
    "9.   Reduce Overfitting with max_features\n",
    "10.  Features Importance"
   ]
  },
  {
   "cell_type": "markdown",
   "id": "41682c5b",
   "metadata": {},
   "source": [
    "### 1. Load and Explore Dataset"
   ]
  },
  {
   "cell_type": "code",
   "execution_count": 74,
   "id": "7c227f57",
   "metadata": {},
   "outputs": [],
   "source": [
    "import pandas as pd\n",
    "import numpy as np"
   ]
  },
  {
   "cell_type": "markdown",
   "id": "739dbfea",
   "metadata": {},
   "source": [
    "**[1.1]** Loading Dataset"
   ]
  },
  {
   "cell_type": "code",
   "execution_count": 75,
   "id": "a26df64a",
   "metadata": {},
   "outputs": [],
   "source": [
    "url='https://drive.google.com/file/d/177p-Vaa2__BtaxNCmd4YGBv7zfENUNmy/view?usp=sharing'\n",
    "url='https://drive.google.com/uc?id=' + url.split('/')[-2]\n",
    "df = pd.read_csv(url, index_col = False)"
   ]
  },
  {
   "cell_type": "markdown",
   "id": "ff4b39ee",
   "metadata": {},
   "source": [
    "**[1.2]** Dataset Exploration"
   ]
  },
  {
   "cell_type": "code",
   "execution_count": 76,
   "id": "c68fd973",
   "metadata": {},
   "outputs": [
    {
     "data": {
      "text/html": [
       "<div>\n",
       "<style scoped>\n",
       "    .dataframe tbody tr th:only-of-type {\n",
       "        vertical-align: middle;\n",
       "    }\n",
       "\n",
       "    .dataframe tbody tr th {\n",
       "        vertical-align: top;\n",
       "    }\n",
       "\n",
       "    .dataframe thead th {\n",
       "        text-align: right;\n",
       "    }\n",
       "</style>\n",
       "<table border=\"1\" class=\"dataframe\">\n",
       "  <thead>\n",
       "    <tr style=\"text-align: right;\">\n",
       "      <th></th>\n",
       "      <th>ID</th>\n",
       "      <th>Target</th>\n",
       "      <th>age_band</th>\n",
       "      <th>gender</th>\n",
       "      <th>car_model</th>\n",
       "      <th>car_segment</th>\n",
       "      <th>age_of_vehicle_years</th>\n",
       "      <th>sched_serv_warr</th>\n",
       "      <th>non_sched_serv_warr</th>\n",
       "      <th>sched_serv_paid</th>\n",
       "      <th>non_sched_serv_paid</th>\n",
       "      <th>total_paid_services</th>\n",
       "      <th>total_services</th>\n",
       "      <th>mth_since_last_serv</th>\n",
       "      <th>annualised_mileage</th>\n",
       "      <th>num_dealers_visited</th>\n",
       "      <th>num_serv_dealer_purchased</th>\n",
       "    </tr>\n",
       "  </thead>\n",
       "  <tbody>\n",
       "    <tr>\n",
       "      <th>0</th>\n",
       "      <td>1</td>\n",
       "      <td>0</td>\n",
       "      <td>3. 35 to 44</td>\n",
       "      <td>Male</td>\n",
       "      <td>model_1</td>\n",
       "      <td>LCV</td>\n",
       "      <td>9</td>\n",
       "      <td>2</td>\n",
       "      <td>10</td>\n",
       "      <td>3</td>\n",
       "      <td>7</td>\n",
       "      <td>5</td>\n",
       "      <td>6</td>\n",
       "      <td>9</td>\n",
       "      <td>8</td>\n",
       "      <td>10</td>\n",
       "      <td>4</td>\n",
       "    </tr>\n",
       "    <tr>\n",
       "      <th>1</th>\n",
       "      <td>2</td>\n",
       "      <td>0</td>\n",
       "      <td>NaN</td>\n",
       "      <td>NaN</td>\n",
       "      <td>model_2</td>\n",
       "      <td>Small/Medium</td>\n",
       "      <td>6</td>\n",
       "      <td>10</td>\n",
       "      <td>3</td>\n",
       "      <td>10</td>\n",
       "      <td>4</td>\n",
       "      <td>9</td>\n",
       "      <td>10</td>\n",
       "      <td>6</td>\n",
       "      <td>10</td>\n",
       "      <td>7</td>\n",
       "      <td>10</td>\n",
       "    </tr>\n",
       "    <tr>\n",
       "      <th>2</th>\n",
       "      <td>3</td>\n",
       "      <td>0</td>\n",
       "      <td>NaN</td>\n",
       "      <td>Male</td>\n",
       "      <td>model_3</td>\n",
       "      <td>Large/SUV</td>\n",
       "      <td>9</td>\n",
       "      <td>10</td>\n",
       "      <td>9</td>\n",
       "      <td>10</td>\n",
       "      <td>9</td>\n",
       "      <td>10</td>\n",
       "      <td>10</td>\n",
       "      <td>7</td>\n",
       "      <td>10</td>\n",
       "      <td>6</td>\n",
       "      <td>10</td>\n",
       "    </tr>\n",
       "    <tr>\n",
       "      <th>3</th>\n",
       "      <td>5</td>\n",
       "      <td>0</td>\n",
       "      <td>NaN</td>\n",
       "      <td>NaN</td>\n",
       "      <td>model_3</td>\n",
       "      <td>Large/SUV</td>\n",
       "      <td>5</td>\n",
       "      <td>8</td>\n",
       "      <td>5</td>\n",
       "      <td>8</td>\n",
       "      <td>4</td>\n",
       "      <td>5</td>\n",
       "      <td>6</td>\n",
       "      <td>4</td>\n",
       "      <td>10</td>\n",
       "      <td>9</td>\n",
       "      <td>7</td>\n",
       "    </tr>\n",
       "    <tr>\n",
       "      <th>4</th>\n",
       "      <td>6</td>\n",
       "      <td>0</td>\n",
       "      <td>NaN</td>\n",
       "      <td>Female</td>\n",
       "      <td>model_2</td>\n",
       "      <td>Small/Medium</td>\n",
       "      <td>8</td>\n",
       "      <td>9</td>\n",
       "      <td>4</td>\n",
       "      <td>10</td>\n",
       "      <td>7</td>\n",
       "      <td>9</td>\n",
       "      <td>8</td>\n",
       "      <td>5</td>\n",
       "      <td>4</td>\n",
       "      <td>4</td>\n",
       "      <td>9</td>\n",
       "    </tr>\n",
       "  </tbody>\n",
       "</table>\n",
       "</div>"
      ],
      "text/plain": [
       "   ID  Target     age_band  gender car_model   car_segment  \\\n",
       "0   1       0  3. 35 to 44    Male   model_1           LCV   \n",
       "1   2       0          NaN     NaN   model_2  Small/Medium   \n",
       "2   3       0          NaN    Male   model_3     Large/SUV   \n",
       "3   5       0          NaN     NaN   model_3     Large/SUV   \n",
       "4   6       0          NaN  Female   model_2  Small/Medium   \n",
       "\n",
       "   age_of_vehicle_years  sched_serv_warr  non_sched_serv_warr  \\\n",
       "0                     9                2                   10   \n",
       "1                     6               10                    3   \n",
       "2                     9               10                    9   \n",
       "3                     5                8                    5   \n",
       "4                     8                9                    4   \n",
       "\n",
       "   sched_serv_paid  non_sched_serv_paid  total_paid_services  total_services  \\\n",
       "0                3                    7                    5               6   \n",
       "1               10                    4                    9              10   \n",
       "2               10                    9                   10              10   \n",
       "3                8                    4                    5               6   \n",
       "4               10                    7                    9               8   \n",
       "\n",
       "   mth_since_last_serv  annualised_mileage  num_dealers_visited  \\\n",
       "0                    9                   8                   10   \n",
       "1                    6                  10                    7   \n",
       "2                    7                  10                    6   \n",
       "3                    4                  10                    9   \n",
       "4                    5                   4                    4   \n",
       "\n",
       "   num_serv_dealer_purchased  \n",
       "0                          4  \n",
       "1                         10  \n",
       "2                         10  \n",
       "3                          7  \n",
       "4                          9  "
      ]
     },
     "execution_count": 76,
     "metadata": {},
     "output_type": "execute_result"
    }
   ],
   "source": [
    "df.head()"
   ]
  },
  {
   "cell_type": "code",
   "execution_count": 77,
   "id": "8094b53f",
   "metadata": {},
   "outputs": [
    {
     "name": "stdout",
     "output_type": "stream",
     "text": [
      "<class 'pandas.core.frame.DataFrame'>\n",
      "RangeIndex: 131337 entries, 0 to 131336\n",
      "Data columns (total 17 columns):\n",
      " #   Column                     Non-Null Count   Dtype \n",
      "---  ------                     --------------   ----- \n",
      " 0   ID                         131337 non-null  int64 \n",
      " 1   Target                     131337 non-null  int64 \n",
      " 2   age_band                   18962 non-null   object\n",
      " 3   gender                     62029 non-null   object\n",
      " 4   car_model                  131337 non-null  object\n",
      " 5   car_segment                131337 non-null  object\n",
      " 6   age_of_vehicle_years       131337 non-null  int64 \n",
      " 7   sched_serv_warr            131337 non-null  int64 \n",
      " 8   non_sched_serv_warr        131337 non-null  int64 \n",
      " 9   sched_serv_paid            131337 non-null  int64 \n",
      " 10  non_sched_serv_paid        131337 non-null  int64 \n",
      " 11  total_paid_services        131337 non-null  int64 \n",
      " 12  total_services             131337 non-null  int64 \n",
      " 13  mth_since_last_serv        131337 non-null  int64 \n",
      " 14  annualised_mileage         131337 non-null  int64 \n",
      " 15  num_dealers_visited        131337 non-null  int64 \n",
      " 16  num_serv_dealer_purchased  131337 non-null  int64 \n",
      "dtypes: int64(13), object(4)\n",
      "memory usage: 17.0+ MB\n"
     ]
    }
   ],
   "source": [
    "df.info()"
   ]
  },
  {
   "cell_type": "code",
   "execution_count": 78,
   "id": "f2e21b83",
   "metadata": {},
   "outputs": [
    {
     "name": "stdout",
     "output_type": "stream",
     "text": [
      " Percentage Null values - 'age_band' : 85.56233201611123\n",
      " Percentage Null values - 'gender' : 52.77111552723147\n"
     ]
    }
   ],
   "source": [
    "print( f\" Percentage Null values - 'age_band' : {100 * df['age_band'].isna().sum() / len(df)}\" )\n",
    "print( f\" Percentage Null values - 'gender' : {100 * df['gender'].isna().sum() / len(df)}\" )"
   ]
  },
  {
   "cell_type": "code",
   "execution_count": 79,
   "id": "50b5678b",
   "metadata": {},
   "outputs": [
    {
     "data": {
      "text/html": [
       "<div>\n",
       "<style scoped>\n",
       "    .dataframe tbody tr th:only-of-type {\n",
       "        vertical-align: middle;\n",
       "    }\n",
       "\n",
       "    .dataframe tbody tr th {\n",
       "        vertical-align: top;\n",
       "    }\n",
       "\n",
       "    .dataframe thead th {\n",
       "        text-align: right;\n",
       "    }\n",
       "</style>\n",
       "<table border=\"1\" class=\"dataframe\">\n",
       "  <thead>\n",
       "    <tr style=\"text-align: right;\">\n",
       "      <th></th>\n",
       "      <th>ID</th>\n",
       "      <th>Target</th>\n",
       "      <th>age_band</th>\n",
       "      <th>gender</th>\n",
       "      <th>car_model</th>\n",
       "      <th>car_segment</th>\n",
       "      <th>age_of_vehicle_years</th>\n",
       "      <th>sched_serv_warr</th>\n",
       "      <th>non_sched_serv_warr</th>\n",
       "      <th>sched_serv_paid</th>\n",
       "      <th>non_sched_serv_paid</th>\n",
       "      <th>total_paid_services</th>\n",
       "      <th>total_services</th>\n",
       "      <th>mth_since_last_serv</th>\n",
       "      <th>annualised_mileage</th>\n",
       "      <th>num_dealers_visited</th>\n",
       "      <th>num_serv_dealer_purchased</th>\n",
       "    </tr>\n",
       "  </thead>\n",
       "  <tbody>\n",
       "  </tbody>\n",
       "</table>\n",
       "</div>"
      ],
      "text/plain": [
       "Empty DataFrame\n",
       "Columns: [ID, Target, age_band, gender, car_model, car_segment, age_of_vehicle_years, sched_serv_warr, non_sched_serv_warr, sched_serv_paid, non_sched_serv_paid, total_paid_services, total_services, mth_since_last_serv, annualised_mileage, num_dealers_visited, num_serv_dealer_purchased]\n",
       "Index: []"
      ]
     },
     "execution_count": 79,
     "metadata": {},
     "output_type": "execute_result"
    }
   ],
   "source": [
    "df[df.duplicated()]"
   ]
  },
  {
   "cell_type": "code",
   "execution_count": 80,
   "id": "6ca6fdb4",
   "metadata": {},
   "outputs": [
    {
     "data": {
      "text/html": [
       "<div>\n",
       "<style scoped>\n",
       "    .dataframe tbody tr th:only-of-type {\n",
       "        vertical-align: middle;\n",
       "    }\n",
       "\n",
       "    .dataframe tbody tr th {\n",
       "        vertical-align: top;\n",
       "    }\n",
       "\n",
       "    .dataframe thead th {\n",
       "        text-align: right;\n",
       "    }\n",
       "</style>\n",
       "<table border=\"1\" class=\"dataframe\">\n",
       "  <thead>\n",
       "    <tr style=\"text-align: right;\">\n",
       "      <th></th>\n",
       "      <th>ID</th>\n",
       "      <th>Target</th>\n",
       "      <th>age_of_vehicle_years</th>\n",
       "      <th>sched_serv_warr</th>\n",
       "      <th>non_sched_serv_warr</th>\n",
       "      <th>sched_serv_paid</th>\n",
       "      <th>non_sched_serv_paid</th>\n",
       "      <th>total_paid_services</th>\n",
       "      <th>total_services</th>\n",
       "      <th>mth_since_last_serv</th>\n",
       "      <th>annualised_mileage</th>\n",
       "      <th>num_dealers_visited</th>\n",
       "      <th>num_serv_dealer_purchased</th>\n",
       "    </tr>\n",
       "  </thead>\n",
       "  <tbody>\n",
       "    <tr>\n",
       "      <th>count</th>\n",
       "      <td>131337.000000</td>\n",
       "      <td>131337.000000</td>\n",
       "      <td>131337.000000</td>\n",
       "      <td>131337.000000</td>\n",
       "      <td>131337.000000</td>\n",
       "      <td>131337.000000</td>\n",
       "      <td>131337.000000</td>\n",
       "      <td>131337.000000</td>\n",
       "      <td>131337.000000</td>\n",
       "      <td>131337.000000</td>\n",
       "      <td>131337.000000</td>\n",
       "      <td>131337.000000</td>\n",
       "      <td>131337.000000</td>\n",
       "    </tr>\n",
       "    <tr>\n",
       "      <th>mean</th>\n",
       "      <td>77097.384180</td>\n",
       "      <td>0.026809</td>\n",
       "      <td>5.493022</td>\n",
       "      <td>5.452500</td>\n",
       "      <td>5.472517</td>\n",
       "      <td>5.452287</td>\n",
       "      <td>5.497050</td>\n",
       "      <td>5.481692</td>\n",
       "      <td>5.454967</td>\n",
       "      <td>5.469807</td>\n",
       "      <td>5.502836</td>\n",
       "      <td>5.485438</td>\n",
       "      <td>5.480778</td>\n",
       "    </tr>\n",
       "    <tr>\n",
       "      <th>std</th>\n",
       "      <td>44501.636704</td>\n",
       "      <td>0.161525</td>\n",
       "      <td>2.843299</td>\n",
       "      <td>2.884328</td>\n",
       "      <td>2.870665</td>\n",
       "      <td>2.886528</td>\n",
       "      <td>2.878699</td>\n",
       "      <td>2.880408</td>\n",
       "      <td>2.875961</td>\n",
       "      <td>2.859756</td>\n",
       "      <td>2.854896</td>\n",
       "      <td>2.876772</td>\n",
       "      <td>2.867524</td>\n",
       "    </tr>\n",
       "    <tr>\n",
       "      <th>min</th>\n",
       "      <td>1.000000</td>\n",
       "      <td>0.000000</td>\n",
       "      <td>1.000000</td>\n",
       "      <td>1.000000</td>\n",
       "      <td>1.000000</td>\n",
       "      <td>1.000000</td>\n",
       "      <td>1.000000</td>\n",
       "      <td>1.000000</td>\n",
       "      <td>1.000000</td>\n",
       "      <td>1.000000</td>\n",
       "      <td>1.000000</td>\n",
       "      <td>1.000000</td>\n",
       "      <td>1.000000</td>\n",
       "    </tr>\n",
       "    <tr>\n",
       "      <th>25%</th>\n",
       "      <td>38563.000000</td>\n",
       "      <td>0.000000</td>\n",
       "      <td>3.000000</td>\n",
       "      <td>3.000000</td>\n",
       "      <td>3.000000</td>\n",
       "      <td>3.000000</td>\n",
       "      <td>3.000000</td>\n",
       "      <td>3.000000</td>\n",
       "      <td>3.000000</td>\n",
       "      <td>3.000000</td>\n",
       "      <td>3.000000</td>\n",
       "      <td>3.000000</td>\n",
       "      <td>3.000000</td>\n",
       "    </tr>\n",
       "    <tr>\n",
       "      <th>50%</th>\n",
       "      <td>77132.000000</td>\n",
       "      <td>0.000000</td>\n",
       "      <td>5.000000</td>\n",
       "      <td>5.000000</td>\n",
       "      <td>5.000000</td>\n",
       "      <td>5.000000</td>\n",
       "      <td>5.000000</td>\n",
       "      <td>5.000000</td>\n",
       "      <td>5.000000</td>\n",
       "      <td>5.000000</td>\n",
       "      <td>5.000000</td>\n",
       "      <td>5.000000</td>\n",
       "      <td>5.000000</td>\n",
       "    </tr>\n",
       "    <tr>\n",
       "      <th>75%</th>\n",
       "      <td>115668.000000</td>\n",
       "      <td>0.000000</td>\n",
       "      <td>8.000000</td>\n",
       "      <td>8.000000</td>\n",
       "      <td>8.000000</td>\n",
       "      <td>8.000000</td>\n",
       "      <td>8.000000</td>\n",
       "      <td>8.000000</td>\n",
       "      <td>8.000000</td>\n",
       "      <td>8.000000</td>\n",
       "      <td>8.000000</td>\n",
       "      <td>8.000000</td>\n",
       "      <td>8.000000</td>\n",
       "    </tr>\n",
       "    <tr>\n",
       "      <th>max</th>\n",
       "      <td>154139.000000</td>\n",
       "      <td>1.000000</td>\n",
       "      <td>10.000000</td>\n",
       "      <td>10.000000</td>\n",
       "      <td>10.000000</td>\n",
       "      <td>10.000000</td>\n",
       "      <td>10.000000</td>\n",
       "      <td>10.000000</td>\n",
       "      <td>10.000000</td>\n",
       "      <td>10.000000</td>\n",
       "      <td>10.000000</td>\n",
       "      <td>10.000000</td>\n",
       "      <td>10.000000</td>\n",
       "    </tr>\n",
       "  </tbody>\n",
       "</table>\n",
       "</div>"
      ],
      "text/plain": [
       "                  ID         Target  age_of_vehicle_years  sched_serv_warr  \\\n",
       "count  131337.000000  131337.000000         131337.000000    131337.000000   \n",
       "mean    77097.384180       0.026809              5.493022         5.452500   \n",
       "std     44501.636704       0.161525              2.843299         2.884328   \n",
       "min         1.000000       0.000000              1.000000         1.000000   \n",
       "25%     38563.000000       0.000000              3.000000         3.000000   \n",
       "50%     77132.000000       0.000000              5.000000         5.000000   \n",
       "75%    115668.000000       0.000000              8.000000         8.000000   \n",
       "max    154139.000000       1.000000             10.000000        10.000000   \n",
       "\n",
       "       non_sched_serv_warr  sched_serv_paid  non_sched_serv_paid  \\\n",
       "count        131337.000000    131337.000000        131337.000000   \n",
       "mean              5.472517         5.452287             5.497050   \n",
       "std               2.870665         2.886528             2.878699   \n",
       "min               1.000000         1.000000             1.000000   \n",
       "25%               3.000000         3.000000             3.000000   \n",
       "50%               5.000000         5.000000             5.000000   \n",
       "75%               8.000000         8.000000             8.000000   \n",
       "max              10.000000        10.000000            10.000000   \n",
       "\n",
       "       total_paid_services  total_services  mth_since_last_serv  \\\n",
       "count        131337.000000   131337.000000        131337.000000   \n",
       "mean              5.481692        5.454967             5.469807   \n",
       "std               2.880408        2.875961             2.859756   \n",
       "min               1.000000        1.000000             1.000000   \n",
       "25%               3.000000        3.000000             3.000000   \n",
       "50%               5.000000        5.000000             5.000000   \n",
       "75%               8.000000        8.000000             8.000000   \n",
       "max              10.000000       10.000000            10.000000   \n",
       "\n",
       "       annualised_mileage  num_dealers_visited  num_serv_dealer_purchased  \n",
       "count       131337.000000        131337.000000              131337.000000  \n",
       "mean             5.502836             5.485438                   5.480778  \n",
       "std              2.854896             2.876772                   2.867524  \n",
       "min              1.000000             1.000000                   1.000000  \n",
       "25%              3.000000             3.000000                   3.000000  \n",
       "50%              5.000000             5.000000                   5.000000  \n",
       "75%              8.000000             8.000000                   8.000000  \n",
       "max             10.000000            10.000000                  10.000000  "
      ]
     },
     "execution_count": 80,
     "metadata": {},
     "output_type": "execute_result"
    }
   ],
   "source": [
    "df.describe()"
   ]
  },
  {
   "cell_type": "code",
   "execution_count": 81,
   "id": "50417611",
   "metadata": {},
   "outputs": [
    {
     "name": "stdout",
     "output_type": "stream",
     "text": [
      "ID\n",
      "[     1      2      3 ... 154137 154138 154139]\n",
      "Target\n",
      "[0 1]\n",
      "age_band\n",
      "['3. 35 to 44' nan '1. <25' '4. 45 to 54' '2. 25 to 34' '7. 75+'\n",
      " '5. 55 to 64' '6. 65 to 74']\n",
      "gender\n",
      "['Male' nan 'Female']\n",
      "car_model\n",
      "['model_1' 'model_2' 'model_3' 'model_5' 'model_6' 'model_4' 'model_7'\n",
      " 'model_8' 'model_9' 'model_10' 'model_11' 'model_13' 'model_12'\n",
      " 'model_14' 'model_15' 'model_16' 'model_17' 'model_18' 'model_19']\n",
      "car_segment\n",
      "['LCV' 'Small/Medium' 'Large/SUV' 'Other']\n",
      "age_of_vehicle_years\n",
      "[ 9  6  5  8  7  1  3  4 10  2]\n",
      "sched_serv_warr\n",
      "[ 2 10  8  9  4  1  3  7  5  6]\n",
      "non_sched_serv_warr\n",
      "[10  3  9  5  4  8  1  6  2  7]\n",
      "sched_serv_paid\n",
      "[ 3 10  8  5  2  6  1  4  9  7]\n",
      "non_sched_serv_paid\n",
      "[ 7  4  9  3  1  2  6  5 10  8]\n",
      "total_paid_services\n",
      "[ 5  9 10  6  8  1  2  7  3  4]\n",
      "total_services\n",
      "[ 6 10  8  4  2  1  3  5  9  7]\n",
      "mth_since_last_serv\n",
      "[ 9  6  7  4  5  8  1  3 10  2]\n",
      "annualised_mileage\n",
      "[ 8 10  4  5  6  1  7  3  9  2]\n",
      "num_dealers_visited\n",
      "[10  7  6  9  4  5  2  1  3  8]\n",
      "num_serv_dealer_purchased\n",
      "[ 4 10  7  9  8  3  1  6  2  5]\n"
     ]
    }
   ],
   "source": [
    "for cols in df.columns:\n",
    "    print(cols)\n",
    "    print(df[cols].unique())"
   ]
  },
  {
   "cell_type": "markdown",
   "id": "63865426",
   "metadata": {},
   "source": [
    "### 2. Data Preparation"
   ]
  },
  {
   "cell_type": "code",
   "execution_count": 82,
   "id": "f32b15b4",
   "metadata": {},
   "outputs": [],
   "source": [
    "df_cleaned = df.copy()"
   ]
  },
  {
   "cell_type": "code",
   "execution_count": 83,
   "id": "caab1750",
   "metadata": {},
   "outputs": [],
   "source": [
    "## Dropping columns ID, gender and age_band\n",
    "df_cleaned.drop(['ID','gender', 'age_band'], axis = 1, inplace = True)"
   ]
  },
  {
   "cell_type": "code",
   "execution_count": 84,
   "id": "02c0b844",
   "metadata": {},
   "outputs": [
    {
     "data": {
      "text/html": [
       "<div>\n",
       "<style scoped>\n",
       "    .dataframe tbody tr th:only-of-type {\n",
       "        vertical-align: middle;\n",
       "    }\n",
       "\n",
       "    .dataframe tbody tr th {\n",
       "        vertical-align: top;\n",
       "    }\n",
       "\n",
       "    .dataframe thead th {\n",
       "        text-align: right;\n",
       "    }\n",
       "</style>\n",
       "<table border=\"1\" class=\"dataframe\">\n",
       "  <thead>\n",
       "    <tr style=\"text-align: right;\">\n",
       "      <th></th>\n",
       "      <th>model_1</th>\n",
       "      <th>model_10</th>\n",
       "      <th>model_11</th>\n",
       "      <th>model_12</th>\n",
       "      <th>model_13</th>\n",
       "      <th>model_14</th>\n",
       "      <th>model_15</th>\n",
       "      <th>model_16</th>\n",
       "      <th>model_17</th>\n",
       "      <th>model_18</th>\n",
       "      <th>model_19</th>\n",
       "      <th>model_2</th>\n",
       "      <th>model_3</th>\n",
       "      <th>model_4</th>\n",
       "      <th>model_5</th>\n",
       "      <th>model_6</th>\n",
       "      <th>model_7</th>\n",
       "      <th>model_8</th>\n",
       "      <th>model_9</th>\n",
       "    </tr>\n",
       "  </thead>\n",
       "  <tbody>\n",
       "    <tr>\n",
       "      <th>0</th>\n",
       "      <td>1</td>\n",
       "      <td>0</td>\n",
       "      <td>0</td>\n",
       "      <td>0</td>\n",
       "      <td>0</td>\n",
       "      <td>0</td>\n",
       "      <td>0</td>\n",
       "      <td>0</td>\n",
       "      <td>0</td>\n",
       "      <td>0</td>\n",
       "      <td>0</td>\n",
       "      <td>0</td>\n",
       "      <td>0</td>\n",
       "      <td>0</td>\n",
       "      <td>0</td>\n",
       "      <td>0</td>\n",
       "      <td>0</td>\n",
       "      <td>0</td>\n",
       "      <td>0</td>\n",
       "    </tr>\n",
       "    <tr>\n",
       "      <th>1</th>\n",
       "      <td>0</td>\n",
       "      <td>0</td>\n",
       "      <td>0</td>\n",
       "      <td>0</td>\n",
       "      <td>0</td>\n",
       "      <td>0</td>\n",
       "      <td>0</td>\n",
       "      <td>0</td>\n",
       "      <td>0</td>\n",
       "      <td>0</td>\n",
       "      <td>0</td>\n",
       "      <td>1</td>\n",
       "      <td>0</td>\n",
       "      <td>0</td>\n",
       "      <td>0</td>\n",
       "      <td>0</td>\n",
       "      <td>0</td>\n",
       "      <td>0</td>\n",
       "      <td>0</td>\n",
       "    </tr>\n",
       "    <tr>\n",
       "      <th>2</th>\n",
       "      <td>0</td>\n",
       "      <td>0</td>\n",
       "      <td>0</td>\n",
       "      <td>0</td>\n",
       "      <td>0</td>\n",
       "      <td>0</td>\n",
       "      <td>0</td>\n",
       "      <td>0</td>\n",
       "      <td>0</td>\n",
       "      <td>0</td>\n",
       "      <td>0</td>\n",
       "      <td>0</td>\n",
       "      <td>1</td>\n",
       "      <td>0</td>\n",
       "      <td>0</td>\n",
       "      <td>0</td>\n",
       "      <td>0</td>\n",
       "      <td>0</td>\n",
       "      <td>0</td>\n",
       "    </tr>\n",
       "    <tr>\n",
       "      <th>3</th>\n",
       "      <td>0</td>\n",
       "      <td>0</td>\n",
       "      <td>0</td>\n",
       "      <td>0</td>\n",
       "      <td>0</td>\n",
       "      <td>0</td>\n",
       "      <td>0</td>\n",
       "      <td>0</td>\n",
       "      <td>0</td>\n",
       "      <td>0</td>\n",
       "      <td>0</td>\n",
       "      <td>0</td>\n",
       "      <td>1</td>\n",
       "      <td>0</td>\n",
       "      <td>0</td>\n",
       "      <td>0</td>\n",
       "      <td>0</td>\n",
       "      <td>0</td>\n",
       "      <td>0</td>\n",
       "    </tr>\n",
       "    <tr>\n",
       "      <th>4</th>\n",
       "      <td>0</td>\n",
       "      <td>0</td>\n",
       "      <td>0</td>\n",
       "      <td>0</td>\n",
       "      <td>0</td>\n",
       "      <td>0</td>\n",
       "      <td>0</td>\n",
       "      <td>0</td>\n",
       "      <td>0</td>\n",
       "      <td>0</td>\n",
       "      <td>0</td>\n",
       "      <td>1</td>\n",
       "      <td>0</td>\n",
       "      <td>0</td>\n",
       "      <td>0</td>\n",
       "      <td>0</td>\n",
       "      <td>0</td>\n",
       "      <td>0</td>\n",
       "      <td>0</td>\n",
       "    </tr>\n",
       "    <tr>\n",
       "      <th>...</th>\n",
       "      <td>...</td>\n",
       "      <td>...</td>\n",
       "      <td>...</td>\n",
       "      <td>...</td>\n",
       "      <td>...</td>\n",
       "      <td>...</td>\n",
       "      <td>...</td>\n",
       "      <td>...</td>\n",
       "      <td>...</td>\n",
       "      <td>...</td>\n",
       "      <td>...</td>\n",
       "      <td>...</td>\n",
       "      <td>...</td>\n",
       "      <td>...</td>\n",
       "      <td>...</td>\n",
       "      <td>...</td>\n",
       "      <td>...</td>\n",
       "      <td>...</td>\n",
       "      <td>...</td>\n",
       "    </tr>\n",
       "    <tr>\n",
       "      <th>131332</th>\n",
       "      <td>0</td>\n",
       "      <td>0</td>\n",
       "      <td>0</td>\n",
       "      <td>0</td>\n",
       "      <td>0</td>\n",
       "      <td>0</td>\n",
       "      <td>0</td>\n",
       "      <td>0</td>\n",
       "      <td>0</td>\n",
       "      <td>0</td>\n",
       "      <td>0</td>\n",
       "      <td>0</td>\n",
       "      <td>1</td>\n",
       "      <td>0</td>\n",
       "      <td>0</td>\n",
       "      <td>0</td>\n",
       "      <td>0</td>\n",
       "      <td>0</td>\n",
       "      <td>0</td>\n",
       "    </tr>\n",
       "    <tr>\n",
       "      <th>131333</th>\n",
       "      <td>0</td>\n",
       "      <td>0</td>\n",
       "      <td>0</td>\n",
       "      <td>0</td>\n",
       "      <td>0</td>\n",
       "      <td>0</td>\n",
       "      <td>0</td>\n",
       "      <td>0</td>\n",
       "      <td>0</td>\n",
       "      <td>0</td>\n",
       "      <td>0</td>\n",
       "      <td>0</td>\n",
       "      <td>1</td>\n",
       "      <td>0</td>\n",
       "      <td>0</td>\n",
       "      <td>0</td>\n",
       "      <td>0</td>\n",
       "      <td>0</td>\n",
       "      <td>0</td>\n",
       "    </tr>\n",
       "    <tr>\n",
       "      <th>131334</th>\n",
       "      <td>0</td>\n",
       "      <td>0</td>\n",
       "      <td>0</td>\n",
       "      <td>0</td>\n",
       "      <td>0</td>\n",
       "      <td>0</td>\n",
       "      <td>0</td>\n",
       "      <td>0</td>\n",
       "      <td>0</td>\n",
       "      <td>0</td>\n",
       "      <td>0</td>\n",
       "      <td>0</td>\n",
       "      <td>0</td>\n",
       "      <td>0</td>\n",
       "      <td>1</td>\n",
       "      <td>0</td>\n",
       "      <td>0</td>\n",
       "      <td>0</td>\n",
       "      <td>0</td>\n",
       "    </tr>\n",
       "    <tr>\n",
       "      <th>131335</th>\n",
       "      <td>0</td>\n",
       "      <td>0</td>\n",
       "      <td>0</td>\n",
       "      <td>0</td>\n",
       "      <td>0</td>\n",
       "      <td>0</td>\n",
       "      <td>0</td>\n",
       "      <td>0</td>\n",
       "      <td>0</td>\n",
       "      <td>0</td>\n",
       "      <td>0</td>\n",
       "      <td>0</td>\n",
       "      <td>0</td>\n",
       "      <td>0</td>\n",
       "      <td>1</td>\n",
       "      <td>0</td>\n",
       "      <td>0</td>\n",
       "      <td>0</td>\n",
       "      <td>0</td>\n",
       "    </tr>\n",
       "    <tr>\n",
       "      <th>131336</th>\n",
       "      <td>1</td>\n",
       "      <td>0</td>\n",
       "      <td>0</td>\n",
       "      <td>0</td>\n",
       "      <td>0</td>\n",
       "      <td>0</td>\n",
       "      <td>0</td>\n",
       "      <td>0</td>\n",
       "      <td>0</td>\n",
       "      <td>0</td>\n",
       "      <td>0</td>\n",
       "      <td>0</td>\n",
       "      <td>0</td>\n",
       "      <td>0</td>\n",
       "      <td>0</td>\n",
       "      <td>0</td>\n",
       "      <td>0</td>\n",
       "      <td>0</td>\n",
       "      <td>0</td>\n",
       "    </tr>\n",
       "  </tbody>\n",
       "</table>\n",
       "<p>131337 rows × 19 columns</p>\n",
       "</div>"
      ],
      "text/plain": [
       "        model_1  model_10  model_11  model_12  model_13  model_14  model_15  \\\n",
       "0             1         0         0         0         0         0         0   \n",
       "1             0         0         0         0         0         0         0   \n",
       "2             0         0         0         0         0         0         0   \n",
       "3             0         0         0         0         0         0         0   \n",
       "4             0         0         0         0         0         0         0   \n",
       "...         ...       ...       ...       ...       ...       ...       ...   \n",
       "131332        0         0         0         0         0         0         0   \n",
       "131333        0         0         0         0         0         0         0   \n",
       "131334        0         0         0         0         0         0         0   \n",
       "131335        0         0         0         0         0         0         0   \n",
       "131336        1         0         0         0         0         0         0   \n",
       "\n",
       "        model_16  model_17  model_18  model_19  model_2  model_3  model_4  \\\n",
       "0              0         0         0         0        0        0        0   \n",
       "1              0         0         0         0        1        0        0   \n",
       "2              0         0         0         0        0        1        0   \n",
       "3              0         0         0         0        0        1        0   \n",
       "4              0         0         0         0        1        0        0   \n",
       "...          ...       ...       ...       ...      ...      ...      ...   \n",
       "131332         0         0         0         0        0        1        0   \n",
       "131333         0         0         0         0        0        1        0   \n",
       "131334         0         0         0         0        0        0        0   \n",
       "131335         0         0         0         0        0        0        0   \n",
       "131336         0         0         0         0        0        0        0   \n",
       "\n",
       "        model_5  model_6  model_7  model_8  model_9  \n",
       "0             0        0        0        0        0  \n",
       "1             0        0        0        0        0  \n",
       "2             0        0        0        0        0  \n",
       "3             0        0        0        0        0  \n",
       "4             0        0        0        0        0  \n",
       "...         ...      ...      ...      ...      ...  \n",
       "131332        0        0        0        0        0  \n",
       "131333        0        0        0        0        0  \n",
       "131334        1        0        0        0        0  \n",
       "131335        1        0        0        0        0  \n",
       "131336        0        0        0        0        0  \n",
       "\n",
       "[131337 rows x 19 columns]"
      ]
     },
     "execution_count": 84,
     "metadata": {},
     "output_type": "execute_result"
    }
   ],
   "source": [
    "#Applying one-hot encoding to the nominal data 'Car_model'\n",
    "df_car_model = pd.get_dummies(df_cleaned['car_model'])\n",
    "df_car_model"
   ]
  },
  {
   "cell_type": "markdown",
   "id": "3d485942",
   "metadata": {},
   "source": [
    "#### We will map numerical values to the ordinal data under 'car_segment'"
   ]
  },
  {
   "cell_type": "code",
   "execution_count": 85,
   "id": "84e340a4",
   "metadata": {},
   "outputs": [
    {
     "name": "stdout",
     "output_type": "stream",
     "text": [
      "car_segment\n",
      "['LCV' 'Small/Medium' 'Large/SUV' 'Other']\n"
     ]
    }
   ],
   "source": [
    "ord_cols = ['car_segment']\n",
    "for col in ord_cols:\n",
    "  print(col)\n",
    "  print(df_cleaned[col].unique()) "
   ]
  },
  {
   "cell_type": "code",
   "execution_count": 86,
   "id": "68777131",
   "metadata": {},
   "outputs": [
    {
     "data": {
      "text/plain": [
       "{'Other': 0, 'LCV': 1, 'Small/Medium': 2, 'Large/SUV': 3}"
      ]
     },
     "execution_count": 86,
     "metadata": {},
     "output_type": "execute_result"
    }
   ],
   "source": [
    "car_segment_mapper = {\n",
    "    \"Other\": 0, \n",
    "    \"LCV\": 1, \n",
    "    \"Small/Medium\": 2,\n",
    "    \"Large/SUV\": 3\n",
    "}\n",
    "car_segment_mapper"
   ]
  },
  {
   "cell_type": "code",
   "execution_count": 87,
   "id": "3afa28af",
   "metadata": {},
   "outputs": [
    {
     "data": {
      "text/plain": [
       "0         1\n",
       "1         2\n",
       "2         3\n",
       "3         3\n",
       "4         2\n",
       "         ..\n",
       "131332    3\n",
       "131333    3\n",
       "131334    3\n",
       "131335    3\n",
       "131336    1\n",
       "Name: car_segment, Length: 131337, dtype: int64"
      ]
     },
     "execution_count": 87,
     "metadata": {},
     "output_type": "execute_result"
    }
   ],
   "source": [
    "df_cleaned[\"car_segment\"] = df_cleaned[\"car_segment\"].replace(car_segment_mapper)\n",
    "df_cleaned[\"car_segment\"]"
   ]
  },
  {
   "cell_type": "markdown",
   "id": "027b61d9",
   "metadata": {},
   "source": [
    " #### Merging the encoded data-frame"
   ]
  },
  {
   "cell_type": "code",
   "execution_count": 88,
   "id": "6aeb5353",
   "metadata": {},
   "outputs": [],
   "source": [
    "X = pd.concat([df_cleaned, df_car_model], axis=1)\n",
    "X.drop('car_model', axis = 1, inplace = True)"
   ]
  },
  {
   "cell_type": "code",
   "execution_count": 89,
   "id": "36bce76a",
   "metadata": {},
   "outputs": [],
   "source": [
    "y = X.pop('Target')"
   ]
  },
  {
   "cell_type": "markdown",
   "id": "b608f7fe",
   "metadata": {},
   "source": [
    "### 4. Data Splitting"
   ]
  },
  {
   "cell_type": "code",
   "execution_count": 90,
   "id": "01128e0b",
   "metadata": {},
   "outputs": [
    {
     "data": {
      "text/plain": [
       "0    0.973191\n",
       "1    0.026809\n",
       "Name: Target, dtype: float64"
      ]
     },
     "execution_count": 90,
     "metadata": {},
     "output_type": "execute_result"
    }
   ],
   "source": [
    "y.value_counts(normalize=True)"
   ]
  },
  {
   "cell_type": "code",
   "execution_count": 91,
   "id": "c899c205",
   "metadata": {},
   "outputs": [],
   "source": [
    "from sklearn.model_selection import train_test_split"
   ]
  },
  {
   "cell_type": "code",
   "execution_count": 92,
   "id": "8c8c8d99",
   "metadata": {},
   "outputs": [],
   "source": [
    "X_data, X_test, y_data, y_test = train_test_split (X, y, test_size=0.2, random_state=8)"
   ]
  },
  {
   "cell_type": "code",
   "execution_count": 93,
   "id": "9a4f5f78",
   "metadata": {},
   "outputs": [
    {
     "data": {
      "text/plain": [
       "0    0.971867\n",
       "1    0.028133\n",
       "Name: Target, dtype: float64"
      ]
     },
     "execution_count": 93,
     "metadata": {},
     "output_type": "execute_result"
    }
   ],
   "source": [
    "y_test.value_counts(normalize=True)"
   ]
  },
  {
   "cell_type": "code",
   "execution_count": 94,
   "id": "547f3f00",
   "metadata": {},
   "outputs": [],
   "source": [
    "X_train, X_val, y_train, y_val = train_test_split(X_data, y_data, test_size=0.2, random_state=8)"
   ]
  },
  {
   "cell_type": "code",
   "execution_count": 95,
   "id": "4522f2da",
   "metadata": {},
   "outputs": [
    {
     "data": {
      "text/plain": [
       "0    0.973494\n",
       "1    0.026506\n",
       "Name: Target, dtype: float64"
      ]
     },
     "execution_count": 95,
     "metadata": {},
     "output_type": "execute_result"
    }
   ],
   "source": [
    "y_train.value_counts(normalize=True)"
   ]
  },
  {
   "cell_type": "code",
   "execution_count": 96,
   "id": "8d29fdba",
   "metadata": {},
   "outputs": [
    {
     "data": {
      "text/plain": [
       "0    0.973637\n",
       "1    0.026363\n",
       "Name: Target, dtype: float64"
      ]
     },
     "execution_count": 96,
     "metadata": {},
     "output_type": "execute_result"
    }
   ],
   "source": [
    "y_val.value_counts(normalize=True)"
   ]
  },
  {
   "cell_type": "markdown",
   "id": "fbf4dc38",
   "metadata": {
    "id": "bBPro7L1t1or"
   },
   "source": [
    "## 4. Assess Baseline Model"
   ]
  },
  {
   "cell_type": "markdown",
   "id": "5996c6a2",
   "metadata": {
    "id": "WBPdF5VvRVs5"
   },
   "source": [
    "**[4.1]** Find the mode of the target variable from the training set and print its value"
   ]
  },
  {
   "cell_type": "code",
   "execution_count": 98,
   "id": "e07abb96",
   "metadata": {
    "colab": {
     "base_uri": "https://localhost:8080/"
    },
    "executionInfo": {
     "elapsed": 2,
     "status": "ok",
     "timestamp": 1680774017308,
     "user": {
      "displayName": "Anthony So",
      "userId": "05258592867336372279"
     },
     "user_tz": -600
    },
    "id": "qdbB-RjpRbcC",
    "outputId": "38418507-36fb-40f8-8a7f-b20d964a421e"
   },
   "outputs": [
    {
     "data": {
      "text/plain": [
       "0    0\n",
       "Name: Target, dtype: int64"
      ]
     },
     "execution_count": 98,
     "metadata": {},
     "output_type": "execute_result"
    }
   ],
   "source": [
    "y_mode = y_train.mode()\n",
    "y_mode"
   ]
  },
  {
   "cell_type": "markdown",
   "id": "db6933f9",
   "metadata": {
    "id": "Xo2psR_JE1O-"
   },
   "source": [
    "**[4.2]** Create a numpy array with the same dimensions as for the training set called `y_base` filled with this value\n",
    "\n"
   ]
  },
  {
   "cell_type": "code",
   "execution_count": 100,
   "id": "07a6b1ef",
   "metadata": {
    "id": "lblkko_BE5fo"
   },
   "outputs": [],
   "source": [
    "y_shape = (len(X_train), 1)\n",
    "y_base = np.full(y_shape, y_mode)"
   ]
  },
  {
   "cell_type": "markdown",
   "id": "d26b4884",
   "metadata": {
    "id": "3XYwbPqoFA_H"
   },
   "source": [
    "**[4.3]** Import the accuracy score from sklearn"
   ]
  },
  {
   "cell_type": "code",
   "execution_count": 102,
   "id": "992d6359",
   "metadata": {
    "id": "w4pzCk6xFBUq"
   },
   "outputs": [],
   "source": [
    "from sklearn.metrics import accuracy_score"
   ]
  },
  {
   "cell_type": "markdown",
   "id": "92c0f063",
   "metadata": {
    "id": "Z8qOQX_nFE8T"
   },
   "source": [
    "**[4.4]** Display the accuracy score of this baseline model on the training set"
   ]
  },
  {
   "cell_type": "code",
   "execution_count": 104,
   "id": "2f7ad4ce",
   "metadata": {
    "colab": {
     "base_uri": "https://localhost:8080/"
    },
    "executionInfo": {
     "elapsed": 3,
     "status": "ok",
     "timestamp": 1680774030371,
     "user": {
      "displayName": "Anthony So",
      "userId": "05258592867336372279"
     },
     "user_tz": -600
    },
    "id": "cPF0G5pPFFD4",
    "outputId": "b83f80d1-45ab-467b-a5b3-dcb0153e619e"
   },
   "outputs": [
    {
     "data": {
      "text/plain": [
       "0.9734935458925703"
      ]
     },
     "execution_count": 104,
     "metadata": {},
     "output_type": "execute_result"
    }
   ],
   "source": [
    "accuracy_score(y_train, y_base)"
   ]
  },
  {
   "cell_type": "markdown",
   "id": "7259ef90",
   "metadata": {
    "id": "I0K2ianywrjs"
   },
   "source": [
    "## 5. Train Initial RandomForest with Default Hyperparameter"
   ]
  },
  {
   "cell_type": "markdown",
   "id": "247b99ed",
   "metadata": {
    "id": "c-gHSsrLk23B"
   },
   "source": [
    "**[5.1]** Import the RandomForestClassifier from sklearn.ensemble"
   ]
  },
  {
   "cell_type": "code",
   "execution_count": 106,
   "id": "ab3fb709",
   "metadata": {
    "id": "nTelvJBAk23D"
   },
   "outputs": [],
   "source": [
    "from sklearn.ensemble import RandomForestClassifier"
   ]
  },
  {
   "cell_type": "markdown",
   "id": "364f3882",
   "metadata": {
    "id": "tZ8Dz5m-lmnL"
   },
   "source": [
    "**[5.2]** Instantiate the RandomForestClassifier class called rf1 with a random state=8"
   ]
  },
  {
   "cell_type": "code",
   "execution_count": 108,
   "id": "163d9961",
   "metadata": {
    "id": "HfK5SxbglmnQ"
   },
   "outputs": [],
   "source": [
    "rf1 = RandomForestClassifier(random_state=8)"
   ]
  },
  {
   "cell_type": "markdown",
   "id": "03f28207",
   "metadata": {
    "id": "jkCyz2benfqX"
   },
   "source": [
    "**[5.3]** Fit the RandomForest model"
   ]
  },
  {
   "cell_type": "code",
   "execution_count": 110,
   "id": "bd61afc8",
   "metadata": {
    "colab": {
     "base_uri": "https://localhost:8080/",
     "height": 74
    },
    "executionInfo": {
     "elapsed": 1570,
     "status": "ok",
     "timestamp": 1680774062402,
     "user": {
      "displayName": "Anthony So",
      "userId": "05258592867336372279"
     },
     "user_tz": -600
    },
    "id": "Ib8mHNwzn5L2",
    "outputId": "e8a40a4c-6398-4ca4-9b60-338e244d1f3c"
   },
   "outputs": [
    {
     "data": {
      "text/html": [
       "<style>#sk-container-id-2 {color: black;background-color: white;}#sk-container-id-2 pre{padding: 0;}#sk-container-id-2 div.sk-toggleable {background-color: white;}#sk-container-id-2 label.sk-toggleable__label {cursor: pointer;display: block;width: 100%;margin-bottom: 0;padding: 0.3em;box-sizing: border-box;text-align: center;}#sk-container-id-2 label.sk-toggleable__label-arrow:before {content: \"▸\";float: left;margin-right: 0.25em;color: #696969;}#sk-container-id-2 label.sk-toggleable__label-arrow:hover:before {color: black;}#sk-container-id-2 div.sk-estimator:hover label.sk-toggleable__label-arrow:before {color: black;}#sk-container-id-2 div.sk-toggleable__content {max-height: 0;max-width: 0;overflow: hidden;text-align: left;background-color: #f0f8ff;}#sk-container-id-2 div.sk-toggleable__content pre {margin: 0.2em;color: black;border-radius: 0.25em;background-color: #f0f8ff;}#sk-container-id-2 input.sk-toggleable__control:checked~div.sk-toggleable__content {max-height: 200px;max-width: 100%;overflow: auto;}#sk-container-id-2 input.sk-toggleable__control:checked~label.sk-toggleable__label-arrow:before {content: \"▾\";}#sk-container-id-2 div.sk-estimator input.sk-toggleable__control:checked~label.sk-toggleable__label {background-color: #d4ebff;}#sk-container-id-2 div.sk-label input.sk-toggleable__control:checked~label.sk-toggleable__label {background-color: #d4ebff;}#sk-container-id-2 input.sk-hidden--visually {border: 0;clip: rect(1px 1px 1px 1px);clip: rect(1px, 1px, 1px, 1px);height: 1px;margin: -1px;overflow: hidden;padding: 0;position: absolute;width: 1px;}#sk-container-id-2 div.sk-estimator {font-family: monospace;background-color: #f0f8ff;border: 1px dotted black;border-radius: 0.25em;box-sizing: border-box;margin-bottom: 0.5em;}#sk-container-id-2 div.sk-estimator:hover {background-color: #d4ebff;}#sk-container-id-2 div.sk-parallel-item::after {content: \"\";width: 100%;border-bottom: 1px solid gray;flex-grow: 1;}#sk-container-id-2 div.sk-label:hover label.sk-toggleable__label {background-color: #d4ebff;}#sk-container-id-2 div.sk-serial::before {content: \"\";position: absolute;border-left: 1px solid gray;box-sizing: border-box;top: 0;bottom: 0;left: 50%;z-index: 0;}#sk-container-id-2 div.sk-serial {display: flex;flex-direction: column;align-items: center;background-color: white;padding-right: 0.2em;padding-left: 0.2em;position: relative;}#sk-container-id-2 div.sk-item {position: relative;z-index: 1;}#sk-container-id-2 div.sk-parallel {display: flex;align-items: stretch;justify-content: center;background-color: white;position: relative;}#sk-container-id-2 div.sk-item::before, #sk-container-id-2 div.sk-parallel-item::before {content: \"\";position: absolute;border-left: 1px solid gray;box-sizing: border-box;top: 0;bottom: 0;left: 50%;z-index: -1;}#sk-container-id-2 div.sk-parallel-item {display: flex;flex-direction: column;z-index: 1;position: relative;background-color: white;}#sk-container-id-2 div.sk-parallel-item:first-child::after {align-self: flex-end;width: 50%;}#sk-container-id-2 div.sk-parallel-item:last-child::after {align-self: flex-start;width: 50%;}#sk-container-id-2 div.sk-parallel-item:only-child::after {width: 0;}#sk-container-id-2 div.sk-dashed-wrapped {border: 1px dashed gray;margin: 0 0.4em 0.5em 0.4em;box-sizing: border-box;padding-bottom: 0.4em;background-color: white;}#sk-container-id-2 div.sk-label label {font-family: monospace;font-weight: bold;display: inline-block;line-height: 1.2em;}#sk-container-id-2 div.sk-label-container {text-align: center;}#sk-container-id-2 div.sk-container {/* jupyter's `normalize.less` sets `[hidden] { display: none; }` but bootstrap.min.css set `[hidden] { display: none !important; }` so we also need the `!important` here to be able to override the default hidden behavior on the sphinx rendered scikit-learn.org. See: https://github.com/scikit-learn/scikit-learn/issues/21755 */display: inline-block !important;position: relative;}#sk-container-id-2 div.sk-text-repr-fallback {display: none;}</style><div id=\"sk-container-id-2\" class=\"sk-top-container\"><div class=\"sk-text-repr-fallback\"><pre>RandomForestClassifier(random_state=8)</pre><b>In a Jupyter environment, please rerun this cell to show the HTML representation or trust the notebook. <br />On GitHub, the HTML representation is unable to render, please try loading this page with nbviewer.org.</b></div><div class=\"sk-container\" hidden><div class=\"sk-item\"><div class=\"sk-estimator sk-toggleable\"><input class=\"sk-toggleable__control sk-hidden--visually\" id=\"sk-estimator-id-2\" type=\"checkbox\" checked><label for=\"sk-estimator-id-2\" class=\"sk-toggleable__label sk-toggleable__label-arrow\">RandomForestClassifier</label><div class=\"sk-toggleable__content\"><pre>RandomForestClassifier(random_state=8)</pre></div></div></div></div></div>"
      ],
      "text/plain": [
       "RandomForestClassifier(random_state=8)"
      ]
     },
     "execution_count": 110,
     "metadata": {},
     "output_type": "execute_result"
    }
   ],
   "source": [
    "rf1.fit(X_train, y_train)"
   ]
  },
  {
   "cell_type": "markdown",
   "id": "9d2c8e53",
   "metadata": {
    "id": "ULmQVwjqwtR1"
   },
   "source": [
    "**[5.4]** Calculate the accuracy of the RandomForest on the training and validation sets and print them"
   ]
  },
  {
   "cell_type": "code",
   "execution_count": 112,
   "id": "95c386b8",
   "metadata": {
    "colab": {
     "base_uri": "https://localhost:8080/"
    },
    "executionInfo": {
     "elapsed": 1370,
     "status": "ok",
     "timestamp": 1680774067504,
     "user": {
      "displayName": "Anthony So",
      "userId": "05258592867336372279"
     },
     "user_tz": -600
    },
    "id": "zM3ZUknOwtf3",
    "outputId": "838a8521-e4e1-461e-a2e0-55059cd29fcc"
   },
   "outputs": [
    {
     "name": "stdout",
     "output_type": "stream",
     "text": [
      "0.9999881030277794\n",
      "0.9924812030075187\n"
     ]
    }
   ],
   "source": [
    "print(rf1.score(X_train, y_train))\n",
    "print(rf1.score(X_val, y_val))"
   ]
  },
  {
   "cell_type": "markdown",
   "id": "a9a8b1a1",
   "metadata": {
    "id": "pPJ2dpQbv_wW"
   },
   "source": [
    "## 6. Reduce Overfitting with n_estimators"
   ]
  },
  {
   "cell_type": "markdown",
   "id": "3b24213c",
   "metadata": {
    "id": "9Y4HHjLrob2k"
   },
   "source": [
    "**[6.1]** Train a RandomForestClassifier model with n_estimators=50 and print the accuracy score for the training and validation sets"
   ]
  },
  {
   "cell_type": "code",
   "execution_count": 114,
   "id": "53903c14",
   "metadata": {
    "colab": {
     "base_uri": "https://localhost:8080/"
    },
    "executionInfo": {
     "elapsed": 1809,
     "status": "ok",
     "timestamp": 1680774423898,
     "user": {
      "displayName": "Anthony So",
      "userId": "05258592867336372279"
     },
     "user_tz": -600
    },
    "id": "7oTLKUUXu64h",
    "outputId": "61aa0c92-0f71-4882-c79a-263c24222826"
   },
   "outputs": [
    {
     "name": "stdout",
     "output_type": "stream",
     "text": [
      "0.9999405151388971\n",
      "0.9924336156847816\n"
     ]
    }
   ],
   "source": [
    "rf2 = RandomForestClassifier(random_state=8, n_estimators=50).fit(X_train, y_train)\n",
    "print(rf2.score(X_train, y_train))\n",
    "print(rf2.score(X_val, y_val))"
   ]
  },
  {
   "cell_type": "markdown",
   "id": "63f421c2",
   "metadata": {
    "id": "9XEL8qQUtmtx"
   },
   "source": [
    "**[6.2]** Train a RandomForestClassifier model with n_estimators=200 and print the accuracy score for the training and validation sets"
   ]
  },
  {
   "cell_type": "code",
   "execution_count": 116,
   "id": "30199f62",
   "metadata": {
    "colab": {
     "base_uri": "https://localhost:8080/"
    },
    "executionInfo": {
     "elapsed": 4653,
     "status": "ok",
     "timestamp": 1680774429007,
     "user": {
      "displayName": "Anthony So",
      "userId": "05258592867336372279"
     },
     "user_tz": -600
    },
    "id": "6bCZ8FqRvGhd",
    "outputId": "4caa6f18-05cf-4244-9137-ebdd89257987"
   },
   "outputs": [
    {
     "name": "stdout",
     "output_type": "stream",
     "text": [
      "0.9999881030277794\n",
      "0.9923860283620444\n"
     ]
    }
   ],
   "source": [
    "rf2 = RandomForestClassifier(random_state=8, n_estimators=200).fit(X_train, y_train)\n",
    "print(rf2.score(X_train, y_train))\n",
    "print(rf2.score(X_val, y_val))"
   ]
  },
  {
   "cell_type": "markdown",
   "id": "c496bc78",
   "metadata": {
    "id": "ltCbX5h23na0"
   },
   "source": [
    "## 7. Reduce Overfitting with max_depth"
   ]
  },
  {
   "cell_type": "markdown",
   "id": "be1b7fa8",
   "metadata": {
    "id": "xosIG2j5wyJ8"
   },
   "source": [
    "**[7.1]** Print the average \"**max_depth**\" for rf2:"
   ]
  },
  {
   "cell_type": "code",
   "execution_count": 117,
   "id": "f8f794a2",
   "metadata": {
    "colab": {
     "base_uri": "https://localhost:8080/"
    },
    "executionInfo": {
     "elapsed": 359,
     "status": "ok",
     "timestamp": 1680774550719,
     "user": {
      "displayName": "Anthony So",
      "userId": "05258592867336372279"
     },
     "user_tz": -600
    },
    "id": "9bxGTugawzak",
    "outputId": "842e2f35-9dd0-4b31-ef16-2d45abb3d0a5"
   },
   "outputs": [
    {
     "data": {
      "text/plain": [
       "28.41"
      ]
     },
     "execution_count": 117,
     "metadata": {},
     "output_type": "execute_result"
    }
   ],
   "source": [
    "np.mean([estimator.tree_.max_depth for estimator in rf2.estimators_])"
   ]
  },
  {
   "cell_type": "markdown",
   "id": "65939bfd",
   "metadata": {
    "id": "buSIj9bzwk1s"
   },
   "source": [
    "**[7.2]** Train a RandomForestClassifier model with n_estimators=50, max_depth=10 and print the accuracy score for the training and validation sets"
   ]
  },
  {
   "cell_type": "code",
   "execution_count": 119,
   "id": "4615e048",
   "metadata": {
    "colab": {
     "base_uri": "https://localhost:8080/"
    },
    "executionInfo": {
     "elapsed": 2302,
     "status": "ok",
     "timestamp": 1680774559971,
     "user": {
      "displayName": "Anthony So",
      "userId": "05258592867336372279"
     },
     "user_tz": -600
    },
    "id": "KDgcVwmczjln",
    "outputId": "51f1250f-1ff5-4d7e-f27a-ff85999befd9"
   },
   "outputs": [
    {
     "name": "stdout",
     "output_type": "stream",
     "text": [
      "0.9891618583070608\n",
      "0.9877700580565337\n"
     ]
    }
   ],
   "source": [
    "rf3 = RandomForestClassifier(random_state=8, n_estimators=50, max_depth=10).fit(X_train, y_train)\n",
    "print(rf3.score(X_train, y_train))\n",
    "print(rf3.score(X_val, y_val))"
   ]
  },
  {
   "cell_type": "markdown",
   "id": "f1352f54",
   "metadata": {
    "id": "EnYyZ3Ap5UUr"
   },
   "source": [
    "**[7.3]** Train a RandomForestClassifier model with n_estimators=50, max_depth=20 and print the accuracy score for the training and validation sets"
   ]
  },
  {
   "cell_type": "code",
   "execution_count": 121,
   "id": "67e15c51",
   "metadata": {
    "colab": {
     "base_uri": "https://localhost:8080/"
    },
    "executionInfo": {
     "elapsed": 3293,
     "status": "ok",
     "timestamp": 1680774566760,
     "user": {
      "displayName": "Anthony So",
      "userId": "05258592867336372279"
     },
     "user_tz": -600
    },
    "id": "Pk3GptWZzqlG",
    "outputId": "22637d11-06c8-45d6-ce22-387c16aca3af"
   },
   "outputs": [
    {
     "name": "stdout",
     "output_type": "stream",
     "text": [
      "0.9992504907501041\n",
      "0.9926715522984677\n"
     ]
    }
   ],
   "source": [
    "rf4 = RandomForestClassifier(random_state=8, n_estimators=50, max_depth=20).fit(X_train, y_train)\n",
    "print(rf4.score(X_train, y_train))\n",
    "print(rf4.score(X_val, y_val))"
   ]
  },
  {
   "cell_type": "markdown",
   "id": "f601d67e",
   "metadata": {
    "id": "Qbx6zBna5XEC"
   },
   "source": [
    "**[7.4]** xTrain a RandomForestClassifier model with n_estimators=50, max_depth=15 and print the accuracy score for the training and validation sets"
   ]
  },
  {
   "cell_type": "code",
   "execution_count": 123,
   "id": "197e0629",
   "metadata": {
    "colab": {
     "base_uri": "https://localhost:8080/"
    },
    "executionInfo": {
     "elapsed": 2158,
     "status": "ok",
     "timestamp": 1680774597448,
     "user": {
      "displayName": "Anthony So",
      "userId": "05258592867336372279"
     },
     "user_tz": -600
    },
    "id": "j5I6zqN0zwYj",
    "outputId": "a9eb1f07-d923-4536-82e3-0128bc375b2d"
   },
   "outputs": [
    {
     "name": "stdout",
     "output_type": "stream",
     "text": [
      "0.9965498780560348\n",
      "0.991672218520986\n"
     ]
    }
   ],
   "source": [
    "rf5 = RandomForestClassifier(random_state=8, n_estimators=50, max_depth=15).fit(X_train, y_train)\n",
    "print(rf5.score(X_train, y_train))\n",
    "print(rf5.score(X_val, y_val))"
   ]
  },
  {
   "cell_type": "markdown",
   "id": "f5bdd37e",
   "metadata": {
    "id": "i86Yydg73rik"
   },
   "source": [
    "## 8.   Reduce Overfitting with min_samples_leaf"
   ]
  },
  {
   "cell_type": "markdown",
   "id": "ce0e9af2",
   "metadata": {
    "id": "wYgZ_1YIEV0N"
   },
   "source": [
    "**[8.1]** Train a RandomForestClassifier model with n_estimators=50, max_depth=15, min_samples_leaf=2 and print the accuracy score for the training and validation sets"
   ]
  },
  {
   "cell_type": "code",
   "execution_count": 125,
   "id": "650188e9",
   "metadata": {
    "colab": {
     "base_uri": "https://localhost:8080/"
    },
    "executionInfo": {
     "elapsed": 444,
     "status": "ok",
     "timestamp": 1680774648494,
     "user": {
      "displayName": "Anthony So",
      "userId": "05258592867336372279"
     },
     "user_tz": -600
    },
    "id": "t8LJFfTT0Cee",
    "outputId": "85905562-9937-4e07-a65d-a6cf4f8ccd4f"
   },
   "outputs": [
    {
     "name": "stdout",
     "output_type": "stream",
     "text": [
      "0.9946820534174052\n",
      "0.9912915199390883\n"
     ]
    }
   ],
   "source": [
    "rf6 = RandomForestClassifier(random_state=8, n_estimators=50, max_depth=15, min_samples_leaf=2).fit(X_train, y_train)\n",
    "print(rf6.score(X_train, y_train))\n",
    "print(rf6.score(X_val, y_val))"
   ]
  },
  {
   "cell_type": "markdown",
   "id": "fc3a2c4a",
   "metadata": {
    "id": "UsntSK476gT6"
   },
   "source": [
    "**[8.2]** Train a RandomForestClassifier model with n_estimators=50, max_depth=15, min_samples_leaf=10 and print the accuracy score for the training and validation sets"
   ]
  },
  {
   "cell_type": "code",
   "execution_count": 127,
   "id": "0fa44078",
   "metadata": {
    "colab": {
     "base_uri": "https://localhost:8080/"
    },
    "executionInfo": {
     "elapsed": 2103,
     "status": "ok",
     "timestamp": 1680774655392,
     "user": {
      "displayName": "Anthony So",
      "userId": "05258592867336372279"
     },
     "user_tz": -600
    },
    "id": "Xgwbefwk0Phe",
    "outputId": "48609810-9882-443a-835c-8d24cc28486c"
   },
   "outputs": [
    {
     "name": "stdout",
     "output_type": "stream",
     "text": [
      "0.9891142704181786\n",
      "0.9884838678975921\n"
     ]
    }
   ],
   "source": [
    "rf7 = RandomForestClassifier(random_state=8, n_estimators=50, max_depth=15, min_samples_leaf=10).fit(X_train, y_train)\n",
    "print(rf7.score(X_train, y_train))\n",
    "print(rf7.score(X_val, y_val))"
   ]
  },
  {
   "cell_type": "markdown",
   "id": "b0000542",
   "metadata": {
    "id": "2xHa9RkB6iX3"
   },
   "source": [
    "**[8.3]** Train a RandomForestClassifier model with n_estimators=50, max_depth=15, min_samples_leaf=5 and print the accuracy score for the training and validation sets"
   ]
  },
  {
   "cell_type": "code",
   "execution_count": 129,
   "id": "7cefa4d9",
   "metadata": {
    "colab": {
     "base_uri": "https://localhost:8080/"
    },
    "executionInfo": {
     "elapsed": 2312,
     "status": "ok",
     "timestamp": 1680774666986,
     "user": {
      "displayName": "Anthony So",
      "userId": "05258592867336372279"
     },
     "user_tz": -600
    },
    "id": "yLb0cOuH0XpZ",
    "outputId": "83e9d23e-cec5-4347-c5ed-c81bd7dbce6f"
   },
   "outputs": [
    {
     "name": "stdout",
     "output_type": "stream",
     "text": [
      "0.9918981619177919\n",
      "0.9907680593889788\n"
     ]
    }
   ],
   "source": [
    "rf8 = RandomForestClassifier(random_state=8, n_estimators=50, max_depth=15, min_samples_leaf=5).fit(X_train, y_train)\n",
    "print(rf8.score(X_train, y_train))\n",
    "print(rf8.score(X_val, y_val))"
   ]
  },
  {
   "cell_type": "markdown",
   "id": "dd7b3ea6",
   "metadata": {
    "id": "w1CsDlvx3uhU"
   },
   "source": [
    "## 9.   Reduce Overfitting with max_features"
   ]
  },
  {
   "cell_type": "markdown",
   "id": "26a7a22c",
   "metadata": {
    "id": "wa68L9zlGhpN"
   },
   "source": [
    "**[9.1]** Train a RandomForestClassifier model with n_estimators=50, max_depth=15, min_samples_leaf=2, max_features=2 and print the accuracy score for the training and validation sets"
   ]
  },
  {
   "cell_type": "code",
   "execution_count": 131,
   "id": "5d4df921",
   "metadata": {
    "colab": {
     "base_uri": "https://localhost:8080/"
    },
    "executionInfo": {
     "elapsed": 1731,
     "status": "ok",
     "timestamp": 1680774718536,
     "user": {
      "displayName": "Anthony So",
      "userId": "05258592867336372279"
     },
     "user_tz": -600
    },
    "id": "uA4Gpiql0jSf",
    "outputId": "9a63a143-1cc0-4be2-d0dc-88b3ef01e4bf"
   },
   "outputs": [
    {
     "name": "stdout",
     "output_type": "stream",
     "text": [
      "0.9861043364463744\n",
      "0.9834871990101837\n"
     ]
    }
   ],
   "source": [
    "rf9 = RandomForestClassifier(random_state=8, n_estimators=50, max_depth=15, min_samples_leaf=2, max_features=2).fit(X_train, y_train)\n",
    "print(rf9.score(X_train, y_train))\n",
    "print(rf9.score(X_val, y_val))"
   ]
  },
  {
   "cell_type": "markdown",
   "id": "96183618",
   "metadata": {
    "id": "_4BquVUS7lau"
   },
   "source": [
    "**[9.2]** Train a RandomForestClassifier model with n_estimators=50, max_depth=15, min_samples_leaf=2, max_features=5 and print the accuracy score for the training and validation sets"
   ]
  },
  {
   "cell_type": "code",
   "execution_count": 133,
   "id": "67fd4fb1",
   "metadata": {
    "colab": {
     "base_uri": "https://localhost:8080/"
    },
    "executionInfo": {
     "elapsed": 1,
     "status": "ok",
     "timestamp": 1680774721351,
     "user": {
      "displayName": "Anthony So",
      "userId": "05258592867336372279"
     },
     "user_tz": -600
    },
    "id": "6QRStqBV0xa1",
    "outputId": "df11a50b-4e01-43f6-ce0d-3ef56cf38771"
   },
   "outputs": [
    {
     "name": "stdout",
     "output_type": "stream",
     "text": [
      "0.9946820534174052\n",
      "0.9912915199390883\n"
     ]
    }
   ],
   "source": [
    "rf10 = RandomForestClassifier(random_state=8, n_estimators=50, max_depth=15, min_samples_leaf=2, max_features=5).fit(X_train, y_train)\n",
    "print(rf10.score(X_train, y_train))\n",
    "print(rf10.score(X_val, y_val))"
   ]
  },
  {
   "cell_type": "markdown",
   "id": "607bad4e",
   "metadata": {
    "id": "KuUNTP6s7qrq"
   },
   "source": [
    "**[9.3]** Train a RandomForestClassifier model with n_estimators=50, max_depth=15, min_samples_leaf=2, max_features=None and print the accuracy score for the training and validation sets"
   ]
  },
  {
   "cell_type": "code",
   "execution_count": 135,
   "id": "07b63c6e",
   "metadata": {
    "colab": {
     "base_uri": "https://localhost:8080/"
    },
    "executionInfo": {
     "elapsed": 2808,
     "status": "ok",
     "timestamp": 1680774740076,
     "user": {
      "displayName": "Anthony So",
      "userId": "05258592867336372279"
     },
     "user_tz": -600
    },
    "id": "DcX1Xyjf041A",
    "outputId": "102757aa-f341-4fc0-c518-ce10aaa8ab2e"
   },
   "outputs": [
    {
     "name": "stdout",
     "output_type": "stream",
     "text": [
      "0.9971804175837249\n",
      "0.9930998382031027\n"
     ]
    }
   ],
   "source": [
    "rf11 = RandomForestClassifier(random_state=8, n_estimators=50, max_depth=15, min_samples_leaf=2, max_features=None).fit(X_train, y_train)\n",
    "print(rf11.score(X_train, y_train))\n",
    "print(rf11.score(X_val, y_val))"
   ]
  },
  {
   "cell_type": "markdown",
   "id": "aa2b029d",
   "metadata": {
    "id": "fLncUA9_8UpL"
   },
   "source": [
    "**[9.4]** Print the accuracy score of the best model on the testing set"
   ]
  },
  {
   "cell_type": "code",
   "execution_count": 137,
   "id": "a1056fa3",
   "metadata": {
    "colab": {
     "base_uri": "https://localhost:8080/"
    },
    "executionInfo": {
     "elapsed": 6,
     "status": "ok",
     "timestamp": 1680774767306,
     "user": {
      "displayName": "Anthony So",
      "userId": "05258592867336372279"
     },
     "user_tz": -600
    },
    "id": "VhZBZdtI1Fsn",
    "outputId": "7caf670b-545c-4fdf-9f41-6a6aaa3f21d0"
   },
   "outputs": [
    {
     "name": "stdout",
     "output_type": "stream",
     "text": [
      "0.9878559463986599\n"
     ]
    }
   ],
   "source": [
    "print(rf7.score(X_test, y_test))"
   ]
  },
  {
   "cell_type": "markdown",
   "id": "12f032d0",
   "metadata": {
    "id": "YvDT3-Ae8Zpq"
   },
   "source": [
    "**[9.5]** Import confusion_matrix, ConfusionMatrixDisplay from sklearn.metrics and matplotlib"
   ]
  },
  {
   "cell_type": "code",
   "execution_count": 139,
   "id": "b34c8c8f",
   "metadata": {
    "id": "oATZiMax1dM0"
   },
   "outputs": [],
   "source": [
    "from sklearn.metrics import confusion_matrix, ConfusionMatrixDisplay\n",
    "import matplotlib.pyplot as plt"
   ]
  },
  {
   "cell_type": "markdown",
   "id": "065762bd",
   "metadata": {
    "id": "RudWEXbS8abT"
   },
   "source": [
    "**[9.6]** Task: Plot the confusion matrics for the training, validation and testing sets"
   ]
  },
  {
   "cell_type": "code",
   "execution_count": 141,
   "id": "b7b023bf",
   "metadata": {
    "colab": {
     "base_uri": "https://localhost:8080/",
     "height": 1000
    },
    "executionInfo": {
     "elapsed": 1502,
     "status": "ok",
     "timestamp": 1680774780749,
     "user": {
      "displayName": "Anthony So",
      "userId": "05258592867336372279"
     },
     "user_tz": -600
    },
    "id": "ou337wGx1gNU",
    "outputId": "2ae988e0-9398-4892-c3c7-f8f03638483f"
   },
   "outputs": [
    {
     "data": {
      "text/plain": [
       "<sklearn.metrics._plot.confusion_matrix.ConfusionMatrixDisplay at 0x1a052c9daf0>"
      ]
     },
     "execution_count": 141,
     "metadata": {},
     "output_type": "execute_result"
    },
    {
     "data": {
      "image/png": "[encoded data removed]",
      "text/plain": [
       "<Figure size 640x480 with 2 Axes>"
      ]
     },
     "metadata": {},
     "output_type": "display_data"
    },
    {
     "data": {
      "image/png": "[encoded data removed]",
      "text/plain": [
       "<Figure size 640x480 with 2 Axes>"
      ]
     },
     "metadata": {},
     "output_type": "display_data"
    },
    {
     "data": {
      "image/png": "[encoded data removed]",
      "text/plain": [
       "<Figure size 640x480 with 2 Axes>"
      ]
     },
     "metadata": {},
     "output_type": "display_data"
    }
   ],
   "source": [
    "ConfusionMatrixDisplay.from_estimator(rf7, X_train, y_train, normalize='true')\n",
    "ConfusionMatrixDisplay.from_estimator(rf7, X_val, y_val, normalize='true')\n",
    "ConfusionMatrixDisplay.from_estimator(rf7, X_test, y_test, normalize='true')"
   ]
  },
  {
   "cell_type": "markdown",
   "id": "b95ff0a2",
   "metadata": {
    "id": "ZvrMlsNs1Uxo"
   },
   "source": [
    "## 10.  Features Importance\n"
   ]
  },
  {
   "cell_type": "markdown",
   "id": "49d626c9",
   "metadata": {
    "id": "lYRMKSYoLPcK"
   },
   "source": [
    "**[10.1]** Task: Print the features importance of rf7"
   ]
  },
  {
   "cell_type": "code",
   "execution_count": 143,
   "id": "136dbbb2",
   "metadata": {
    "colab": {
     "base_uri": "https://localhost:8080/"
    },
    "executionInfo": {
     "elapsed": 359,
     "status": "ok",
     "timestamp": 1680775024555,
     "user": {
      "displayName": "Anthony So",
      "userId": "05258592867336372279"
     },
     "user_tz": -600
    },
    "id": "fWkKR_N-1VHO",
    "outputId": "fbf7f0f1-abee-48f8-dbcc-934ae409f3d3"
   },
   "outputs": [
    {
     "data": {
      "text/plain": [
       "array([3.84242206e-03, 9.92622082e-02, 7.99043347e-02, 4.33478561e-02,\n",
       "       6.23844040e-02, 3.30327677e-02, 5.04235779e-02, 9.60568483e-02,\n",
       "       1.59515628e-01, 1.58172530e-01, 6.68364439e-02, 1.33751776e-01,\n",
       "       1.77189108e-03, 1.16867745e-03, 1.64156766e-03, 9.83061469e-06,\n",
       "       2.04734596e-04, 3.98699619e-06, 4.30229603e-11, 0.00000000e+00,\n",
       "       3.38773941e-05, 3.67364196e-05, 0.00000000e+00, 2.14481984e-03,\n",
       "       2.06669690e-03, 1.07454987e-03, 1.18123824e-03, 6.68042062e-05,\n",
       "       6.44592443e-04, 1.38485663e-03, 3.43428094e-05])"
      ]
     },
     "execution_count": 143,
     "metadata": {},
     "output_type": "execute_result"
    }
   ],
   "source": [
    "rf7.feature_importances_"
   ]
  },
  {
   "cell_type": "markdown",
   "id": "0b4872f0",
   "metadata": {
    "id": "AvMKizNaLnxw"
   },
   "source": [
    "**[10.2]** Create a Dataframe with these values"
   ]
  },
  {
   "cell_type": "code",
   "execution_count": 144,
   "id": "9c8a21d9",
   "metadata": {
    "id": "Z-I5vxwU1vDG"
   },
   "outputs": [],
   "source": [
    "feat_imp_rf_df = pd.DataFrame(\n",
    "    {\n",
    "        'feature': X_train.columns,\n",
    "     'feature_importance': rf7.feature_importances_\n",
    "     }\n",
    ")"
   ]
  },
  {
   "cell_type": "code",
   "execution_count": 145,
   "id": "c2b0c69b",
   "metadata": {
    "colab": {
     "base_uri": "https://localhost:8080/",
     "height": 1000
    },
    "executionInfo": {
     "elapsed": 3,
     "status": "ok",
     "timestamp": 1680775109229,
     "user": {
      "displayName": "Anthony So",
      "userId": "05258592867336372279"
     },
     "user_tz": -600
    },
    "id": "NtfIZXEwAK7I",
    "outputId": "350cd74c-e8f5-4ae3-b2dd-f3179d792b47"
   },
   "outputs": [
    {
     "data": {
      "text/html": [
       "<div>\n",
       "<style scoped>\n",
       "    .dataframe tbody tr th:only-of-type {\n",
       "        vertical-align: middle;\n",
       "    }\n",
       "\n",
       "    .dataframe tbody tr th {\n",
       "        vertical-align: top;\n",
       "    }\n",
       "\n",
       "    .dataframe thead th {\n",
       "        text-align: right;\n",
       "    }\n",
       "</style>\n",
       "<table border=\"1\" class=\"dataframe\">\n",
       "  <thead>\n",
       "    <tr style=\"text-align: right;\">\n",
       "      <th></th>\n",
       "      <th>feature</th>\n",
       "      <th>feature_importance</th>\n",
       "    </tr>\n",
       "  </thead>\n",
       "  <tbody>\n",
       "    <tr>\n",
       "      <th>0</th>\n",
       "      <td>car_segment</td>\n",
       "      <td>3.842422e-03</td>\n",
       "    </tr>\n",
       "    <tr>\n",
       "      <th>1</th>\n",
       "      <td>age_of_vehicle_years</td>\n",
       "      <td>9.926221e-02</td>\n",
       "    </tr>\n",
       "    <tr>\n",
       "      <th>2</th>\n",
       "      <td>sched_serv_warr</td>\n",
       "      <td>7.990433e-02</td>\n",
       "    </tr>\n",
       "    <tr>\n",
       "      <th>3</th>\n",
       "      <td>non_sched_serv_warr</td>\n",
       "      <td>4.334786e-02</td>\n",
       "    </tr>\n",
       "    <tr>\n",
       "      <th>4</th>\n",
       "      <td>sched_serv_paid</td>\n",
       "      <td>6.238440e-02</td>\n",
       "    </tr>\n",
       "    <tr>\n",
       "      <th>5</th>\n",
       "      <td>non_sched_serv_paid</td>\n",
       "      <td>3.303277e-02</td>\n",
       "    </tr>\n",
       "    <tr>\n",
       "      <th>6</th>\n",
       "      <td>total_paid_services</td>\n",
       "      <td>5.042358e-02</td>\n",
       "    </tr>\n",
       "    <tr>\n",
       "      <th>7</th>\n",
       "      <td>total_services</td>\n",
       "      <td>9.605685e-02</td>\n",
       "    </tr>\n",
       "    <tr>\n",
       "      <th>8</th>\n",
       "      <td>mth_since_last_serv</td>\n",
       "      <td>1.595156e-01</td>\n",
       "    </tr>\n",
       "    <tr>\n",
       "      <th>9</th>\n",
       "      <td>annualised_mileage</td>\n",
       "      <td>1.581725e-01</td>\n",
       "    </tr>\n",
       "    <tr>\n",
       "      <th>10</th>\n",
       "      <td>num_dealers_visited</td>\n",
       "      <td>6.683644e-02</td>\n",
       "    </tr>\n",
       "    <tr>\n",
       "      <th>11</th>\n",
       "      <td>num_serv_dealer_purchased</td>\n",
       "      <td>1.337518e-01</td>\n",
       "    </tr>\n",
       "    <tr>\n",
       "      <th>12</th>\n",
       "      <td>model_1</td>\n",
       "      <td>1.771891e-03</td>\n",
       "    </tr>\n",
       "    <tr>\n",
       "      <th>13</th>\n",
       "      <td>model_10</td>\n",
       "      <td>1.168677e-03</td>\n",
       "    </tr>\n",
       "    <tr>\n",
       "      <th>14</th>\n",
       "      <td>model_11</td>\n",
       "      <td>1.641568e-03</td>\n",
       "    </tr>\n",
       "    <tr>\n",
       "      <th>15</th>\n",
       "      <td>model_12</td>\n",
       "      <td>9.830615e-06</td>\n",
       "    </tr>\n",
       "    <tr>\n",
       "      <th>16</th>\n",
       "      <td>model_13</td>\n",
       "      <td>2.047346e-04</td>\n",
       "    </tr>\n",
       "    <tr>\n",
       "      <th>17</th>\n",
       "      <td>model_14</td>\n",
       "      <td>3.986996e-06</td>\n",
       "    </tr>\n",
       "    <tr>\n",
       "      <th>18</th>\n",
       "      <td>model_15</td>\n",
       "      <td>4.302296e-11</td>\n",
       "    </tr>\n",
       "    <tr>\n",
       "      <th>19</th>\n",
       "      <td>model_16</td>\n",
       "      <td>0.000000e+00</td>\n",
       "    </tr>\n",
       "    <tr>\n",
       "      <th>20</th>\n",
       "      <td>model_17</td>\n",
       "      <td>3.387739e-05</td>\n",
       "    </tr>\n",
       "    <tr>\n",
       "      <th>21</th>\n",
       "      <td>model_18</td>\n",
       "      <td>3.673642e-05</td>\n",
       "    </tr>\n",
       "    <tr>\n",
       "      <th>22</th>\n",
       "      <td>model_19</td>\n",
       "      <td>0.000000e+00</td>\n",
       "    </tr>\n",
       "    <tr>\n",
       "      <th>23</th>\n",
       "      <td>model_2</td>\n",
       "      <td>2.144820e-03</td>\n",
       "    </tr>\n",
       "    <tr>\n",
       "      <th>24</th>\n",
       "      <td>model_3</td>\n",
       "      <td>2.066697e-03</td>\n",
       "    </tr>\n",
       "    <tr>\n",
       "      <th>25</th>\n",
       "      <td>model_4</td>\n",
       "      <td>1.074550e-03</td>\n",
       "    </tr>\n",
       "    <tr>\n",
       "      <th>26</th>\n",
       "      <td>model_5</td>\n",
       "      <td>1.181238e-03</td>\n",
       "    </tr>\n",
       "    <tr>\n",
       "      <th>27</th>\n",
       "      <td>model_6</td>\n",
       "      <td>6.680421e-05</td>\n",
       "    </tr>\n",
       "    <tr>\n",
       "      <th>28</th>\n",
       "      <td>model_7</td>\n",
       "      <td>6.445924e-04</td>\n",
       "    </tr>\n",
       "    <tr>\n",
       "      <th>29</th>\n",
       "      <td>model_8</td>\n",
       "      <td>1.384857e-03</td>\n",
       "    </tr>\n",
       "    <tr>\n",
       "      <th>30</th>\n",
       "      <td>model_9</td>\n",
       "      <td>3.434281e-05</td>\n",
       "    </tr>\n",
       "  </tbody>\n",
       "</table>\n",
       "</div>"
      ],
      "text/plain": [
       "                      feature  feature_importance\n",
       "0                 car_segment        3.842422e-03\n",
       "1        age_of_vehicle_years        9.926221e-02\n",
       "2             sched_serv_warr        7.990433e-02\n",
       "3         non_sched_serv_warr        4.334786e-02\n",
       "4             sched_serv_paid        6.238440e-02\n",
       "5         non_sched_serv_paid        3.303277e-02\n",
       "6         total_paid_services        5.042358e-02\n",
       "7              total_services        9.605685e-02\n",
       "8         mth_since_last_serv        1.595156e-01\n",
       "9          annualised_mileage        1.581725e-01\n",
       "10        num_dealers_visited        6.683644e-02\n",
       "11  num_serv_dealer_purchased        1.337518e-01\n",
       "12                    model_1        1.771891e-03\n",
       "13                   model_10        1.168677e-03\n",
       "14                   model_11        1.641568e-03\n",
       "15                   model_12        9.830615e-06\n",
       "16                   model_13        2.047346e-04\n",
       "17                   model_14        3.986996e-06\n",
       "18                   model_15        4.302296e-11\n",
       "19                   model_16        0.000000e+00\n",
       "20                   model_17        3.387739e-05\n",
       "21                   model_18        3.673642e-05\n",
       "22                   model_19        0.000000e+00\n",
       "23                    model_2        2.144820e-03\n",
       "24                    model_3        2.066697e-03\n",
       "25                    model_4        1.074550e-03\n",
       "26                    model_5        1.181238e-03\n",
       "27                    model_6        6.680421e-05\n",
       "28                    model_7        6.445924e-04\n",
       "29                    model_8        1.384857e-03\n",
       "30                    model_9        3.434281e-05"
      ]
     },
     "execution_count": 145,
     "metadata": {},
     "output_type": "execute_result"
    }
   ],
   "source": [
    "feat_imp_rf_df"
   ]
  },
  {
   "cell_type": "markdown",
   "id": "be064201",
   "metadata": {
    "id": "Q4VaYw7BLw4F"
   },
   "source": [
    "**[10.3]** Sort the previous dataframe and reset its index"
   ]
  },
  {
   "cell_type": "code",
   "execution_count": 147,
   "id": "a913efaf",
   "metadata": {
    "id": "gDhe2AHO1-oT"
   },
   "outputs": [],
   "source": [
    "feat_imp_rf_df = feat_imp_rf_df.sort_values('feature_importance', ascending=False).reset_index(drop=True)"
   ]
  },
  {
   "cell_type": "markdown",
   "id": "f7cc977d",
   "metadata": {
    "id": "HTVyLLFeL8ky"
   },
   "source": [
    "**[10.4]** Display the first 10 rows of this dataframe "
   ]
  },
  {
   "cell_type": "code",
   "execution_count": 149,
   "id": "8a707b23",
   "metadata": {
    "colab": {
     "base_uri": "https://localhost:8080/",
     "height": 363
    },
    "executionInfo": {
     "elapsed": 3,
     "status": "ok",
     "timestamp": 1680775130250,
     "user": {
      "displayName": "Anthony So",
      "userId": "05258592867336372279"
     },
     "user_tz": -600
    },
    "id": "ln-KjTJe1wVa",
    "outputId": "4a862f59-c6ae-491e-9619-ec45be6ac25d"
   },
   "outputs": [
    {
     "data": {
      "text/html": [
       "<div>\n",
       "<style scoped>\n",
       "    .dataframe tbody tr th:only-of-type {\n",
       "        vertical-align: middle;\n",
       "    }\n",
       "\n",
       "    .dataframe tbody tr th {\n",
       "        vertical-align: top;\n",
       "    }\n",
       "\n",
       "    .dataframe thead th {\n",
       "        text-align: right;\n",
       "    }\n",
       "</style>\n",
       "<table border=\"1\" class=\"dataframe\">\n",
       "  <thead>\n",
       "    <tr style=\"text-align: right;\">\n",
       "      <th></th>\n",
       "      <th>feature</th>\n",
       "      <th>feature_importance</th>\n",
       "    </tr>\n",
       "  </thead>\n",
       "  <tbody>\n",
       "    <tr>\n",
       "      <th>0</th>\n",
       "      <td>mth_since_last_serv</td>\n",
       "      <td>0.159516</td>\n",
       "    </tr>\n",
       "    <tr>\n",
       "      <th>1</th>\n",
       "      <td>annualised_mileage</td>\n",
       "      <td>0.158173</td>\n",
       "    </tr>\n",
       "    <tr>\n",
       "      <th>2</th>\n",
       "      <td>num_serv_dealer_purchased</td>\n",
       "      <td>0.133752</td>\n",
       "    </tr>\n",
       "    <tr>\n",
       "      <th>3</th>\n",
       "      <td>age_of_vehicle_years</td>\n",
       "      <td>0.099262</td>\n",
       "    </tr>\n",
       "    <tr>\n",
       "      <th>4</th>\n",
       "      <td>total_services</td>\n",
       "      <td>0.096057</td>\n",
       "    </tr>\n",
       "    <tr>\n",
       "      <th>5</th>\n",
       "      <td>sched_serv_warr</td>\n",
       "      <td>0.079904</td>\n",
       "    </tr>\n",
       "    <tr>\n",
       "      <th>6</th>\n",
       "      <td>num_dealers_visited</td>\n",
       "      <td>0.066836</td>\n",
       "    </tr>\n",
       "    <tr>\n",
       "      <th>7</th>\n",
       "      <td>sched_serv_paid</td>\n",
       "      <td>0.062384</td>\n",
       "    </tr>\n",
       "    <tr>\n",
       "      <th>8</th>\n",
       "      <td>total_paid_services</td>\n",
       "      <td>0.050424</td>\n",
       "    </tr>\n",
       "    <tr>\n",
       "      <th>9</th>\n",
       "      <td>non_sched_serv_warr</td>\n",
       "      <td>0.043348</td>\n",
       "    </tr>\n",
       "  </tbody>\n",
       "</table>\n",
       "</div>"
      ],
      "text/plain": [
       "                     feature  feature_importance\n",
       "0        mth_since_last_serv            0.159516\n",
       "1         annualised_mileage            0.158173\n",
       "2  num_serv_dealer_purchased            0.133752\n",
       "3       age_of_vehicle_years            0.099262\n",
       "4             total_services            0.096057\n",
       "5            sched_serv_warr            0.079904\n",
       "6        num_dealers_visited            0.066836\n",
       "7            sched_serv_paid            0.062384\n",
       "8        total_paid_services            0.050424\n",
       "9        non_sched_serv_warr            0.043348"
      ]
     },
     "execution_count": 149,
     "metadata": {},
     "output_type": "execute_result"
    }
   ],
   "source": [
    "feat_imp_rf_df.head(10)"
   ]
  },
  {
   "cell_type": "markdown",
   "id": "93e073a3",
   "metadata": {
    "id": "sb3lVIlTMbaf"
   },
   "source": [
    "**[10.5]** We can visualise this information on a graph"
   ]
  },
  {
   "cell_type": "code",
   "execution_count": 150,
   "id": "04c2f6ee",
   "metadata": {
    "colab": {
     "base_uri": "https://localhost:8080/",
     "height": 843
    },
    "executionInfo": {
     "elapsed": 539,
     "status": "ok",
     "timestamp": 1680775149137,
     "user": {
      "displayName": "Anthony So",
      "userId": "05258592867336372279"
     },
     "user_tz": -600
    },
    "id": "ratUjb9g2YXk",
    "outputId": "0e1311bf-acdf-4a6a-a253-0811f4ba55ff"
   },
   "outputs": [
    {
     "data": {
      "text/html": [
       "\n",
       "<div id=\"altair-viz-3c7c00db4ae2495b88893c01302131eb\"></div>\n",
       "<script type=\"text/javascript\">\n",
       "  var VEGA_DEBUG = (typeof VEGA_DEBUG == \"undefined\") ? {} : VEGA_DEBUG;\n",
       "  (function(spec, embedOpt){\n",
       "    let outputDiv = document.currentScript.previousElementSibling;\n",
       "    if (outputDiv.id !== \"altair-viz-3c7c00db4ae2495b88893c01302131eb\") {\n",
       "      outputDiv = document.getElementById(\"altair-viz-3c7c00db4ae2495b88893c01302131eb\");\n",
       "    }\n",
       "    const paths = {\n",
       "      \"vega\": \"https://cdn.jsdelivr.net/npm//vega@5?noext\",\n",
       "      \"vega-lib\": \"https://cdn.jsdelivr.net/npm//vega-lib?noext\",\n",
       "      \"vega-lite\": \"https://cdn.jsdelivr.net/npm//vega-lite@4.17.0?noext\",\n",
       "      \"vega-embed\": \"https://cdn.jsdelivr.net/npm//vega-embed@6?noext\",\n",
       "    };\n",
       "\n",
       "    function maybeLoadScript(lib, version) {\n",
       "      var key = `${lib.replace(\"-\", \"\")}_version`;\n",
       "      return (VEGA_DEBUG[key] == version) ?\n",
       "        Promise.resolve(paths[lib]) :\n",
       "        new Promise(function(resolve, reject) {\n",
       "          var s = document.createElement('script');\n",
       "          document.getElementsByTagName(\"head\")[0].appendChild(s);\n",
       "          s.async = true;\n",
       "          s.onload = () => {\n",
       "            VEGA_DEBUG[key] = version;\n",
       "            return resolve(paths[lib]);\n",
       "          };\n",
       "          s.onerror = () => reject(`Error loading script: ${paths[lib]}`);\n",
       "          s.src = paths[lib];\n",
       "        });\n",
       "    }\n",
       "\n",
       "    function showError(err) {\n",
       "      outputDiv.innerHTML = `<div class=\"error\" style=\"color:red;\">${err}</div>`;\n",
       "      throw err;\n",
       "    }\n",
       "\n",
       "    function displayChart(vegaEmbed) {\n",
       "      vegaEmbed(outputDiv, spec, embedOpt)\n",
       "        .catch(err => showError(`Javascript Error: ${err.message}<br>This usually means there's a typo in your chart specification. See the javascript console for the full traceback.`));\n",
       "    }\n",
       "\n",
       "    if(typeof define === \"function\" && define.amd) {\n",
       "      requirejs.config({paths});\n",
       "      require([\"vega-embed\"], displayChart, err => showError(`Error loading script: ${err.message}`));\n",
       "    } else {\n",
       "      maybeLoadScript(\"vega\", \"5\")\n",
       "        .then(() => maybeLoadScript(\"vega-lite\", \"4.17.0\"))\n",
       "        .then(() => maybeLoadScript(\"vega-embed\", \"6\"))\n",
       "        .catch(showError)\n",
       "        .then(() => displayChart(vegaEmbed));\n",
       "    }\n",
       "  })({\"config\": {\"view\": {\"continuousWidth\": 400, \"continuousHeight\": 300}}, \"data\": {\"name\": \"data-223517a7efa8092129c6b4c2b1c9fe55\"}, \"mark\": \"bar\", \"encoding\": {\"tooltip\": [{\"field\": \"feature\", \"type\": \"nominal\"}, {\"field\": \"feature_importance\", \"type\": \"quantitative\"}], \"x\": {\"field\": \"feature_importance\", \"type\": \"quantitative\"}, \"y\": {\"field\": \"feature\", \"sort\": \"-x\", \"type\": \"nominal\"}}, \"$schema\": \"https://vega.github.io/schema/vega-lite/v4.17.0.json\", \"datasets\": {\"data-223517a7efa8092129c6b4c2b1c9fe55\": [{\"feature\": \"mth_since_last_serv\", \"feature_importance\": 0.15951562778398412}, {\"feature\": \"annualised_mileage\", \"feature_importance\": 0.15817253022414723}, {\"feature\": \"num_serv_dealer_purchased\", \"feature_importance\": 0.13375177585962106}, {\"feature\": \"age_of_vehicle_years\", \"feature_importance\": 0.09926220824220335}, {\"feature\": \"total_services\", \"feature_importance\": 0.09605684828230913}, {\"feature\": \"sched_serv_warr\", \"feature_importance\": 0.07990433474698358}, {\"feature\": \"num_dealers_visited\", \"feature_importance\": 0.06683644393266841}, {\"feature\": \"sched_serv_paid\", \"feature_importance\": 0.06238440396896667}, {\"feature\": \"total_paid_services\", \"feature_importance\": 0.05042357786018761}, {\"feature\": \"non_sched_serv_warr\", \"feature_importance\": 0.04334785612566308}, {\"feature\": \"non_sched_serv_paid\", \"feature_importance\": 0.03303276772408375}, {\"feature\": \"car_segment\", \"feature_importance\": 0.0038424220620344443}, {\"feature\": \"model_2\", \"feature_importance\": 0.002144819835645579}, {\"feature\": \"model_3\", \"feature_importance\": 0.0020666968977810546}, {\"feature\": \"model_1\", \"feature_importance\": 0.0017718910751026208}, {\"feature\": \"model_11\", \"feature_importance\": 0.0016415676601473745}, {\"feature\": \"model_8\", \"feature_importance\": 0.0013848566289970385}, {\"feature\": \"model_5\", \"feature_importance\": 0.0011812382425719905}, {\"feature\": \"model_10\", \"feature_importance\": 0.0011686774521013636}, {\"feature\": \"model_4\", \"feature_importance\": 0.001074549873106083}, {\"feature\": \"model_7\", \"feature_importance\": 0.0006445924425446372}, {\"feature\": \"model_13\", \"feature_importance\": 0.00020473459602461604}, {\"feature\": \"model_6\", \"feature_importance\": 6.680420617430107e-05}, {\"feature\": \"model_18\", \"feature_importance\": 3.6736419570117204e-05}, {\"feature\": \"model_9\", \"feature_importance\": 3.4342809408439935e-05}, {\"feature\": \"model_17\", \"feature_importance\": 3.387739406984223e-05}, {\"feature\": \"model_12\", \"feature_importance\": 9.830614686262784e-06}, {\"feature\": \"model_14\", \"feature_importance\": 3.9869961931926045e-06}, {\"feature\": \"model_15\", \"feature_importance\": 4.302296029349128e-11}, {\"feature\": \"model_19\", \"feature_importance\": 0.0}, {\"feature\": \"model_16\", \"feature_importance\": 0.0}]}}, {\"mode\": \"vega-lite\"});\n",
       "</script>"
      ],
      "text/plain": [
       "alt.Chart(...)"
      ]
     },
     "execution_count": 150,
     "metadata": {},
     "output_type": "execute_result"
    }
   ],
   "source": [
    "import altair as alt\n",
    "\n",
    "alt.Chart(feat_imp_rf_df).mark_bar().encode(\n",
    "    x='feature_importance',\n",
    "    y=alt.Y(\"feature\", sort='-x'),\n",
    "    tooltip=['feature','feature_importance'])"
   ]
  }
 ],
 "metadata": {
  "kernelspec": {
   "display_name": "Python 3 (ipykernel)",
   "language": "python",
   "name": "python3"
  },
  "language_info": {
   "codemirror_mode": {
    "name": "ipython",
    "version": 3
   },
   "file_extension": ".py",
   "mimetype": "text/x-python",
   "name": "python",
   "nbconvert_exporter": "python",
   "pygments_lexer": "ipython3",
   "version": "3.9.6"
  }
 },
 "nbformat": 4,
 "nbformat_minor": 5
}
